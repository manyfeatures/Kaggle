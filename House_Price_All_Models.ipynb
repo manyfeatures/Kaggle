{
 "cells": [
  {
   "cell_type": "code",
   "execution_count": 5,
   "metadata": {},
   "outputs": [],
   "source": [
    "import pandas as pd\n",
    "import seaborn as sns\n",
    "import matplotlib.pyplot as plt\n",
    "import numpy as np\n",
    "#import pprint\n",
    "from sklearn.preprocessing import LabelEncoder\n",
    "import pydotplus #pip install pydotplus\n",
    "from sklearn.tree import export_graphviz\n",
    "from sklearn.model_selection import TimeSeriesSplit, KFold, GridSearchCV\n",
    "from sklearn.metrics import mean_squared_error\n",
    "# Models\n",
    "from sklearn.tree import DecisionTreeRegressor\n",
    "from sklearn.ensemble import RandomForestRegressor\n",
    "import lightgbm as lgb\n",
    "from time import time"
   ]
  },
  {
   "cell_type": "code",
   "execution_count": 2,
   "metadata": {},
   "outputs": [],
   "source": [
    "df_train = pd.read_csv('./data/train.csv')\n",
    "df_test = pd.read_csv('./data/test.csv')"
   ]
  },
  {
   "cell_type": "code",
   "execution_count": 15,
   "metadata": {},
   "outputs": [
    {
     "name": "stdout",
     "output_type": "stream",
     "text": [
      "757 µs ± 15 µs per loop (mean ± std. dev. of 7 runs, 1000 loops each)\n"
     ]
    }
   ],
   "source": [
    "# Time test\n",
    "%%timeit\n",
    "df_train.MSSubClass+df_train.LotArea**2"
   ]
  },
  {
   "cell_type": "code",
   "execution_count": 30,
   "metadata": {},
   "outputs": [],
   "source": [
    "#df_train.head(3).T"
   ]
  },
  {
   "cell_type": "code",
   "execution_count": 31,
   "metadata": {},
   "outputs": [],
   "source": [
    "#df_train.info()"
   ]
  },
  {
   "cell_type": "code",
   "execution_count": 32,
   "metadata": {},
   "outputs": [],
   "source": [
    "#df_test.info()"
   ]
  },
  {
   "cell_type": "code",
   "execution_count": 33,
   "metadata": {},
   "outputs": [
    {
     "name": "stdout",
     "output_type": "stream",
     "text": [
      "# of unique columns in train set 81\n",
      "# of unique columns in test set 80\n"
     ]
    }
   ],
   "source": [
    "print(\"# of unique columns in train set {}\".format(df_train.columns.nunique()))\n",
    "print(\"# of unique columns in test set {}\".format(df_test.columns.nunique()))"
   ]
  },
  {
   "cell_type": "code",
   "execution_count": 34,
   "metadata": {},
   "outputs": [],
   "source": [
    "types_columns = [str(df_train[str(x)].dtype) for x in list(df_test.columns)]"
   ]
  },
  {
   "cell_type": "markdown",
   "metadata": {},
   "source": [
    "Check if there is any column with identical elements?"
   ]
  },
  {
   "cell_type": "code",
   "execution_count": 35,
   "metadata": {},
   "outputs": [
    {
     "data": {
      "text/plain": [
       "[]"
      ]
     },
     "execution_count": 35,
     "metadata": {},
     "output_type": "execute_result"
    }
   ],
   "source": [
    "cols_to_drop = [col for col in df_train.columns if df_train[col].nunique(dropna=False) == 1]\n",
    "cols_to_drop"
   ]
  },
  {
   "cell_type": "markdown",
   "metadata": {},
   "source": [
    "# Let's treat null values"
   ]
  },
  {
   "cell_type": "markdown",
   "metadata": {},
   "source": [
    "### a) Train set"
   ]
  },
  {
   "cell_type": "markdown",
   "metadata": {},
   "source": [
    "Do we have nan values?"
   ]
  },
  {
   "cell_type": "code",
   "execution_count": 36,
   "metadata": {},
   "outputs": [
    {
     "name": "stdout",
     "output_type": "stream",
     "text": [
      "True\n",
      "# of null elements in train set:  6965\n",
      "# of null elements in test set:  7000\n"
     ]
    }
   ],
   "source": [
    "print(df_train.isnull().any().any())\n",
    "print(\"# of null elements in train set: \", df_train.isnull().sum().sum())\n",
    "print(\"# of null elements in test set: \", df_test.isnull().sum().sum())\n",
    "#nan_rows = df_train[df_train['name column'].isnull()] # #ow with nun\n",
    "cols_with_null = [idx for idx,val in zip(df_train.isnull().any().index,\n",
    "                                         df_train.isnull().any()) if val == True]"
   ]
  },
  {
   "cell_type": "code",
   "execution_count": 37,
   "metadata": {},
   "outputs": [],
   "source": [
    "#print(cols_with_null)"
   ]
  },
  {
   "cell_type": "code",
   "execution_count": 38,
   "metadata": {},
   "outputs": [],
   "source": [
    "#Firstly we will use zeros and means and modes for empty cells\n",
    "df_train[\"LotFrontage\"].fillna(0, inplace=True) # Numeric\n",
    "df_train[\"Alley\"].fillna('None', inplace=True) # Categorical\n",
    "df_train[\"MasVnrType\"].fillna('None', inplace=True) # Categ\n",
    "df_train[\"MasVnrArea\"].fillna(df_train[\"MasVnrArea\"].mean(), inplace=True) # ? \n",
    "df_train[\"BsmtQual\"].fillna('None', inplace=True) # or NA?\n",
    "df_train[\"BsmtCond\"].fillna('None', inplace=True) # or NA?\n",
    "df_train[\"BsmtExposure\"].fillna('None', inplace=True) # or NA?\n",
    "df_train[\"BsmtFinType1\"].fillna('None', inplace=True) # or NA?\n",
    "df_train[\"BsmtFinType2\"].fillna('None', inplace=True) # or NA?\n",
    "df_train[\"Electrical\"].fillna(df_train[\"Electrical\"].mode().values[0], inplace=True) # or NA?\n",
    "df_train[\"FireplaceQu\"].fillna(\"None\", inplace=True) # or NA?\n",
    "df_train[\"GarageType\"].fillna(\"None\", inplace=True) # or NA?\n",
    "df_train[\"GarageYrBlt\"].fillna(df_train[\"GarageYrBlt\"].mode().values[0], inplace=True) # or NA?  \n",
    "df_train[\"GarageFinish\"].fillna('None', inplace=True) # or NA?  \n",
    "df_train[\"GarageQual\"].fillna('None', inplace=True) # or NA?  \n",
    "df_train[\"GarageCond\"].fillna('None', inplace=True) # or NA?  \n",
    "df_train[\"PoolQC\"].fillna('None', inplace=True) # or NA?  \n",
    "df_train[\"Fence\"].fillna('None', inplace=True) # or NA?  \n",
    "df_train[\"MiscFeature\"].fillna('None', inplace=True) # or NA?  "
   ]
  },
  {
   "cell_type": "raw",
   "metadata": {},
   "source": [
    "# Statistics of hull values\n",
    "for col in cols_with_null:\n",
    "    print(col)\n",
    "    print(\"#null: \", df_train[col].isnull().sum())\n",
    "    print(\"#unique: \", df_train[col].unique())\n",
    "    print(\"-------------------\")"
   ]
  },
  {
   "cell_type": "markdown",
   "metadata": {},
   "source": [
    "### b) Test set"
   ]
  },
  {
   "cell_type": "raw",
   "metadata": {},
   "source": [
    "cols_with_null = [idx for idx,val in zip(df_test.isnull().any().index,\n",
    "                                         df_test.isnull().any()) if val == True]\n",
    "print(cols_with_null)"
   ]
  },
  {
   "cell_type": "code",
   "execution_count": 39,
   "metadata": {},
   "outputs": [],
   "source": [
    "df_test[\"MSZoning\"].fillna(df_train[\"MSZoning\"].mode().values[0], inplace=True)\n",
    "df_test[\"LotFrontage\"].fillna(0, inplace=True) # Numeric\n",
    "df_test[\"Alley\"].fillna('None', inplace=True) # Categorical\n",
    "df_test[\"Utilities\"].fillna(df_train[\"Utilities\"].mode().values[0], inplace=True)\n",
    "df_test[\"Exterior1st\"].fillna(df_train[\"Exterior1st\"].values[0], inplace=True)\n",
    "df_test[\"Exterior2nd\"].fillna(df_train[\"Exterior2nd\"].values[0], inplace=True)\n",
    "df_test[\"MasVnrType\"].fillna(\"None\", inplace=True)\n",
    "df_test[\"MasVnrArea\"].fillna(df_train[\"MasVnrArea\"].mean(), inplace=True) # train mean?\n",
    "df_test[\"BsmtQual\"].fillna('None', inplace=True) # or NA?\n",
    "df_test[\"BsmtCond\"].fillna('None', inplace=True) # or NA?\n",
    "df_test[\"BsmtExposure\"].fillna('None', inplace=True) # or NA?\n",
    "df_test[\"BsmtFinType1\"].fillna('None', inplace=True) # or NA?\n",
    "df_test[\"BsmtFinType2\"].fillna('None', inplace=True) # or NA?\n",
    "df_test[\"BsmtFinSF1\"].fillna(df_train[\"BsmtFinSF1\"].mean(), inplace=True) # train mean?\n",
    "df_test[\"BsmtFinSF2\"].fillna(df_train[\"BsmtFinSF2\"].mean(), inplace=True) # train mean?\n",
    "df_test[\"BsmtUnfSF\"].fillna(df_train[\"BsmtUnfSF\"].mean(), inplace=True) # train mean?\n",
    "df_test[\"TotalBsmtSF\"].fillna(df_train[\"TotalBsmtSF\"].mean(), inplace=True) # train mean?\n",
    "df_test[\"BsmtFullBath\"].fillna(0, inplace=True) \n",
    "df_test[\"BsmtHalfBath\"].fillna(0, inplace=True) \n",
    "df_test[\"KitchenQual\"].fillna(df_train[\"KitchenQual\"].mode().values[0], inplace=True) # train mean?\n",
    "df_test[\"Functional\"].fillna(df_train[\"Functional\"].mode().values[0], inplace=True) # train mean?\n",
    "df_test[\"FireplaceQu\"].fillna(df_train[\"FireplaceQu\"].mode().values[0], inplace=True) # train mean?\n",
    "df_test[\"GarageType\"].fillna(\"None\", inplace=True) \n",
    "df_test[\"GarageYrBlt\"].fillna(df_train[\"GarageYrBlt\"].mode().values[0], inplace=True) # train mean?\n",
    "df_test[\"GarageFinish\"].fillna(\"None\", inplace=True)\n",
    "df_test[\"GarageCars\"].fillna(\"None\", inplace=True) \n",
    "df_test[\"GarageArea\"].fillna(\"None\", inplace=True) \n",
    "df_test[\"GarageQual\"].fillna(\"None\", inplace=True) \n",
    "df_test[\"GarageCond\"].fillna(\"None\", inplace=True) \n",
    "df_test[\"PoolQC\"].fillna(\"None\", inplace=True) \n",
    "df_test[\"Fence\"].fillna(\"None\", inplace=True) \n",
    "df_test[\"MiscFeature\"].fillna(\"None\", inplace=True)\n",
    "df_test[\"SaleType\"].fillna(df_train[\"SaleType\"].mode().values[0], inplace=True) "
   ]
  },
  {
   "cell_type": "raw",
   "metadata": {},
   "source": [
    "# Statistics of null values\n",
    "for col in cols_with_null:\n",
    "    print(col)\n",
    "    print(\"#null: \", df_test[col].isnull().sum())\n",
    "    print(\"#unique: \", df_test[col].unique())\n",
    "    print(\"-------------------\")"
   ]
  },
  {
   "cell_type": "markdown",
   "metadata": {},
   "source": [
    "### Data Processing"
   ]
  },
  {
   "cell_type": "code",
   "execution_count": 40,
   "metadata": {},
   "outputs": [],
   "source": [
    "#df_train.info()"
   ]
  },
  {
   "cell_type": "markdown",
   "metadata": {},
   "source": [
    "Price distplot"
   ]
  },
  {
   "cell_type": "code",
   "execution_count": 41,
   "metadata": {},
   "outputs": [
    {
     "data": {
      "image/png": "[encoded data removed]",
      "text/plain": [
       "<Figure size 432x216 with 1 Axes>"
      ]
     },
     "metadata": {
      "needs_background": "light"
     },
     "output_type": "display_data"
    }
   ],
   "source": [
    "plt.figure(figsize=(6, 3))\n",
    "plt.hist(df_train.\n",
    "         loc[df_train['SalePrice'].\n",
    "             isna() == False, 'SalePrice']);"
   ]
  },
  {
   "cell_type": "code",
   "execution_count": 42,
   "metadata": {},
   "outputs": [
    {
     "data": {
      "image/png": "[encoded data removed]",
      "text/plain": [
       "<Figure size 432x216 with 1 Axes>"
      ]
     },
     "metadata": {
      "needs_background": "light"
     },
     "output_type": "display_data"
    }
   ],
   "source": [
    "#log\n",
    "plt.figure(figsize=(6, 3))\n",
    "plt.hist(np.log1p(df_train.\n",
    "                  loc[df_train['SalePrice'].\n",
    "                      isna() == False, 'SalePrice']));\n",
    "#plt.title(\"Random forest, MSE = %.2f\" % np.sum((y_test - rf_predict) ** 2));"
   ]
  },
  {
   "cell_type": "code",
   "execution_count": 43,
   "metadata": {},
   "outputs": [
    {
     "data": {
      "image/png": "[encoded data removed]",
      "text/plain": [
       "<Figure size 432x288 with 1 Axes>"
      ]
     },
     "metadata": {
      "needs_background": "light"
     },
     "output_type": "display_data"
    }
   ],
   "source": [
    "# statplots\n",
    "from scipy import stats\n",
    "res = stats.probplot(df_train['SalePrice'], plot=plt)"
   ]
  },
  {
   "cell_type": "code",
   "execution_count": 44,
   "metadata": {},
   "outputs": [
    {
     "data": {
      "image/png": "[encoded data removed]",
      "text/plain": [
       "<Figure size 432x288 with 1 Axes>"
      ]
     },
     "metadata": {
      "needs_background": "light"
     },
     "output_type": "display_data"
    }
   ],
   "source": [
    "# log\n",
    "# So, it must be better to log scale as it more analytical? So what?\n",
    "res = stats.probplot(np.log1p(df_train['SalePrice']), plot=plt)"
   ]
  },
  {
   "cell_type": "code",
   "execution_count": null,
   "metadata": {},
   "outputs": [],
   "source": []
  },
  {
   "cell_type": "markdown",
   "metadata": {},
   "source": [
    "### Conversion to categorical data"
   ]
  },
  {
   "cell_type": "code",
   "execution_count": 45,
   "metadata": {},
   "outputs": [],
   "source": [
    "cat_cols = []\n",
    "for col in set(list(df_train.columns)+list(df_test.columns)).difference([\"SalePrice\"]):\n",
    "    #print(df_train[str(col)].dtype)\n",
    "    if str(df_train[str(col)].dtype) == \"object\" or str(df_test[str(col)].dtype) == \"object\":\n",
    "        cat_cols.append(col)"
   ]
  },
  {
   "cell_type": "code",
   "execution_count": 46,
   "metadata": {},
   "outputs": [],
   "source": [
    "for col in cat_cols:\n",
    "    #print(col)\n",
    "    lbl = LabelEncoder() # transform str to numbers\n",
    "    lbl.fit(list(df_train[col].values.astype('str')) + list(df_test[col].values.astype('str')))\n",
    "    df_train[col] = lbl.transform(list(df_train[col].values.astype('str')))\n",
    "    df_test[col] = lbl.transform(list(df_test[col].values.astype('str')))\n",
    "# it seems OK"
   ]
  },
  {
   "cell_type": "markdown",
   "metadata": {},
   "source": [
    "Log of price"
   ]
  },
  {
   "cell_type": "code",
   "execution_count": 47,
   "metadata": {},
   "outputs": [],
   "source": [
    "df_train[\"SalePrice\"] = np.log1p(df_train[\"SalePrice\"])"
   ]
  },
  {
   "cell_type": "markdown",
   "metadata": {},
   "source": [
    "### Decision Tree"
   ]
  },
  {
   "cell_type": "code",
   "execution_count": 48,
   "metadata": {},
   "outputs": [],
   "source": [
    "x_train = df_train.drop([\"Id\",\"SalePrice\"], axis=1) # drop indeces, convert to numeric\n",
    "y_train = df_train[\"SalePrice\"]"
   ]
  },
  {
   "cell_type": "code",
   "execution_count": 167,
   "metadata": {},
   "outputs": [],
   "source": [
    "reg_tree = DecisionTreeRegressor(max_depth=20, random_state=17)\n",
    "reg_tree.fit(x_train, y_train)\n",
    "reg_tree_pred = reg_tree.predict(df_test.drop(\"Id\",axis=1))"
   ]
  },
  {
   "cell_type": "markdown",
   "metadata": {},
   "source": [
    "Postprocessing"
   ]
  },
  {
   "cell_type": "code",
   "execution_count": 164,
   "metadata": {},
   "outputs": [],
   "source": [
    "def tree_graph_to_png(tree, feature_names, png_file_to_save):\n",
    "    tree_str = export_graphviz(tree, feature_names=feature_names, \n",
    "                                     filled=True, out_file=None)\n",
    "    graph = pydotplus.graph_from_dot_data(tree_str)  \n",
    "    graph.write_png(png_file_to_save)"
   ]
  },
  {
   "cell_type": "code",
   "execution_count": 158,
   "metadata": {},
   "outputs": [],
   "source": [
    "# Image creation\n",
    "tree_graph_to_png(tree=reg_tree, feature_names=df_test.drop(\"Id\",axis=1).columns, \n",
    "                  png_file_to_save='topic3_tree1.png')"
   ]
  },
  {
   "cell_type": "markdown",
   "metadata": {},
   "source": [
    "### Light GBM"
   ]
  },
  {
   "cell_type": "code",
   "execution_count": 175,
   "metadata": {},
   "outputs": [],
   "source": [
    "params = {\"objective\" : \"regression\", \"metric\" : \"rmse\", \"max_depth\": 9, \"min_child_samples\": 20, \"reg_alpha\": 0.2, \"reg_lambda\": 0.2,\n",
    "        \"num_leaves\" : 257, \"learning_rate\" : 0.005, \"subsample\" : 0.9, \"colsample_bytree\" : 0.9, \"subsample_freq \": 10}\n",
    "n_fold = 5\n",
    "folds = KFold(n_splits=n_fold, shuffle=False, random_state=42)\n",
    "# Cleaning and defining parameters for LGBM\n",
    "model = lgb.LGBMRegressor(**params, n_estimators = 20000, nthread = 4, n_jobs = -1)"
   ]
  },
  {
   "cell_type": "code",
   "execution_count": 182,
   "metadata": {},
   "outputs": [
    {
     "name": "stdout",
     "output_type": "stream",
     "text": [
      "Fold: 0\n",
      "Training until validation scores don't improve for 100 rounds.\n",
      "[500]\ttraining's rmse: 0.105875\tvalid_1's rmse: 0.135763\n",
      "[1000]\ttraining's rmse: 0.0742598\tvalid_1's rmse: 0.12418\n",
      "[1500]\ttraining's rmse: 0.0620341\tvalid_1's rmse: 0.123503\n",
      "[2000]\ttraining's rmse: 0.0536299\tvalid_1's rmse: 0.122837\n",
      "[2500]\ttraining's rmse: 0.0468406\tvalid_1's rmse: 0.122337\n",
      "[3000]\ttraining's rmse: 0.0412277\tvalid_1's rmse: 0.121944\n",
      "Early stopping, best iteration is:\n",
      "[3192]\ttraining's rmse: 0.039316\tvalid_1's rmse: 0.12188\n",
      "Fold: 1\n",
      "Training until validation scores don't improve for 100 rounds.\n",
      "[500]\ttraining's rmse: 0.100454\tvalid_1's rmse: 0.161086\n",
      "[1000]\ttraining's rmse: 0.0682468\tvalid_1's rmse: 0.147716\n",
      "[1500]\ttraining's rmse: 0.0557288\tvalid_1's rmse: 0.146525\n",
      "Early stopping, best iteration is:\n",
      "[1559]\ttraining's rmse: 0.0544858\tvalid_1's rmse: 0.146469\n",
      "Fold: 2\n",
      "Training until validation scores don't improve for 100 rounds.\n",
      "[500]\ttraining's rmse: 0.104028\tvalid_1's rmse: 0.156388\n",
      "[1000]\ttraining's rmse: 0.0711789\tvalid_1's rmse: 0.136831\n",
      "[1500]\ttraining's rmse: 0.0601636\tvalid_1's rmse: 0.134529\n",
      "[2000]\ttraining's rmse: 0.0521494\tvalid_1's rmse: 0.134353\n",
      "Early stopping, best iteration is:\n",
      "[1924]\ttraining's rmse: 0.0532607\tvalid_1's rmse: 0.134333\n",
      "Fold: 3\n",
      "Training until validation scores don't improve for 100 rounds.\n",
      "[500]\ttraining's rmse: 0.104215\tvalid_1's rmse: 0.133041\n",
      "[1000]\ttraining's rmse: 0.0705521\tvalid_1's rmse: 0.120056\n",
      "Early stopping, best iteration is:\n",
      "[1301]\ttraining's rmse: 0.0621838\tvalid_1's rmse: 0.119249\n",
      "Fold: 4\n",
      "Training until validation scores don't improve for 100 rounds.\n",
      "[500]\ttraining's rmse: 0.102111\tvalid_1's rmse: 0.148128\n",
      "[1000]\ttraining's rmse: 0.0708135\tvalid_1's rmse: 0.136378\n",
      "[1500]\ttraining's rmse: 0.0583918\tvalid_1's rmse: 0.134142\n",
      "Early stopping, best iteration is:\n",
      "[1777]\ttraining's rmse: 0.0531003\tvalid_1's rmse: 0.133801\n"
     ]
    }
   ],
   "source": [
    "X = df_train.drop([\"Id\", \"SalePrice\"], axis = 1)\n",
    "y = df_train[\"SalePrice\"]\n",
    "\n",
    "prediction = np.zeros(df_test.shape[0])\n",
    "\n",
    "for fold_n, (train_index, test_index) in enumerate(folds.split(X)):\n",
    "    print('Fold:', fold_n)\n",
    "    X_train, X_valid = X.iloc[train_index], X.iloc[test_index]\n",
    "    y_train, y_valid = y.iloc[train_index], y.iloc[test_index]\n",
    "    \n",
    "\n",
    "    model.fit(X_train, y_train, \n",
    "            eval_set=[(X_train, y_train), (X_valid, y_valid)], eval_metric='rmse',\n",
    "            verbose=500, early_stopping_rounds=100)\n",
    "    \n",
    "    y_pred = model.predict(df_test.drop(\"Id\", axis=1), num_iteration=model.best_iteration_)\n",
    "    prediction += y_pred\n",
    "prediction /= n_fold"
   ]
  },
  {
   "cell_type": "markdown",
   "metadata": {},
   "source": [
    "### Random Forest Regressor"
   ]
  },
  {
   "cell_type": "code",
   "execution_count": 120,
   "metadata": {},
   "outputs": [],
   "source": [
    "#Note: Bagging reminds of the RF as well\n",
    "\n",
    "# The main difference between random forests and bagging is that,\n",
    "# in a random forest, the best feature for a split is selected from\n",
    "# a random subset of the available features while, in bagging,\n",
    "# all features are considered for the next best split."
   ]
  },
  {
   "cell_type": "code",
   "execution_count": 49,
   "metadata": {},
   "outputs": [],
   "source": [
    "x_train = df_train.drop([\"Id\",\"SalePrice\"], axis=1) # drop indeces, convert to numeric\n",
    "y_train = df_train[\"SalePrice\"]"
   ]
  },
  {
   "cell_type": "markdown",
   "metadata": {},
   "source": [
    "a) Simple alg"
   ]
  },
  {
   "cell_type": "code",
   "execution_count": 101,
   "metadata": {},
   "outputs": [],
   "source": [
    "rf = RandomForestRegressor(n_estimators=10).fit(x_train, y_train)\n",
    "rf_pred = rf.predict(df_test.drop(\"Id\",axis=1))"
   ]
  },
  {
   "cell_type": "code",
   "execution_count": 102,
   "metadata": {},
   "outputs": [],
   "source": [
    "rf_pred[rf_pred < 0]=0"
   ]
  },
  {
   "cell_type": "code",
   "execution_count": 103,
   "metadata": {},
   "outputs": [
    {
     "data": {
      "text/plain": [
       "array([11.73742618, 11.95386535, 12.13713822, ..., 11.86745066,\n",
       "       11.58154863, 12.3886988 ])"
      ]
     },
     "execution_count": 103,
     "metadata": {},
     "output_type": "execute_result"
    }
   ],
   "source": [
    "rf_pred"
   ]
  },
  {
   "cell_type": "markdown",
   "metadata": {},
   "source": [
    "b) More advanced + cross validation?"
   ]
  },
  {
   "cell_type": "code",
   "execution_count": 50,
   "metadata": {},
   "outputs": [
    {
     "name": "stdout",
     "output_type": "stream",
     "text": [
      "mean cross validation score: 0.8714405571743798\n",
      "score without cv: 0.9821771772681734\n"
     ]
    }
   ],
   "source": [
    "from sklearn.model_selection import cross_val_score, StratifiedKFold\n",
    "# Initialize a stratified split of our dataset for the validation process\n",
    "# Create 5 datasets\n",
    "# skf = StratifiedKFold(n_splits=5, shuffle=True, random_state=42)\n",
    "\"\"\"\n",
    "   It works only for classification problem?\n",
    "    \n",
    "   From docs:\n",
    "   For integer/None inputs, if the estimator is a classifier\n",
    "   and y is either binary or multiclass, StratifiedKFold is used.\n",
    "   In all other cases, KFold is used.\n",
    "\"\"\"\n",
    "\n",
    "# Initialize the regressor with the default parameters \n",
    "rfr = RandomForestRegressor(n_estimators=100, random_state=42, n_jobs=-1, oob_score=False)\n",
    "rfr_fit = rfr.fit(x_train, y_train)\n",
    "\n",
    "# ? \n",
    "dt_scores = cross_val_score(rfr_fit, x_train, y_train, cv=5)\n",
    "print(\"mean cross validation score: {}\".format(np.mean(dt_scores)))\n",
    "print(\"score without cv: {}\".format(rfr_fit.score(x_train, y_train)))\n",
    "\n",
    "# WTF bitch?"
   ]
  },
  {
   "cell_type": "code",
   "execution_count": null,
   "metadata": {},
   "outputs": [],
   "source": [
    "rf_pred = rfr.predict(df_test.drop(\"Id\",axis=1))"
   ]
  },
  {
   "cell_type": "code",
   "execution_count": 147,
   "metadata": {},
   "outputs": [],
   "source": [
    "rf_pred[rf_pred<0] = 0"
   ]
  },
  {
   "cell_type": "code",
   "execution_count": 192,
   "metadata": {},
   "outputs": [],
   "source": [
    "rf_pred = rfr.predict(df_test.drop(\"Id\",axis=1))\n",
    "rf_pred[rf_pred<0] = 0"
   ]
  },
  {
   "cell_type": "markdown",
   "metadata": {},
   "source": [
    "c) With KFold and without cross_val_score #?"
   ]
  },
  {
   "cell_type": "code",
   "execution_count": 54,
   "metadata": {},
   "outputs": [
    {
     "name": "stdout",
     "output_type": "stream",
     "text": [
      "Best accuracy on CV is 89.53\n"
     ]
    }
   ],
   "source": [
    "from sklearn.model_selection import cross_val_score, StratifiedKFold\n",
    "# Initialize a stratified split of our dataset for the validation process\n",
    "# Create 5 datasets\n",
    "folds = KFold(n_splits=5, shuffle=True, random_state=42)\n",
    "\n",
    "train_acc = []\n",
    "test_acc = []\n",
    "\n",
    "rfr = RandomForestRegressor(n_estimators=100, random_state=42,\n",
    "                            n_jobs=-1, oob_score=True)\n",
    "for train_idx, test_idx in folds.split(x_train, y_train):\n",
    "    X_train_, X_test_ = x_train.iloc[train_idx], x_train.iloc[test_idx]\n",
    "    y_train_, y_test_ = y_train.iloc[train_idx], y_train.iloc[test_idx]\n",
    "    rfr.fit(X_train_, y_train_)\n",
    "    train_acc.append(rfr.score(X_train_, y_train_))\n",
    "    test_acc.append(rfr.score(X_test_, y_test_))\n",
    "    \n",
    "print(\"Best accuracy on CV is {:.2f}\".format(max(test_acc)*100))"
   ]
  },
  {
   "cell_type": "code",
   "execution_count": 192,
   "metadata": {},
   "outputs": [],
   "source": [
    "rf_pred = rfr.predict(df_test.drop(\"Id\",axis=1))\n",
    "rf_pred[rf_pred<0] = 0"
   ]
  },
  {
   "cell_type": "markdown",
   "metadata": {},
   "source": [
    "d) KFold with cross_val_score"
   ]
  },
  {
   "cell_type": "code",
   "execution_count": 57,
   "metadata": {},
   "outputs": [
    {
     "name": "stdout",
     "output_type": "stream",
     "text": [
      "CV accuracy score: 86.50%\n"
     ]
    }
   ],
   "source": [
    "# Create 5 datasets\n",
    "folds = KFold(n_splits=5, shuffle=True, random_state=42)\n",
    "\n",
    "rfr = RandomForestRegressor(n_estimators=100, random_state=42,\n",
    "                            n_jobs=-1, oob_score=True)\n",
    "\n",
    "results = cross_val_score(rfr, x_train, y_train, cv=folds)\n",
    "print(\"CV accuracy score: {:.2f}%\".format(results.mean()*100))"
   ]
  },
  {
   "cell_type": "markdown",
   "metadata": {},
   "source": [
    "e) tree_grid optimization"
   ]
  },
  {
   "cell_type": "code",
   "execution_count": 82,
   "metadata": {},
   "outputs": [
    {
     "name": "stdout",
     "output_type": "stream",
     "text": [
      "Best accuracy on CV is 86.59% with 50 trees\n"
     ]
    }
   ],
   "source": [
    "from sklearn.model_selection import cross_val_score, StratifiedKFold\n",
    "# Initialize a stratified split of our dataset for the validation process\n",
    "# Create 5 datasets\n",
    "folds = KFold(n_splits=5, shuffle=True, random_state=42)\n",
    "\n",
    "train_acc = []\n",
    "test_acc = []\n",
    "temp_train_acc = []\n",
    "temp_test_acc = []\n",
    "\n",
    "trees_grid = [5, 10, 15, 20, 30, 50, 75, 100]\n",
    "\n",
    "for ntrees in trees_grid:\n",
    "    temp_train_acc = []\n",
    "    temp_test_acc = []\n",
    "    rfr = RandomForestRegressor(n_estimators=ntrees, random_state=42,\n",
    "                                n_jobs=-1, oob_score=False)\n",
    "    for train_idx, test_idx in folds.split(x_train, y_train):\n",
    "        X_train_, X_test_ = x_train.iloc[train_idx], x_train.iloc[test_idx]\n",
    "        y_train_, y_test_ = y_train.iloc[train_idx], y_train.iloc[test_idx]\n",
    "        rfr.fit(X_train_, y_train_)\n",
    "        temp_train_acc.append(rfr.score(X_train_, y_train_))\n",
    "        temp_test_acc.append(rfr.score(X_test_, y_test_))\n",
    "    train_acc.append(temp_train_acc)\n",
    "    test_acc.append(temp_test_acc)\n",
    "\n",
    "train_acc, test_acc = np.asarray(train_acc), np.asarray(test_acc)\n",
    "print(\"Best accuracy on CV is {:.2f}% with {} trees\".\n",
    "      format(max(test_acc.mean(axis=1))*100,\\\n",
    "             trees_grid[np.argmax(test_acc.mean(axis=1))]))"
   ]
  },
  {
   "cell_type": "code",
   "execution_count": 83,
   "metadata": {},
   "outputs": [
    {
     "data": {
      "image/png": "[encoded data removed]",
      "text/plain": [
       "<Figure size 576x288 with 1 Axes>"
      ]
     },
     "metadata": {},
     "output_type": "display_data"
    }
   ],
   "source": [
    "# Use this kind of plot somewhere else\n",
    "plt.style.use('ggplot')\n",
    "\n",
    "fig, ax = plt.subplots(figsize=(8, 4))\n",
    "ax.plot(trees_grid, train_acc.mean(axis=1), alpha=0.5, color='blue', label='train')\n",
    "ax.plot(trees_grid, test_acc.mean(axis=1), alpha=0.5, color='red', label='cv')\n",
    "ax.fill_between(trees_grid, test_acc.mean(axis=1) - test_acc.std(axis=1), test_acc.mean(axis=1) + test_acc.std(axis=1), color='#888888', alpha=0.4)\n",
    "ax.fill_between(trees_grid, test_acc.mean(axis=1) - 2*test_acc.std(axis=1), test_acc.mean(axis=1) + 2*test_acc.std(axis=1), color='#888888', alpha=0.2)\n",
    "ax.legend(loc='best')\n",
    "ax.set_ylim([0.70,1.02])\n",
    "ax.set_ylabel(\"Accuracy\")\n",
    "ax.set_xlabel(\"N_estimators\");"
   ]
  },
  {
   "cell_type": "markdown",
   "metadata": {},
   "source": [
    "Feature importance"
   ]
  },
  {
   "cell_type": "code",
   "execution_count": 88,
   "metadata": {},
   "outputs": [
    {
     "name": "stdout",
     "output_type": "stream",
     "text": [
      "Feature ranking:\n",
      "1. OverallQual 0.548957 \n",
      "2. GrLivArea 0.102565 \n",
      "3. TotalBsmtSF 0.052472 \n",
      "4. GarageCars 0.045945 \n",
      "5. 1stFlrSF 0.022011 \n",
      "6. BsmtFinSF1 0.018500 \n",
      "7. GarageType 0.016004 \n",
      "8. YearBuilt 0.015455 \n",
      "9. GarageArea 0.015214 \n",
      "10. LotArea 0.015002 \n"
     ]
    },
    {
     "data": {
      "image/png": "[encoded data removed]",
      "text/plain": [
       "<Figure size 1080x360 with 1 Axes>"
      ]
     },
     "metadata": {},
     "output_type": "display_data"
    }
   ],
   "source": [
    "#Check it!\n",
    "importances = rfr.feature_importances_\n",
    "\n",
    "indices = np.argsort(importances)[::-1]\n",
    "\n",
    "num_to_plot = 10\n",
    "feature_indices = [ind+1 for ind in indices[:num_to_plot]]\n",
    "\n",
    "# Print the feature ranking\n",
    "print(\"Feature ranking:\")\n",
    "  \n",
    "for f in range(num_to_plot):\n",
    "    print(\"%d. %s %f \" % (f + 1, \n",
    "            df_train.columns[feature_indices[f]], \n",
    "            importances[indices[f]]))\n",
    "plt.figure(figsize=(15,5))\n",
    "plt.title(u\"Feature Importance\")\n",
    "bars = plt.bar(range(num_to_plot), \n",
    "               importances[indices[:num_to_plot]],\n",
    "       color=([str(i/float(num_to_plot+1)) \n",
    "               for i in range(num_to_plot)]),\n",
    "               align=\"center\")\n",
    "ticks = plt.xticks(range(num_to_plot), \n",
    "                   feature_indices)\n",
    "plt.xlim([-1, num_to_plot])\n",
    "plt.legend(bars, [u''.join(df_train.columns[i]) \n",
    "                  for i in feature_indices]);"
   ]
  },
  {
   "cell_type": "markdown",
   "metadata": {},
   "source": [
    "f) GridSearch to find the optimal parameters"
   ]
  },
  {
   "cell_type": "code",
   "execution_count": 79,
   "metadata": {},
   "outputs": [
    {
     "ename": "AttributeError",
     "evalue": "'DataFrame' object has no attribute 'n_splits'",
     "output_type": "error",
     "traceback": [
      "\u001b[1;31m---------------------------------------------------------------------------\u001b[0m",
      "\u001b[1;31mAttributeError\u001b[0m                            Traceback (most recent call last)",
      "\u001b[1;32m<ipython-input-79-63527008ca68>\u001b[0m in \u001b[0;36m<module>\u001b[1;34m()\u001b[0m\n\u001b[0;32m      6\u001b[0m                              n_jobs=-1, oob_score=False)\n\u001b[0;32m      7\u001b[0m \u001b[0mgcv\u001b[0m \u001b[1;33m=\u001b[0m \u001b[0mGridSearchCV\u001b[0m\u001b[1;33m(\u001b[0m\u001b[0mrfr\u001b[0m\u001b[1;33m,\u001b[0m \u001b[0mparameters\u001b[0m\u001b[1;33m,\u001b[0m \u001b[0mn_jobs\u001b[0m\u001b[1;33m=\u001b[0m\u001b[1;33m-\u001b[0m\u001b[1;36m1\u001b[0m\u001b[1;33m,\u001b[0m \u001b[0mcv\u001b[0m\u001b[1;33m=\u001b[0m\u001b[0mKFold\u001b[0m\u001b[1;33m,\u001b[0m \u001b[0mverbose\u001b[0m\u001b[1;33m=\u001b[0m\u001b[1;36m1\u001b[0m\u001b[1;33m)\u001b[0m\u001b[1;33m\u001b[0m\u001b[0m\n\u001b[1;32m----> 8\u001b[1;33m \u001b[0mgcv\u001b[0m\u001b[1;33m.\u001b[0m\u001b[0mfit\u001b[0m\u001b[1;33m(\u001b[0m\u001b[0mx_train\u001b[0m\u001b[1;33m,\u001b[0m \u001b[0my_train\u001b[0m\u001b[1;33m)\u001b[0m\u001b[1;33m\u001b[0m\u001b[0m\n\u001b[0m\u001b[0;32m      9\u001b[0m \u001b[1;33m\u001b[0m\u001b[0m\n\u001b[0;32m     10\u001b[0m \u001b[1;31m# what the fuck? n_splits\u001b[0m\u001b[1;33m\u001b[0m\u001b[1;33m\u001b[0m\u001b[0m\n",
      "\u001b[1;32m~\\Anaconda3\\lib\\site-packages\\sklearn\\model_selection\\_search.py\u001b[0m in \u001b[0;36mfit\u001b[1;34m(self, X, y, groups, **fit_params)\u001b[0m\n\u001b[0;32m    673\u001b[0m \u001b[1;33m\u001b[0m\u001b[0m\n\u001b[0;32m    674\u001b[0m         \u001b[0mX\u001b[0m\u001b[1;33m,\u001b[0m \u001b[0my\u001b[0m\u001b[1;33m,\u001b[0m \u001b[0mgroups\u001b[0m \u001b[1;33m=\u001b[0m \u001b[0mindexable\u001b[0m\u001b[1;33m(\u001b[0m\u001b[0mX\u001b[0m\u001b[1;33m,\u001b[0m \u001b[0my\u001b[0m\u001b[1;33m,\u001b[0m \u001b[0mgroups\u001b[0m\u001b[1;33m)\u001b[0m\u001b[1;33m\u001b[0m\u001b[0m\n\u001b[1;32m--> 675\u001b[1;33m         \u001b[0mn_splits\u001b[0m \u001b[1;33m=\u001b[0m \u001b[0mcv\u001b[0m\u001b[1;33m.\u001b[0m\u001b[0mget_n_splits\u001b[0m\u001b[1;33m(\u001b[0m\u001b[0mX\u001b[0m\u001b[1;33m,\u001b[0m \u001b[0my\u001b[0m\u001b[1;33m,\u001b[0m \u001b[0mgroups\u001b[0m\u001b[1;33m)\u001b[0m\u001b[1;33m\u001b[0m\u001b[0m\n\u001b[0m\u001b[0;32m    676\u001b[0m \u001b[1;33m\u001b[0m\u001b[0m\n\u001b[0;32m    677\u001b[0m         \u001b[0mbase_estimator\u001b[0m \u001b[1;33m=\u001b[0m \u001b[0mclone\u001b[0m\u001b[1;33m(\u001b[0m\u001b[0mself\u001b[0m\u001b[1;33m.\u001b[0m\u001b[0mestimator\u001b[0m\u001b[1;33m)\u001b[0m\u001b[1;33m\u001b[0m\u001b[0m\n",
      "\u001b[1;32m~\\Anaconda3\\lib\\site-packages\\sklearn\\model_selection\\_split.py\u001b[0m in \u001b[0;36mget_n_splits\u001b[1;34m(self, X, y, groups)\u001b[0m\n\u001b[0;32m    351\u001b[0m             \u001b[0mReturns\u001b[0m \u001b[0mthe\u001b[0m \u001b[0mnumber\u001b[0m \u001b[0mof\u001b[0m \u001b[0msplitting\u001b[0m \u001b[0miterations\u001b[0m \u001b[1;32min\u001b[0m \u001b[0mthe\u001b[0m \u001b[0mcross\u001b[0m\u001b[1;33m-\u001b[0m\u001b[0mvalidator\u001b[0m\u001b[1;33m.\u001b[0m\u001b[1;33m\u001b[0m\u001b[0m\n\u001b[0;32m    352\u001b[0m         \"\"\"\n\u001b[1;32m--> 353\u001b[1;33m         \u001b[1;32mreturn\u001b[0m \u001b[0mself\u001b[0m\u001b[1;33m.\u001b[0m\u001b[0mn_splits\u001b[0m\u001b[1;33m\u001b[0m\u001b[0m\n\u001b[0m\u001b[0;32m    354\u001b[0m \u001b[1;33m\u001b[0m\u001b[0m\n\u001b[0;32m    355\u001b[0m \u001b[1;33m\u001b[0m\u001b[0m\n",
      "\u001b[1;32m~\\Anaconda3\\lib\\site-packages\\pandas\\core\\generic.py\u001b[0m in \u001b[0;36m__getattr__\u001b[1;34m(self, name)\u001b[0m\n\u001b[0;32m   4374\u001b[0m             \u001b[1;32mif\u001b[0m \u001b[0mself\u001b[0m\u001b[1;33m.\u001b[0m\u001b[0m_info_axis\u001b[0m\u001b[1;33m.\u001b[0m\u001b[0m_can_hold_identifiers_and_holds_name\u001b[0m\u001b[1;33m(\u001b[0m\u001b[0mname\u001b[0m\u001b[1;33m)\u001b[0m\u001b[1;33m:\u001b[0m\u001b[1;33m\u001b[0m\u001b[0m\n\u001b[0;32m   4375\u001b[0m                 \u001b[1;32mreturn\u001b[0m \u001b[0mself\u001b[0m\u001b[1;33m[\u001b[0m\u001b[0mname\u001b[0m\u001b[1;33m]\u001b[0m\u001b[1;33m\u001b[0m\u001b[0m\n\u001b[1;32m-> 4376\u001b[1;33m             \u001b[1;32mreturn\u001b[0m \u001b[0mobject\u001b[0m\u001b[1;33m.\u001b[0m\u001b[0m__getattribute__\u001b[0m\u001b[1;33m(\u001b[0m\u001b[0mself\u001b[0m\u001b[1;33m,\u001b[0m \u001b[0mname\u001b[0m\u001b[1;33m)\u001b[0m\u001b[1;33m\u001b[0m\u001b[0m\n\u001b[0m\u001b[0;32m   4377\u001b[0m \u001b[1;33m\u001b[0m\u001b[0m\n\u001b[0;32m   4378\u001b[0m     \u001b[1;32mdef\u001b[0m \u001b[0m__setattr__\u001b[0m\u001b[1;33m(\u001b[0m\u001b[0mself\u001b[0m\u001b[1;33m,\u001b[0m \u001b[0mname\u001b[0m\u001b[1;33m,\u001b[0m \u001b[0mvalue\u001b[0m\u001b[1;33m)\u001b[0m\u001b[1;33m:\u001b[0m\u001b[1;33m\u001b[0m\u001b[0m\n",
      "\u001b[1;31mAttributeError\u001b[0m: 'DataFrame' object has no attribute 'n_splits'"
     ]
    }
   ],
   "source": [
    "# Initialize the set of parameters for exhaustive search and fit \n",
    "parameters = {'max_features': [4, 7, 10, 13],\n",
    "              'min_samples_leaf': [1, 3, 5, 7],\n",
    "              'max_depth': [5,10,15,20]}\n",
    "rfr = RandomForestRegressor(n_estimators=100, random_state=42, \n",
    "                             n_jobs=-1, oob_score=False)\n",
    "gcv = GridSearchCV(rfr, parameters, n_jobs=-1, cv=KFold, verbose=1)\n",
    "gcv.fit(x_train, y_train)\n",
    "\n",
    "# what the fuck? n_splits"
   ]
  },
  {
   "cell_type": "markdown",
   "metadata": {},
   "source": [
    "### Submission"
   ]
  },
  {
   "cell_type": "code",
   "execution_count": 193,
   "metadata": {},
   "outputs": [],
   "source": [
    "sub = pd.DataFrame(data={\"SalePrice\":np.expm1(rf_pred)})\n",
    "sub[\"Id\"] = df_test[\"Id\"].copy(deep=True)\n",
    "sub.set_index(\"Id\", inplace=True) # Set id as index\n",
    "\n",
    "sub.to_csv(\"sub.csv\", index=True)"
   ]
  },
  {
   "cell_type": "markdown",
   "metadata": {},
   "source": [
    "# End of submission"
   ]
  }
 ],
 "metadata": {
  "kernelspec": {
   "display_name": "Python 3",
   "language": "python",
   "name": "python3"
  },
  "language_info": {
   "codemirror_mode": {
    "name": "ipython",
    "version": 3
   },
   "file_extension": ".py",
   "mimetype": "text/x-python",
   "name": "python",
   "nbconvert_exporter": "python",
   "pygments_lexer": "ipython3",
   "version": "3.5.4"
  }
 },
 "nbformat": 4,
 "nbformat_minor": 2
}
