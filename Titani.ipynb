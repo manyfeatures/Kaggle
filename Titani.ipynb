{
 "cells": [
  {
   "cell_type": "code",
   "execution_count": 39,
   "metadata": {},
   "outputs": [],
   "source": [
    "import pandas as pd\n",
    "import seaborn as sns\n",
    "import numpy as np\n",
    "import matplotlib.pyplot as plt"
   ]
  },
  {
   "cell_type": "code",
   "execution_count": 40,
   "metadata": {},
   "outputs": [],
   "source": [
    "data_train = pd.read_csv('./data/train.csv')"
   ]
  },
  {
   "cell_type": "code",
   "execution_count": 41,
   "metadata": {},
   "outputs": [
    {
     "name": "stdout",
     "output_type": "stream",
     "text": [
      "<class 'pandas.core.frame.DataFrame'>\n",
      "RangeIndex: 891 entries, 0 to 890\n",
      "Data columns (total 12 columns):\n",
      "PassengerId    891 non-null int64\n",
      "Survived       891 non-null int64\n",
      "Pclass         891 non-null int64\n",
      "Name           891 non-null object\n",
      "Sex            891 non-null object\n",
      "Age            714 non-null float64\n",
      "SibSp          891 non-null int64\n",
      "Parch          891 non-null int64\n",
      "Ticket         891 non-null object\n",
      "Fare           891 non-null float64\n",
      "Cabin          204 non-null object\n",
      "Embarked       889 non-null object\n",
      "dtypes: float64(2), int64(5), object(5)\n",
      "memory usage: 83.6+ KB\n"
     ]
    }
   ],
   "source": [
    "data_train.info()"
   ]
  },
  {
   "cell_type": "code",
   "execution_count": 42,
   "metadata": {},
   "outputs": [
    {
     "data": {
      "text/plain": [
       "Index(['PassengerId', 'Survived', 'Pclass', 'Name', 'Sex', 'Age', 'SibSp',\n",
       "       'Parch', 'Ticket', 'Fare', 'Cabin', 'Embarked'],\n",
       "      dtype='object')"
      ]
     },
     "execution_count": 42,
     "metadata": {},
     "output_type": "execute_result"
    }
   ],
   "source": [
    "data_train.columns"
   ]
  },
  {
   "cell_type": "code",
   "execution_count": 43,
   "metadata": {},
   "outputs": [],
   "source": [
    "data_train = data_train.drop([\"Name\"], axis = 1)"
   ]
  },
  {
   "cell_type": "code",
   "execution_count": 44,
   "metadata": {},
   "outputs": [],
   "source": [
    "#data_train[\"Ticket\"].unique()"
   ]
  },
  {
   "cell_type": "code",
   "execution_count": 45,
   "metadata": {},
   "outputs": [],
   "source": [
    "data_train = data_train.drop([\"Ticket\"], axis = 1)"
   ]
  },
  {
   "cell_type": "code",
   "execution_count": 46,
   "metadata": {},
   "outputs": [],
   "source": [
    "#data_train[\"Cabin\"].unique()"
   ]
  },
  {
   "cell_type": "code",
   "execution_count": 47,
   "metadata": {},
   "outputs": [],
   "source": [
    "data_train = data_train.drop([\"Cabin\"], axis = 1)"
   ]
  },
  {
   "cell_type": "code",
   "execution_count": 48,
   "metadata": {},
   "outputs": [],
   "source": [
    "#data_train[\"Embarked\"].unique()"
   ]
  },
  {
   "cell_type": "code",
   "execution_count": 49,
   "metadata": {},
   "outputs": [],
   "source": [
    "data_train = data_train.drop([\"Embarked\"], axis = 1)"
   ]
  },
  {
   "cell_type": "code",
   "execution_count": 50,
   "metadata": {},
   "outputs": [
    {
     "data": {
      "text/html": [
       "<div>\n",
       "<style scoped>\n",
       "    .dataframe tbody tr th:only-of-type {\n",
       "        vertical-align: middle;\n",
       "    }\n",
       "\n",
       "    .dataframe tbody tr th {\n",
       "        vertical-align: top;\n",
       "    }\n",
       "\n",
       "    .dataframe thead th {\n",
       "        text-align: right;\n",
       "    }\n",
       "</style>\n",
       "<table border=\"1\" class=\"dataframe\">\n",
       "  <thead>\n",
       "    <tr style=\"text-align: right;\">\n",
       "      <th></th>\n",
       "      <th>PassengerId</th>\n",
       "      <th>Survived</th>\n",
       "      <th>Pclass</th>\n",
       "      <th>Sex</th>\n",
       "      <th>Age</th>\n",
       "      <th>SibSp</th>\n",
       "      <th>Parch</th>\n",
       "      <th>Fare</th>\n",
       "    </tr>\n",
       "  </thead>\n",
       "  <tbody>\n",
       "    <tr>\n",
       "      <th>0</th>\n",
       "      <td>1</td>\n",
       "      <td>0</td>\n",
       "      <td>3</td>\n",
       "      <td>male</td>\n",
       "      <td>22.0</td>\n",
       "      <td>1</td>\n",
       "      <td>0</td>\n",
       "      <td>7.2500</td>\n",
       "    </tr>\n",
       "    <tr>\n",
       "      <th>1</th>\n",
       "      <td>2</td>\n",
       "      <td>1</td>\n",
       "      <td>1</td>\n",
       "      <td>female</td>\n",
       "      <td>38.0</td>\n",
       "      <td>1</td>\n",
       "      <td>0</td>\n",
       "      <td>71.2833</td>\n",
       "    </tr>\n",
       "    <tr>\n",
       "      <th>2</th>\n",
       "      <td>3</td>\n",
       "      <td>1</td>\n",
       "      <td>3</td>\n",
       "      <td>female</td>\n",
       "      <td>26.0</td>\n",
       "      <td>0</td>\n",
       "      <td>0</td>\n",
       "      <td>7.9250</td>\n",
       "    </tr>\n",
       "  </tbody>\n",
       "</table>\n",
       "</div>"
      ],
      "text/plain": [
       "   PassengerId  Survived  Pclass     Sex   Age  SibSp  Parch     Fare\n",
       "0            1         0       3    male  22.0      1      0   7.2500\n",
       "1            2         1       1  female  38.0      1      0  71.2833\n",
       "2            3         1       3  female  26.0      0      0   7.9250"
      ]
     },
     "execution_count": 50,
     "metadata": {},
     "output_type": "execute_result"
    }
   ],
   "source": [
    "data_train.head(3)"
   ]
  },
  {
   "cell_type": "code",
   "execution_count": 51,
   "metadata": {},
   "outputs": [
    {
     "name": "stdout",
     "output_type": "stream",
     "text": [
      "Index(['Sex'], dtype='object')\n"
     ]
    }
   ],
   "source": [
    "cat_columns = data_train.select_dtypes(['object']).columns\n",
    "print(cat_columns)"
   ]
  },
  {
   "cell_type": "code",
   "execution_count": 52,
   "metadata": {},
   "outputs": [],
   "source": [
    "data_train[cat_columns] = data_train.select_dtypes(['object']).apply(pd.Series.astype, dtype='category')"
   ]
  },
  {
   "cell_type": "code",
   "execution_count": 53,
   "metadata": {},
   "outputs": [],
   "source": [
    "#data_train.select_dtypes(['object'])"
   ]
  },
  {
   "cell_type": "code",
   "execution_count": 54,
   "metadata": {},
   "outputs": [
    {
     "name": "stdout",
     "output_type": "stream",
     "text": [
      "<class 'pandas.core.frame.DataFrame'>\n",
      "RangeIndex: 891 entries, 0 to 890\n",
      "Data columns (total 8 columns):\n",
      "PassengerId    891 non-null int64\n",
      "Survived       891 non-null int64\n",
      "Pclass         891 non-null int64\n",
      "Sex            891 non-null category\n",
      "Age            714 non-null float64\n",
      "SibSp          891 non-null int64\n",
      "Parch          891 non-null int64\n",
      "Fare           891 non-null float64\n",
      "dtypes: category(1), float64(2), int64(5)\n",
      "memory usage: 49.8 KB\n"
     ]
    }
   ],
   "source": [
    "data_train.info()"
   ]
  },
  {
   "cell_type": "code",
   "execution_count": 55,
   "metadata": {},
   "outputs": [],
   "source": [
    "data_train[cat_columns]= data_train[cat_columns].apply(lambda x: x.cat.codes)"
   ]
  },
  {
   "cell_type": "code",
   "execution_count": 56,
   "metadata": {},
   "outputs": [
    {
     "name": "stdout",
     "output_type": "stream",
     "text": [
      "<class 'pandas.core.frame.DataFrame'>\n",
      "RangeIndex: 891 entries, 0 to 890\n",
      "Data columns (total 8 columns):\n",
      "PassengerId    891 non-null int64\n",
      "Survived       891 non-null int64\n",
      "Pclass         891 non-null int64\n",
      "Sex            891 non-null int8\n",
      "Age            714 non-null float64\n",
      "SibSp          891 non-null int64\n",
      "Parch          891 non-null int64\n",
      "Fare           891 non-null float64\n",
      "dtypes: float64(2), int64(5), int8(1)\n",
      "memory usage: 49.7 KB\n"
     ]
    }
   ],
   "source": [
    "data_train.info()"
   ]
  },
  {
   "cell_type": "code",
   "execution_count": 57,
   "metadata": {},
   "outputs": [
    {
     "name": "stdout",
     "output_type": "stream",
     "text": [
      "29.69911764705882\n"
     ]
    },
    {
     "data": {
      "image/png": "[encoded data removed]",
      "text/plain": [
       "<Figure size 432x288 with 1 Axes>"
      ]
     },
     "metadata": {},
     "output_type": "display_data"
    }
   ],
   "source": [
    "data_train[\"Age\"].hist(bins = 50)\n",
    "mean = data_train[\"Age\"].mean()\n",
    "print(mean)"
   ]
  },
  {
   "cell_type": "code",
   "execution_count": 58,
   "metadata": {},
   "outputs": [
    {
     "data": {
      "text/plain": [
       "array([22.  , 38.  , 26.  , 35.  ,   nan, 54.  ,  2.  , 27.  , 14.  ,\n",
       "        4.  , 58.  , 20.  , 39.  , 55.  , 31.  , 34.  , 15.  , 28.  ,\n",
       "        8.  , 19.  , 40.  , 66.  , 42.  , 21.  , 18.  ,  3.  ,  7.  ,\n",
       "       49.  , 29.  , 65.  , 28.5 ,  5.  , 11.  , 45.  , 17.  , 32.  ,\n",
       "       16.  , 25.  ,  0.83, 30.  , 33.  , 23.  , 24.  , 46.  , 59.  ,\n",
       "       71.  , 37.  , 47.  , 14.5 , 70.5 , 32.5 , 12.  ,  9.  , 36.5 ,\n",
       "       51.  , 55.5 , 40.5 , 44.  ,  1.  , 61.  , 56.  , 50.  , 36.  ,\n",
       "       45.5 , 20.5 , 62.  , 41.  , 52.  , 63.  , 23.5 ,  0.92, 43.  ,\n",
       "       60.  , 10.  , 64.  , 13.  , 48.  ,  0.75, 53.  , 57.  , 80.  ,\n",
       "       70.  , 24.5 ,  6.  ,  0.67, 30.5 ,  0.42, 34.5 , 74.  ])"
      ]
     },
     "execution_count": 58,
     "metadata": {},
     "output_type": "execute_result"
    }
   ],
   "source": [
    "data_train[\"Age\"].unique()"
   ]
  },
  {
   "cell_type": "code",
   "execution_count": 59,
   "metadata": {},
   "outputs": [
    {
     "ename": "KeyError",
     "evalue": "\"Int64Index([  5,  17,  19,  26,  28,  29,  31,  32,  36,  42,\\n            ...\\n            832, 837, 839, 846, 849, 859, 863, 868, 878, 888],\\n           dtype='int64', length=177) not in index\"",
     "output_type": "error",
     "traceback": [
      "\u001b[1;31m---------------------------------------------------------------------------\u001b[0m",
      "\u001b[1;31mKeyError\u001b[0m                                  Traceback (most recent call last)",
      "\u001b[1;32m<ipython-input-59-8f490c54ea9e>\u001b[0m in \u001b[0;36m<module>\u001b[1;34m()\u001b[0m\n\u001b[0;32m      1\u001b[0m \u001b[0mindex\u001b[0m \u001b[1;33m=\u001b[0m \u001b[0mdata_train\u001b[0m\u001b[1;33m[\u001b[0m\u001b[1;34m'Age'\u001b[0m\u001b[1;33m]\u001b[0m\u001b[1;33m.\u001b[0m\u001b[0mindex\u001b[0m\u001b[1;33m[\u001b[0m\u001b[0mdata_train\u001b[0m\u001b[1;33m[\u001b[0m\u001b[1;34m'Age'\u001b[0m\u001b[1;33m]\u001b[0m\u001b[1;33m.\u001b[0m\u001b[0mapply\u001b[0m\u001b[1;33m(\u001b[0m\u001b[0mnp\u001b[0m\u001b[1;33m.\u001b[0m\u001b[0misnan\u001b[0m\u001b[1;33m)\u001b[0m\u001b[1;33m]\u001b[0m\u001b[1;33m\u001b[0m\u001b[0m\n\u001b[1;32m----> 2\u001b[1;33m \u001b[0mdata_train\u001b[0m\u001b[1;33m.\u001b[0m\u001b[0mloc\u001b[0m\u001b[1;33m[\u001b[0m\u001b[1;33m:\u001b[0m\u001b[1;34m'Age'\u001b[0m\u001b[1;33m]\u001b[0m\u001b[1;33m[\u001b[0m\u001b[0mindex\u001b[0m\u001b[1;33m]\u001b[0m \u001b[1;33m=\u001b[0m \u001b[0mmean\u001b[0m \u001b[1;31m# how does it work?\u001b[0m\u001b[1;33m\u001b[0m\u001b[0m\n\u001b[0m",
      "\u001b[1;32mc:\\users\\nuclear\\anaconda3\\envs\\tensorflow\\lib\\site-packages\\pandas\\core\\frame.py\u001b[0m in \u001b[0;36m__setitem__\u001b[1;34m(self, key, value)\u001b[0m\n\u001b[0;32m   3114\u001b[0m             \u001b[0mself\u001b[0m\u001b[1;33m.\u001b[0m\u001b[0m_setitem_frame\u001b[0m\u001b[1;33m(\u001b[0m\u001b[0mkey\u001b[0m\u001b[1;33m,\u001b[0m \u001b[0mvalue\u001b[0m\u001b[1;33m)\u001b[0m\u001b[1;33m\u001b[0m\u001b[0m\n\u001b[0;32m   3115\u001b[0m         \u001b[1;32melif\u001b[0m \u001b[0misinstance\u001b[0m\u001b[1;33m(\u001b[0m\u001b[0mkey\u001b[0m\u001b[1;33m,\u001b[0m \u001b[1;33m(\u001b[0m\u001b[0mSeries\u001b[0m\u001b[1;33m,\u001b[0m \u001b[0mnp\u001b[0m\u001b[1;33m.\u001b[0m\u001b[0mndarray\u001b[0m\u001b[1;33m,\u001b[0m \u001b[0mlist\u001b[0m\u001b[1;33m,\u001b[0m \u001b[0mIndex\u001b[0m\u001b[1;33m)\u001b[0m\u001b[1;33m)\u001b[0m\u001b[1;33m:\u001b[0m\u001b[1;33m\u001b[0m\u001b[0m\n\u001b[1;32m-> 3116\u001b[1;33m             \u001b[0mself\u001b[0m\u001b[1;33m.\u001b[0m\u001b[0m_setitem_array\u001b[0m\u001b[1;33m(\u001b[0m\u001b[0mkey\u001b[0m\u001b[1;33m,\u001b[0m \u001b[0mvalue\u001b[0m\u001b[1;33m)\u001b[0m\u001b[1;33m\u001b[0m\u001b[0m\n\u001b[0m\u001b[0;32m   3117\u001b[0m         \u001b[1;32melse\u001b[0m\u001b[1;33m:\u001b[0m\u001b[1;33m\u001b[0m\u001b[0m\n\u001b[0;32m   3118\u001b[0m             \u001b[1;31m# set column\u001b[0m\u001b[1;33m\u001b[0m\u001b[1;33m\u001b[0m\u001b[0m\n",
      "\u001b[1;32mc:\\users\\nuclear\\anaconda3\\envs\\tensorflow\\lib\\site-packages\\pandas\\core\\frame.py\u001b[0m in \u001b[0;36m_setitem_array\u001b[1;34m(self, key, value)\u001b[0m\n\u001b[0;32m   3140\u001b[0m                     \u001b[0mself\u001b[0m\u001b[1;33m[\u001b[0m\u001b[0mk1\u001b[0m\u001b[1;33m]\u001b[0m \u001b[1;33m=\u001b[0m \u001b[0mvalue\u001b[0m\u001b[1;33m[\u001b[0m\u001b[0mk2\u001b[0m\u001b[1;33m]\u001b[0m\u001b[1;33m\u001b[0m\u001b[0m\n\u001b[0;32m   3141\u001b[0m             \u001b[1;32melse\u001b[0m\u001b[1;33m:\u001b[0m\u001b[1;33m\u001b[0m\u001b[0m\n\u001b[1;32m-> 3142\u001b[1;33m                 \u001b[0mindexer\u001b[0m \u001b[1;33m=\u001b[0m \u001b[0mself\u001b[0m\u001b[1;33m.\u001b[0m\u001b[0mloc\u001b[0m\u001b[1;33m.\u001b[0m\u001b[0m_convert_to_indexer\u001b[0m\u001b[1;33m(\u001b[0m\u001b[0mkey\u001b[0m\u001b[1;33m,\u001b[0m \u001b[0maxis\u001b[0m\u001b[1;33m=\u001b[0m\u001b[1;36m1\u001b[0m\u001b[1;33m)\u001b[0m\u001b[1;33m\u001b[0m\u001b[0m\n\u001b[0m\u001b[0;32m   3143\u001b[0m                 \u001b[0mself\u001b[0m\u001b[1;33m.\u001b[0m\u001b[0m_check_setitem_copy\u001b[0m\u001b[1;33m(\u001b[0m\u001b[1;33m)\u001b[0m\u001b[1;33m\u001b[0m\u001b[0m\n\u001b[0;32m   3144\u001b[0m                 \u001b[0mself\u001b[0m\u001b[1;33m.\u001b[0m\u001b[0mloc\u001b[0m\u001b[1;33m.\u001b[0m\u001b[0m_setitem_with_indexer\u001b[0m\u001b[1;33m(\u001b[0m\u001b[1;33m(\u001b[0m\u001b[0mslice\u001b[0m\u001b[1;33m(\u001b[0m\u001b[1;32mNone\u001b[0m\u001b[1;33m)\u001b[0m\u001b[1;33m,\u001b[0m \u001b[0mindexer\u001b[0m\u001b[1;33m)\u001b[0m\u001b[1;33m,\u001b[0m \u001b[0mvalue\u001b[0m\u001b[1;33m)\u001b[0m\u001b[1;33m\u001b[0m\u001b[0m\n",
      "\u001b[1;32mc:\\users\\nuclear\\anaconda3\\envs\\tensorflow\\lib\\site-packages\\pandas\\core\\indexing.py\u001b[0m in \u001b[0;36m_convert_to_indexer\u001b[1;34m(self, obj, axis, is_setter)\u001b[0m\n\u001b[0;32m   1325\u001b[0m                 \u001b[1;32mif\u001b[0m \u001b[0mmask\u001b[0m\u001b[1;33m.\u001b[0m\u001b[0many\u001b[0m\u001b[1;33m(\u001b[0m\u001b[1;33m)\u001b[0m\u001b[1;33m:\u001b[0m\u001b[1;33m\u001b[0m\u001b[0m\n\u001b[0;32m   1326\u001b[0m                     raise KeyError('{mask} not in index'\n\u001b[1;32m-> 1327\u001b[1;33m                                    .format(mask=objarr[mask]))\n\u001b[0m\u001b[0;32m   1328\u001b[0m \u001b[1;33m\u001b[0m\u001b[0m\n\u001b[0;32m   1329\u001b[0m                 \u001b[1;32mreturn\u001b[0m \u001b[0mcom\u001b[0m\u001b[1;33m.\u001b[0m\u001b[0m_values_from_object\u001b[0m\u001b[1;33m(\u001b[0m\u001b[0mindexer\u001b[0m\u001b[1;33m)\u001b[0m\u001b[1;33m\u001b[0m\u001b[0m\n",
      "\u001b[1;31mKeyError\u001b[0m: \"Int64Index([  5,  17,  19,  26,  28,  29,  31,  32,  36,  42,\\n            ...\\n            832, 837, 839, 846, 849, 859, 863, 868, 878, 888],\\n           dtype='int64', length=177) not in index\""
     ]
    }
   ],
   "source": [
    "index = data_train['Age'].index[data_train['Age'].apply(np.isnan)]\n",
    "data_train.loc[:'Age'][index] = mean # how does it work?"
   ]
  },
  {
   "cell_type": "code",
   "execution_count": 60,
   "metadata": {},
   "outputs": [],
   "source": [
    "data_train = data_train.drop([\"PassengerId\"],axis = 1)"
   ]
  },
  {
   "cell_type": "code",
   "execution_count": 61,
   "metadata": {},
   "outputs": [
    {
     "name": "stdout",
     "output_type": "stream",
     "text": [
      "<class 'pandas.core.frame.DataFrame'>\n",
      "RangeIndex: 891 entries, 0 to 890\n",
      "Data columns (total 7 columns):\n",
      "Survived    891 non-null int64\n",
      "Pclass      891 non-null int64\n",
      "Sex         891 non-null int8\n",
      "Age         714 non-null float64\n",
      "SibSp       891 non-null int64\n",
      "Parch       891 non-null int64\n",
      "Fare        891 non-null float64\n",
      "dtypes: float64(2), int64(4), int8(1)\n",
      "memory usage: 42.7 KB\n"
     ]
    }
   ],
   "source": [
    "data_train.info()"
   ]
  },
  {
   "cell_type": "code",
   "execution_count": 62,
   "metadata": {},
   "outputs": [
    {
     "data": {
      "image/png": "[encoded data removed]",
      "text/plain": [
       "<Figure size 864x648 with 2 Axes>"
      ]
     },
     "metadata": {},
     "output_type": "display_data"
    }
   ],
   "source": [
    "corrmat = data_train.corr()\n",
    "f, ax = plt.subplots(figsize=(12, 9))\n",
    "sns.heatmap(corrmat, vmax=1, square=True, cmap=\"Reds\");"
   ]
  },
  {
   "cell_type": "code",
   "execution_count": 63,
   "metadata": {},
   "outputs": [
    {
     "data": {
      "image/png": "[encoded data removed]",
      "text/plain": [
       "<Figure size 432x288 with 2 Axes>"
      ]
     },
     "metadata": {},
     "output_type": "display_data"
    }
   ],
   "source": [
    "k = 7 #number of variables for heatmap\n",
    "cols = corrmat.nlargest(k, 'Survived')['Survived'].index\n",
    "cm = np.corrcoef(data_train[cols].values.T)\n",
    "sns.set(font_scale=1.25)\n",
    "hm = sns.heatmap(cm, cbar=True, annot=True, square=True, fmt='.2f', annot_kws={'size': 10}, yticklabels=cols.values, xticklabels=cols.values)\n",
    "plt.show()"
   ]
  },
  {
   "cell_type": "code",
   "execution_count": 64,
   "metadata": {},
   "outputs": [],
   "source": [
    "labels_train = data_train[\"Survived\"]\n",
    "data_train = data_train.drop([\"Survived\"],axis = 1)"
   ]
  },
  {
   "cell_type": "code",
   "execution_count": 65,
   "metadata": {},
   "outputs": [],
   "source": [
    "data_tr_np = data_train.values"
   ]
  },
  {
   "cell_type": "code",
   "execution_count": 66,
   "metadata": {},
   "outputs": [
    {
     "name": "stdout",
     "output_type": "stream",
     "text": [
      "(891, 6)\n"
     ]
    }
   ],
   "source": [
    "print(data_tr_np.shape)"
   ]
  },
  {
   "cell_type": "code",
   "execution_count": 67,
   "metadata": {},
   "outputs": [
    {
     "name": "stdout",
     "output_type": "stream",
     "text": [
      "(891,)\n"
     ]
    }
   ],
   "source": [
    "labels_tr_np = labels_train.values\n",
    "print(labels_tr_np.shape)"
   ]
  },
  {
   "cell_type": "markdown",
   "metadata": {},
   "source": [
    "# Model"
   ]
  },
  {
   "cell_type": "code",
   "execution_count": 68,
   "metadata": {},
   "outputs": [],
   "source": [
    "import tensorflow as tf\n",
    "from tensorflow import keras"
   ]
  },
  {
   "cell_type": "code",
   "execution_count": 69,
   "metadata": {},
   "outputs": [],
   "source": [
    "model = keras.Sequential()\n",
    "#model.add(keras.layers.Dense(30, activation = tf.nn.relu))\n",
    "model.add(keras.layers.Dense(10, activation = tf.nn.sigmoid, input_shape=(6,), name = \"Dense_1\"))\n",
    "model.add(keras.layers.Dense(5, activation = tf.nn.sigmoid, name = \"Dense_2\"))\n",
    "model.add(keras.layers.Dense(1, activation = tf.nn.sigmoid, name = \"Dense_3\"))"
   ]
  },
  {
   "cell_type": "code",
   "execution_count": 70,
   "metadata": {},
   "outputs": [],
   "source": [
    "model.compile(optimizer=tf.train.AdamOptimizer(),\n",
    "              loss='binary_crossentropy',\n",
    "              metrics=['accuracy'])"
   ]
  },
  {
   "cell_type": "code",
   "execution_count": 71,
   "metadata": {},
   "outputs": [
    {
     "name": "stdout",
     "output_type": "stream",
     "text": [
      "_________________________________________________________________\n",
      "Layer (type)                 Output Shape              Param #   \n",
      "=================================================================\n",
      "Dense_1 (Dense)              (None, 10)                70        \n",
      "_________________________________________________________________\n",
      "Dense_2 (Dense)              (None, 5)                 55        \n",
      "_________________________________________________________________\n",
      "Dense_3 (Dense)              (None, 1)                 6         \n",
      "=================================================================\n",
      "Total params: 131\n",
      "Trainable params: 131\n",
      "Non-trainable params: 0\n",
      "_________________________________________________________________\n"
     ]
    }
   ],
   "source": [
    "model.summary()"
   ]
  },
  {
   "cell_type": "code",
   "execution_count": 30,
   "metadata": {},
   "outputs": [
    {
     "name": "stdout",
     "output_type": "stream",
     "text": [
      "Epoch 1/300\n",
      "891/891 [==============================] - 0s 487us/step - loss: 0.6731 - acc: 0.6162\n",
      "Epoch 2/300\n",
      "891/891 [==============================] - 0s 34us/step - loss: 0.6651 - acc: 0.6162\n",
      "Epoch 3/300\n",
      "891/891 [==============================] - 0s 37us/step - loss: 0.6584 - acc: 0.6162\n",
      "Epoch 4/300\n",
      "891/891 [==============================] - 0s 39us/step - loss: 0.6515 - acc: 0.6162\n",
      "Epoch 5/300\n",
      "891/891 [==============================] - 0s 43us/step - loss: 0.6444 - acc: 0.6162\n",
      "Epoch 6/300\n",
      "891/891 [==============================] - 0s 28us/step - loss: 0.6394 - acc: 0.6162\n",
      "Epoch 7/300\n",
      "891/891 [==============================] - 0s 76us/step - loss: 0.6347 - acc: 0.6162\n",
      "Epoch 8/300\n",
      "891/891 [==============================] - 0s 35us/step - loss: 0.6315 - acc: 0.6162\n",
      "Epoch 9/300\n",
      "891/891 [==============================] - 0s 19us/step - loss: 0.6280 - acc: 0.6162\n",
      "Epoch 10/300\n",
      "891/891 [==============================] - 0s 46us/step - loss: 0.6254 - acc: 0.6162\n",
      "Epoch 11/300\n",
      "891/891 [==============================] - 0s 56us/step - loss: 0.6227 - acc: 0.6162\n",
      "Epoch 12/300\n",
      "891/891 [==============================] - 0s 28us/step - loss: 0.6201 - acc: 0.6162\n",
      "Epoch 13/300\n",
      "891/891 [==============================] - 0s 53us/step - loss: 0.6179 - acc: 0.6195\n",
      "Epoch 14/300\n",
      "891/891 [==============================] - 0s 43us/step - loss: 0.6158 - acc: 0.6409\n",
      "Epoch 15/300\n",
      "891/891 [==============================] - 0s 36us/step - loss: 0.6142 - acc: 0.6498\n",
      "Epoch 16/300\n",
      "891/891 [==============================] - 0s 29us/step - loss: 0.6129 - acc: 0.6801\n",
      "Epoch 17/300\n",
      "891/891 [==============================] - 0s 29us/step - loss: 0.6106 - acc: 0.6869\n",
      "Epoch 18/300\n",
      "891/891 [==============================] - 0s 35us/step - loss: 0.6090 - acc: 0.6869\n",
      "Epoch 19/300\n",
      "891/891 [==============================] - 0s 40us/step - loss: 0.6078 - acc: 0.6880\n",
      "Epoch 20/300\n",
      "891/891 [==============================] - 0s 49us/step - loss: 0.6060 - acc: 0.6880\n",
      "Epoch 21/300\n",
      "891/891 [==============================] - 0s 36us/step - loss: 0.6048 - acc: 0.6902\n",
      "Epoch 22/300\n",
      "891/891 [==============================] - 0s 25us/step - loss: 0.6034 - acc: 0.6869\n",
      "Epoch 23/300\n",
      "891/891 [==============================] - 0s 57us/step - loss: 0.6026 - acc: 0.6891\n",
      "Epoch 24/300\n",
      "891/891 [==============================] - 0s 34us/step - loss: 0.6011 - acc: 0.6914\n",
      "Epoch 25/300\n",
      "891/891 [==============================] - 0s 14us/step - loss: 0.6001 - acc: 0.6902\n",
      "Epoch 26/300\n",
      "891/891 [==============================] - 0s 26us/step - loss: 0.5991 - acc: 0.6925\n",
      "Epoch 27/300\n",
      "891/891 [==============================] - 0s 34us/step - loss: 0.5976 - acc: 0.6880\n",
      "Epoch 28/300\n",
      "891/891 [==============================] - 0s 29us/step - loss: 0.5964 - acc: 0.6869\n",
      "Epoch 29/300\n",
      "891/891 [==============================] - 0s 23us/step - loss: 0.5954 - acc: 0.6902\n",
      "Epoch 30/300\n",
      "891/891 [==============================] - 0s 35us/step - loss: 0.5944 - acc: 0.6891\n",
      "Epoch 31/300\n",
      "891/891 [==============================] - 0s 47us/step - loss: 0.5934 - acc: 0.6914\n",
      "Epoch 32/300\n",
      "891/891 [==============================] - 0s 49us/step - loss: 0.5932 - acc: 0.6925\n",
      "Epoch 33/300\n",
      "891/891 [==============================] - 0s 27us/step - loss: 0.5919 - acc: 0.6880\n",
      "Epoch 34/300\n",
      "891/891 [==============================] - 0s 45us/step - loss: 0.5906 - acc: 0.6891\n",
      "Epoch 35/300\n",
      "891/891 [==============================] - 0s 38us/step - loss: 0.5897 - acc: 0.6925\n",
      "Epoch 36/300\n",
      "891/891 [==============================] - 0s 45us/step - loss: 0.5893 - acc: 0.6914\n",
      "Epoch 37/300\n",
      "891/891 [==============================] - 0s 18us/step - loss: 0.5877 - acc: 0.6914\n",
      "Epoch 38/300\n",
      "891/891 [==============================] - 0s 45us/step - loss: 0.5870 - acc: 0.6925\n",
      "Epoch 39/300\n",
      "891/891 [==============================] - 0s 35us/step - loss: 0.5867 - acc: 0.6902\n",
      "Epoch 40/300\n",
      "891/891 [==============================] - 0s 46us/step - loss: 0.5853 - acc: 0.6925\n",
      "Epoch 41/300\n",
      "891/891 [==============================] - 0s 40us/step - loss: 0.5842 - acc: 0.6902\n",
      "Epoch 42/300\n",
      "891/891 [==============================] - 0s 39us/step - loss: 0.5835 - acc: 0.6936\n",
      "Epoch 43/300\n",
      "891/891 [==============================] - 0s 37us/step - loss: 0.5827 - acc: 0.6869\n",
      "Epoch 44/300\n",
      "891/891 [==============================] - 0s 50us/step - loss: 0.5808 - acc: 0.6925\n",
      "Epoch 45/300\n",
      "891/891 [==============================] - 0s 38us/step - loss: 0.5793 - acc: 0.6925\n",
      "Epoch 46/300\n",
      "891/891 [==============================] - 0s 32us/step - loss: 0.5770 - acc: 0.6914\n",
      "Epoch 47/300\n",
      "891/891 [==============================] - 0s 31us/step - loss: 0.5751 - acc: 0.6925\n",
      "Epoch 48/300\n",
      "891/891 [==============================] - 0s 39us/step - loss: 0.5728 - acc: 0.6891\n",
      "Epoch 49/300\n",
      "891/891 [==============================] - 0s 43us/step - loss: 0.5708 - acc: 0.6891\n",
      "Epoch 50/300\n",
      "891/891 [==============================] - 0s 35us/step - loss: 0.5694 - acc: 0.6891\n",
      "Epoch 51/300\n",
      "891/891 [==============================] - 0s 35us/step - loss: 0.5677 - acc: 0.6914\n",
      "Epoch 52/300\n",
      "891/891 [==============================] - 0s 44us/step - loss: 0.5661 - acc: 0.6857\n",
      "Epoch 53/300\n",
      "891/891 [==============================] - 0s 41us/step - loss: 0.5628 - acc: 0.6880\n",
      "Epoch 54/300\n",
      "891/891 [==============================] - 0s 25us/step - loss: 0.5610 - acc: 0.6857\n",
      "Epoch 55/300\n",
      "891/891 [==============================] - 0s 36us/step - loss: 0.5595 - acc: 0.6857\n",
      "Epoch 56/300\n",
      "891/891 [==============================] - 0s 27us/step - loss: 0.5579 - acc: 0.6857\n",
      "Epoch 57/300\n",
      "891/891 [==============================] - 0s 28us/step - loss: 0.5551 - acc: 0.6880\n",
      "Epoch 58/300\n",
      "891/891 [==============================] - 0s 37us/step - loss: 0.5531 - acc: 0.6936\n",
      "Epoch 59/300\n",
      "891/891 [==============================] - 0s 38us/step - loss: 0.5512 - acc: 0.6981\n",
      "Epoch 60/300\n",
      "891/891 [==============================] - 0s 42us/step - loss: 0.5488 - acc: 0.6958\n",
      "Epoch 61/300\n",
      "891/891 [==============================] - 0s 48us/step - loss: 0.5469 - acc: 0.7003\n",
      "Epoch 62/300\n",
      "891/891 [==============================] - 0s 41us/step - loss: 0.5446 - acc: 0.7003\n",
      "Epoch 63/300\n",
      "891/891 [==============================] - 0s 36us/step - loss: 0.5423 - acc: 0.7037\n",
      "Epoch 64/300\n",
      "891/891 [==============================] - 0s 34us/step - loss: 0.5414 - acc: 0.7015\n",
      "Epoch 65/300\n",
      "891/891 [==============================] - 0s 52us/step - loss: 0.5378 - acc: 0.7037\n",
      "Epoch 66/300\n",
      "891/891 [==============================] - 0s 60us/step - loss: 0.5352 - acc: 0.7127\n",
      "Epoch 67/300\n",
      "891/891 [==============================] - 0s 49us/step - loss: 0.5338 - acc: 0.7127\n",
      "Epoch 68/300\n",
      "891/891 [==============================] - 0s 42us/step - loss: 0.5286 - acc: 0.7205\n",
      "Epoch 69/300\n",
      "891/891 [==============================] - 0s 47us/step - loss: 0.5238 - acc: 0.7419\n",
      "Epoch 70/300\n",
      "891/891 [==============================] - 0s 41us/step - loss: 0.5183 - acc: 0.7464\n",
      "Epoch 71/300\n",
      "891/891 [==============================] - 0s 67us/step - loss: 0.5131 - acc: 0.7621\n",
      "Epoch 72/300\n",
      "891/891 [==============================] - 0s 41us/step - loss: 0.5092 - acc: 0.7609\n",
      "Epoch 73/300\n",
      "891/891 [==============================] - 0s 40us/step - loss: 0.5070 - acc: 0.7666\n",
      "Epoch 74/300\n",
      "891/891 [==============================] - 0s 39us/step - loss: 0.5043 - acc: 0.7699\n",
      "Epoch 75/300\n",
      "891/891 [==============================] - 0s 91us/step - loss: 0.5020 - acc: 0.7654\n",
      "Epoch 76/300\n",
      "891/891 [==============================] - 0s 39us/step - loss: 0.4995 - acc: 0.7643\n",
      "Epoch 77/300\n",
      "891/891 [==============================] - 0s 39us/step - loss: 0.4959 - acc: 0.7688\n",
      "Epoch 78/300\n",
      "891/891 [==============================] - 0s 38us/step - loss: 0.4951 - acc: 0.7666\n",
      "Epoch 79/300\n",
      "891/891 [==============================] - 0s 27us/step - loss: 0.4891 - acc: 0.7632\n",
      "Epoch 80/300\n",
      "891/891 [==============================] - 0s 30us/step - loss: 0.4880 - acc: 0.7688\n",
      "Epoch 81/300\n",
      "891/891 [==============================] - 0s 26us/step - loss: 0.4849 - acc: 0.7688\n",
      "Epoch 82/300\n",
      "891/891 [==============================] - 0s 35us/step - loss: 0.4842 - acc: 0.7710\n",
      "Epoch 83/300\n",
      "891/891 [==============================] - 0s 38us/step - loss: 0.4832 - acc: 0.7767\n",
      "Epoch 84/300\n",
      "891/891 [==============================] - 0s 28us/step - loss: 0.4814 - acc: 0.7778\n",
      "Epoch 85/300\n",
      "891/891 [==============================] - 0s 37us/step - loss: 0.4799 - acc: 0.7789\n",
      "Epoch 86/300\n",
      "891/891 [==============================] - 0s 29us/step - loss: 0.4783 - acc: 0.7811\n",
      "Epoch 87/300\n",
      "891/891 [==============================] - 0s 43us/step - loss: 0.4772 - acc: 0.7834\n",
      "Epoch 88/300\n",
      "891/891 [==============================] - 0s 28us/step - loss: 0.4769 - acc: 0.7834\n",
      "Epoch 89/300\n",
      "891/891 [==============================] - 0s 27us/step - loss: 0.4765 - acc: 0.7767\n",
      "Epoch 90/300\n",
      "891/891 [==============================] - 0s 35us/step - loss: 0.4743 - acc: 0.7823\n",
      "Epoch 91/300\n",
      "891/891 [==============================] - 0s 32us/step - loss: 0.4728 - acc: 0.7890\n",
      "Epoch 92/300\n",
      "891/891 [==============================] - 0s 36us/step - loss: 0.4734 - acc: 0.7811\n",
      "Epoch 93/300\n",
      "891/891 [==============================] - 0s 34us/step - loss: 0.4732 - acc: 0.7845\n",
      "Epoch 94/300\n",
      "891/891 [==============================] - 0s 32us/step - loss: 0.4715 - acc: 0.7879\n",
      "Epoch 95/300\n",
      "891/891 [==============================] - 0s 41us/step - loss: 0.4709 - acc: 0.7868\n",
      "Epoch 96/300\n",
      "891/891 [==============================] - 0s 37us/step - loss: 0.4700 - acc: 0.7856\n",
      "Epoch 97/300\n",
      "891/891 [==============================] - 0s 33us/step - loss: 0.4691 - acc: 0.7845\n",
      "Epoch 98/300\n",
      "891/891 [==============================] - 0s 34us/step - loss: 0.4680 - acc: 0.7890\n",
      "Epoch 99/300\n",
      "891/891 [==============================] - 0s 31us/step - loss: 0.4681 - acc: 0.7901\n",
      "Epoch 100/300\n",
      "891/891 [==============================] - 0s 37us/step - loss: 0.4678 - acc: 0.7868\n",
      "Epoch 101/300\n",
      "891/891 [==============================] - 0s 51us/step - loss: 0.4662 - acc: 0.7879\n",
      "Epoch 102/300\n",
      "891/891 [==============================] - 0s 41us/step - loss: 0.4633 - acc: 0.7845\n",
      "Epoch 103/300\n",
      "891/891 [==============================] - 0s 41us/step - loss: 0.4622 - acc: 0.7901\n",
      "Epoch 104/300\n",
      "891/891 [==============================] - 0s 44us/step - loss: 0.4607 - acc: 0.7868\n",
      "Epoch 105/300\n",
      "891/891 [==============================] - 0s 35us/step - loss: 0.4609 - acc: 0.7834\n",
      "Epoch 106/300\n",
      "891/891 [==============================] - 0s 39us/step - loss: 0.4592 - acc: 0.7924\n",
      "Epoch 107/300\n",
      "891/891 [==============================] - 0s 40us/step - loss: 0.4584 - acc: 0.7912\n",
      "Epoch 108/300\n",
      "891/891 [==============================] - 0s 42us/step - loss: 0.4569 - acc: 0.7845\n",
      "Epoch 109/300\n",
      "891/891 [==============================] - 0s 49us/step - loss: 0.4564 - acc: 0.7935\n",
      "Epoch 110/300\n",
      "891/891 [==============================] - 0s 31us/step - loss: 0.4573 - acc: 0.7800\n",
      "Epoch 111/300\n",
      "891/891 [==============================] - 0s 47us/step - loss: 0.4557 - acc: 0.7901\n",
      "Epoch 112/300\n",
      "891/891 [==============================] - 0s 26us/step - loss: 0.4563 - acc: 0.7957\n",
      "Epoch 113/300\n",
      "891/891 [==============================] - 0s 25us/step - loss: 0.4534 - acc: 0.7879\n",
      "Epoch 114/300\n",
      "891/891 [==============================] - 0s 32us/step - loss: 0.4533 - acc: 0.7890\n",
      "Epoch 115/300\n",
      "891/891 [==============================] - 0s 31us/step - loss: 0.4532 - acc: 0.7834\n",
      "Epoch 116/300\n",
      "891/891 [==============================] - 0s 40us/step - loss: 0.4524 - acc: 0.7969\n",
      "Epoch 117/300\n",
      "891/891 [==============================] - 0s 35us/step - loss: 0.4507 - acc: 0.7935\n",
      "Epoch 118/300\n",
      "891/891 [==============================] - 0s 31us/step - loss: 0.4507 - acc: 0.7924\n",
      "Epoch 119/300\n",
      "891/891 [==============================] - 0s 31us/step - loss: 0.4493 - acc: 0.7969\n",
      "Epoch 120/300\n",
      "891/891 [==============================] - 0s 33us/step - loss: 0.4493 - acc: 0.7924\n",
      "Epoch 121/300\n",
      "891/891 [==============================] - 0s 41us/step - loss: 0.4484 - acc: 0.8013\n",
      "Epoch 122/300\n",
      "891/891 [==============================] - 0s 38us/step - loss: 0.4484 - acc: 0.7957\n",
      "Epoch 123/300\n",
      "891/891 [==============================] - 0s 33us/step - loss: 0.4475 - acc: 0.7980\n",
      "Epoch 124/300\n",
      "891/891 [==============================] - 0s 50us/step - loss: 0.4466 - acc: 0.7924\n",
      "Epoch 125/300\n",
      "891/891 [==============================] - 0s 28us/step - loss: 0.4456 - acc: 0.7957\n",
      "Epoch 126/300\n",
      "891/891 [==============================] - 0s 30us/step - loss: 0.4463 - acc: 0.8013\n",
      "Epoch 127/300\n",
      "891/891 [==============================] - 0s 37us/step - loss: 0.4452 - acc: 0.8047\n",
      "Epoch 128/300\n",
      "891/891 [==============================] - 0s 70us/step - loss: 0.4448 - acc: 0.7980\n",
      "Epoch 129/300\n",
      "891/891 [==============================] - 0s 32us/step - loss: 0.4432 - acc: 0.8047\n",
      "Epoch 130/300\n",
      "891/891 [==============================] - 0s 34us/step - loss: 0.4428 - acc: 0.8013\n",
      "Epoch 131/300\n",
      "891/891 [==============================] - 0s 36us/step - loss: 0.4433 - acc: 0.8058\n",
      "Epoch 132/300\n",
      "891/891 [==============================] - 0s 28us/step - loss: 0.4415 - acc: 0.7969\n",
      "Epoch 133/300\n",
      "891/891 [==============================] - 0s 48us/step - loss: 0.4416 - acc: 0.8070\n",
      "Epoch 134/300\n",
      "891/891 [==============================] - 0s 32us/step - loss: 0.4411 - acc: 0.8137\n",
      "Epoch 135/300\n",
      "891/891 [==============================] - 0s 33us/step - loss: 0.4421 - acc: 0.8002\n",
      "Epoch 136/300\n",
      "891/891 [==============================] - 0s 34us/step - loss: 0.4403 - acc: 0.8058\n",
      "Epoch 137/300\n",
      "891/891 [==============================] - 0s 35us/step - loss: 0.4399 - acc: 0.8148\n",
      "Epoch 138/300\n",
      "891/891 [==============================] - 0s 37us/step - loss: 0.4397 - acc: 0.8081\n",
      "Epoch 139/300\n",
      "891/891 [==============================] - 0s 37us/step - loss: 0.4378 - acc: 0.8058\n",
      "Epoch 140/300\n",
      "891/891 [==============================] - 0s 36us/step - loss: 0.4381 - acc: 0.8126\n",
      "Epoch 141/300\n",
      "891/891 [==============================] - 0s 32us/step - loss: 0.4376 - acc: 0.8159\n",
      "Epoch 142/300\n",
      "891/891 [==============================] - 0s 29us/step - loss: 0.4376 - acc: 0.8025\n",
      "Epoch 143/300\n",
      "891/891 [==============================] - 0s 35us/step - loss: 0.4374 - acc: 0.8137\n",
      "Epoch 144/300\n",
      "891/891 [==============================] - 0s 33us/step - loss: 0.4359 - acc: 0.8159\n",
      "Epoch 145/300\n",
      "891/891 [==============================] - 0s 33us/step - loss: 0.4359 - acc: 0.8148\n",
      "Epoch 146/300\n",
      "891/891 [==============================] - 0s 29us/step - loss: 0.4350 - acc: 0.8159\n",
      "Epoch 147/300\n",
      "891/891 [==============================] - 0s 45us/step - loss: 0.4346 - acc: 0.8081\n",
      "Epoch 148/300\n",
      "891/891 [==============================] - 0s 35us/step - loss: 0.4353 - acc: 0.8081\n",
      "Epoch 149/300\n",
      "891/891 [==============================] - 0s 49us/step - loss: 0.4366 - acc: 0.8159\n",
      "Epoch 150/300\n",
      "891/891 [==============================] - 0s 40us/step - loss: 0.4341 - acc: 0.8159\n",
      "Epoch 151/300\n",
      "891/891 [==============================] - 0s 25us/step - loss: 0.4347 - acc: 0.8171\n",
      "Epoch 152/300\n",
      "891/891 [==============================] - 0s 38us/step - loss: 0.4349 - acc: 0.8126\n",
      "Epoch 153/300\n",
      "891/891 [==============================] - 0s 42us/step - loss: 0.4322 - acc: 0.8260\n",
      "Epoch 154/300\n",
      "891/891 [==============================] - 0s 32us/step - loss: 0.4327 - acc: 0.8171\n",
      "Epoch 155/300\n",
      "891/891 [==============================] - 0s 34us/step - loss: 0.4318 - acc: 0.8126\n",
      "Epoch 156/300\n",
      "891/891 [==============================] - 0s 32us/step - loss: 0.4311 - acc: 0.8238\n",
      "Epoch 157/300\n",
      "891/891 [==============================] - 0s 26us/step - loss: 0.4318 - acc: 0.8103\n",
      "Epoch 158/300\n",
      "891/891 [==============================] - 0s 42us/step - loss: 0.4316 - acc: 0.8204\n",
      "Epoch 159/300\n",
      "891/891 [==============================] - 0s 37us/step - loss: 0.4311 - acc: 0.8238\n",
      "Epoch 160/300\n",
      "891/891 [==============================] - 0s 42us/step - loss: 0.4296 - acc: 0.8193\n",
      "Epoch 161/300\n",
      "891/891 [==============================] - 0s 33us/step - loss: 0.4295 - acc: 0.8215\n",
      "Epoch 162/300\n",
      "891/891 [==============================] - 0s 37us/step - loss: 0.4297 - acc: 0.8193\n",
      "Epoch 163/300\n",
      "891/891 [==============================] - 0s 25us/step - loss: 0.4302 - acc: 0.8092\n",
      "Epoch 164/300\n",
      "891/891 [==============================] - 0s 29us/step - loss: 0.4291 - acc: 0.8294\n",
      "Epoch 165/300\n",
      "891/891 [==============================] - 0s 23us/step - loss: 0.4285 - acc: 0.8193\n",
      "Epoch 166/300\n",
      "891/891 [==============================] - 0s 47us/step - loss: 0.4280 - acc: 0.8294\n",
      "Epoch 167/300\n"
     ]
    },
    {
     "name": "stdout",
     "output_type": "stream",
     "text": [
      "891/891 [==============================] - 0s 29us/step - loss: 0.4271 - acc: 0.8103\n",
      "Epoch 168/300\n",
      "891/891 [==============================] - 0s 40us/step - loss: 0.4281 - acc: 0.8249\n",
      "Epoch 169/300\n",
      "891/891 [==============================] - 0s 42us/step - loss: 0.4280 - acc: 0.8238\n",
      "Epoch 170/300\n",
      "891/891 [==============================] - 0s 34us/step - loss: 0.4268 - acc: 0.8283\n",
      "Epoch 171/300\n",
      "891/891 [==============================] - 0s 37us/step - loss: 0.4259 - acc: 0.8193\n",
      "Epoch 172/300\n",
      "891/891 [==============================] - 0s 33us/step - loss: 0.4256 - acc: 0.8294\n",
      "Epoch 173/300\n",
      "891/891 [==============================] - 0s 33us/step - loss: 0.4260 - acc: 0.8294\n",
      "Epoch 174/300\n",
      "891/891 [==============================] - 0s 29us/step - loss: 0.4268 - acc: 0.8215\n",
      "Epoch 175/300\n",
      "891/891 [==============================] - 0s 35us/step - loss: 0.4271 - acc: 0.8159\n",
      "Epoch 176/300\n",
      "891/891 [==============================] - 0s 35us/step - loss: 0.4254 - acc: 0.8305\n",
      "Epoch 177/300\n",
      "891/891 [==============================] - 0s 35us/step - loss: 0.4245 - acc: 0.8316\n",
      "Epoch 178/300\n",
      "891/891 [==============================] - 0s 42us/step - loss: 0.4236 - acc: 0.8283\n",
      "Epoch 179/300\n",
      "891/891 [==============================] - 0s 38us/step - loss: 0.4241 - acc: 0.8272\n",
      "Epoch 180/300\n",
      "891/891 [==============================] - 0s 36us/step - loss: 0.4239 - acc: 0.8316\n",
      "Epoch 181/300\n",
      "891/891 [==============================] - 0s 30us/step - loss: 0.4224 - acc: 0.8260\n",
      "Epoch 182/300\n",
      "891/891 [==============================] - 0s 31us/step - loss: 0.4229 - acc: 0.8316\n",
      "Epoch 183/300\n",
      "891/891 [==============================] - 0s 34us/step - loss: 0.4230 - acc: 0.8204\n",
      "Epoch 184/300\n",
      "891/891 [==============================] - 0s 41us/step - loss: 0.4220 - acc: 0.8305\n",
      "Epoch 185/300\n",
      "891/891 [==============================] - 0s 33us/step - loss: 0.4231 - acc: 0.8316\n",
      "Epoch 186/300\n",
      "891/891 [==============================] - 0s 25us/step - loss: 0.4209 - acc: 0.8339\n",
      "Epoch 187/300\n",
      "891/891 [==============================] - 0s 47us/step - loss: 0.4220 - acc: 0.8171\n",
      "Epoch 188/300\n",
      "891/891 [==============================] - 0s 61us/step - loss: 0.4219 - acc: 0.8361\n",
      "Epoch 189/300\n",
      "891/891 [==============================] - 0s 32us/step - loss: 0.4236 - acc: 0.8238\n",
      "Epoch 190/300\n",
      "891/891 [==============================] - 0s 43us/step - loss: 0.4219 - acc: 0.8294\n",
      "Epoch 191/300\n",
      "891/891 [==============================] - 0s 31us/step - loss: 0.4195 - acc: 0.8361\n",
      "Epoch 192/300\n",
      "891/891 [==============================] - 0s 34us/step - loss: 0.4196 - acc: 0.8316\n",
      "Epoch 193/300\n",
      "891/891 [==============================] - 0s 41us/step - loss: 0.4194 - acc: 0.8361\n",
      "Epoch 194/300\n",
      "891/891 [==============================] - 0s 44us/step - loss: 0.4226 - acc: 0.8260\n",
      "Epoch 195/300\n",
      "891/891 [==============================] - 0s 39us/step - loss: 0.4218 - acc: 0.8227\n",
      "Epoch 196/300\n",
      "891/891 [==============================] - 0s 36us/step - loss: 0.4204 - acc: 0.8272\n",
      "Epoch 197/300\n",
      "891/891 [==============================] - 0s 24us/step - loss: 0.4200 - acc: 0.8272\n",
      "Epoch 198/300\n",
      "891/891 [==============================] - 0s 34us/step - loss: 0.4192 - acc: 0.8283\n",
      "Epoch 199/300\n",
      "891/891 [==============================] - 0s 39us/step - loss: 0.4186 - acc: 0.8328\n",
      "Epoch 200/300\n",
      "891/891 [==============================] - 0s 38us/step - loss: 0.4180 - acc: 0.8328\n",
      "Epoch 201/300\n",
      "891/891 [==============================] - 0s 35us/step - loss: 0.4174 - acc: 0.8316\n",
      "Epoch 202/300\n",
      "891/891 [==============================] - 0s 36us/step - loss: 0.4174 - acc: 0.8227\n",
      "Epoch 203/300\n",
      "891/891 [==============================] - 0s 31us/step - loss: 0.4173 - acc: 0.8339\n",
      "Epoch 204/300\n",
      "891/891 [==============================] - 0s 36us/step - loss: 0.4171 - acc: 0.8305\n",
      "Epoch 205/300\n",
      "891/891 [==============================] - 0s 40us/step - loss: 0.4174 - acc: 0.8316\n",
      "Epoch 206/300\n",
      "891/891 [==============================] - 0s 24us/step - loss: 0.4171 - acc: 0.8361\n",
      "Epoch 207/300\n",
      "891/891 [==============================] - 0s 28us/step - loss: 0.4161 - acc: 0.8305\n",
      "Epoch 208/300\n",
      "891/891 [==============================] - 0s 40us/step - loss: 0.4162 - acc: 0.8316\n",
      "Epoch 209/300\n",
      "891/891 [==============================] - 0s 33us/step - loss: 0.4150 - acc: 0.8361\n",
      "Epoch 210/300\n",
      "891/891 [==============================] - 0s 34us/step - loss: 0.4160 - acc: 0.8283\n",
      "Epoch 211/300\n",
      "891/891 [==============================] - 0s 35us/step - loss: 0.4146 - acc: 0.8339\n",
      "Epoch 212/300\n",
      "891/891 [==============================] - 0s 29us/step - loss: 0.4156 - acc: 0.8215\n",
      "Epoch 213/300\n",
      "891/891 [==============================] - 0s 38us/step - loss: 0.4151 - acc: 0.8283\n",
      "Epoch 214/300\n",
      "891/891 [==============================] - 0s 45us/step - loss: 0.4150 - acc: 0.8249\n",
      "Epoch 215/300\n",
      "891/891 [==============================] - 0s 37us/step - loss: 0.4158 - acc: 0.8350\n",
      "Epoch 216/300\n",
      "891/891 [==============================] - 0s 35us/step - loss: 0.4142 - acc: 0.8283\n",
      "Epoch 217/300\n",
      "891/891 [==============================] - 0s 34us/step - loss: 0.4144 - acc: 0.8305\n",
      "Epoch 218/300\n",
      "891/891 [==============================] - 0s 27us/step - loss: 0.4148 - acc: 0.8316\n",
      "Epoch 219/300\n",
      "891/891 [==============================] - 0s 37us/step - loss: 0.4142 - acc: 0.8283\n",
      "Epoch 220/300\n",
      "891/891 [==============================] - 0s 31us/step - loss: 0.4131 - acc: 0.8305\n",
      "Epoch 221/300\n",
      "891/891 [==============================] - 0s 53us/step - loss: 0.4139 - acc: 0.8305\n",
      "Epoch 222/300\n",
      "891/891 [==============================] - 0s 36us/step - loss: 0.4131 - acc: 0.8294\n",
      "Epoch 223/300\n",
      "891/891 [==============================] - 0s 44us/step - loss: 0.4132 - acc: 0.8361\n",
      "Epoch 224/300\n",
      "891/891 [==============================] - 0s 34us/step - loss: 0.4125 - acc: 0.8305\n",
      "Epoch 225/300\n",
      "891/891 [==============================] - 0s 51us/step - loss: 0.4118 - acc: 0.8395\n",
      "Epoch 226/300\n",
      "891/891 [==============================] - 0s 52us/step - loss: 0.4118 - acc: 0.8361\n",
      "Epoch 227/300\n",
      "891/891 [==============================] - 0s 32us/step - loss: 0.4128 - acc: 0.8328\n",
      "Epoch 228/300\n",
      "891/891 [==============================] - 0s 37us/step - loss: 0.4124 - acc: 0.8350\n",
      "Epoch 229/300\n",
      "891/891 [==============================] - 0s 36us/step - loss: 0.4117 - acc: 0.8305\n",
      "Epoch 230/300\n",
      "891/891 [==============================] - 0s 33us/step - loss: 0.4122 - acc: 0.8294\n",
      "Epoch 231/300\n",
      "891/891 [==============================] - 0s 31us/step - loss: 0.4118 - acc: 0.8328\n",
      "Epoch 232/300\n",
      "891/891 [==============================] - 0s 41us/step - loss: 0.4116 - acc: 0.8294\n",
      "Epoch 233/300\n",
      "891/891 [==============================] - 0s 36us/step - loss: 0.4110 - acc: 0.8339\n",
      "Epoch 234/300\n",
      "891/891 [==============================] - ETA: 0s - loss: 0.2822 - acc: 0.875 - 0s 24us/step - loss: 0.4105 - acc: 0.8328\n",
      "Epoch 235/300\n",
      "891/891 [==============================] - 0s 31us/step - loss: 0.4112 - acc: 0.8361\n",
      "Epoch 236/300\n",
      "891/891 [==============================] - 0s 34us/step - loss: 0.4105 - acc: 0.8283\n",
      "Epoch 237/300\n",
      "891/891 [==============================] - 0s 34us/step - loss: 0.4111 - acc: 0.8328\n",
      "Epoch 238/300\n",
      "891/891 [==============================] - 0s 41us/step - loss: 0.4109 - acc: 0.8339\n",
      "Epoch 239/300\n",
      "891/891 [==============================] - 0s 38us/step - loss: 0.4100 - acc: 0.8339\n",
      "Epoch 240/300\n",
      "891/891 [==============================] - 0s 33us/step - loss: 0.4102 - acc: 0.8350\n",
      "Epoch 241/300\n",
      "891/891 [==============================] - 0s 28us/step - loss: 0.4100 - acc: 0.8305\n",
      "Epoch 242/300\n",
      "891/891 [==============================] - 0s 37us/step - loss: 0.4091 - acc: 0.8316\n",
      "Epoch 243/300\n",
      "891/891 [==============================] - 0s 36us/step - loss: 0.4094 - acc: 0.8361\n",
      "Epoch 244/300\n",
      "891/891 [==============================] - 0s 44us/step - loss: 0.4094 - acc: 0.8361\n",
      "Epoch 245/300\n",
      "891/891 [==============================] - 0s 34us/step - loss: 0.4089 - acc: 0.8373\n",
      "Epoch 246/300\n",
      "891/891 [==============================] - 0s 35us/step - loss: 0.4102 - acc: 0.8328\n",
      "Epoch 247/300\n",
      "891/891 [==============================] - 0s 42us/step - loss: 0.4090 - acc: 0.8305\n",
      "Epoch 248/300\n",
      "891/891 [==============================] - 0s 37us/step - loss: 0.4087 - acc: 0.8294\n",
      "Epoch 249/300\n",
      "891/891 [==============================] - 0s 44us/step - loss: 0.4088 - acc: 0.8328\n",
      "Epoch 250/300\n",
      "891/891 [==============================] - 0s 44us/step - loss: 0.4090 - acc: 0.8316\n",
      "Epoch 251/300\n",
      "891/891 [==============================] - 0s 44us/step - loss: 0.4084 - acc: 0.8316\n",
      "Epoch 252/300\n",
      "891/891 [==============================] - 0s 36us/step - loss: 0.4081 - acc: 0.8328\n",
      "Epoch 253/300\n",
      "891/891 [==============================] - 0s 38us/step - loss: 0.4087 - acc: 0.8316\n",
      "Epoch 254/300\n",
      "891/891 [==============================] - 0s 47us/step - loss: 0.4086 - acc: 0.8316\n",
      "Epoch 255/300\n",
      "891/891 [==============================] - ETA: 0s - loss: 0.4202 - acc: 0.843 - 0s 30us/step - loss: 0.4076 - acc: 0.8316\n",
      "Epoch 256/300\n",
      "891/891 [==============================] - 0s 36us/step - loss: 0.4080 - acc: 0.8339\n",
      "Epoch 257/300\n",
      "891/891 [==============================] - 0s 32us/step - loss: 0.4078 - acc: 0.8328\n",
      "Epoch 258/300\n",
      "891/891 [==============================] - 0s 37us/step - loss: 0.4076 - acc: 0.8350\n",
      "Epoch 259/300\n",
      "891/891 [==============================] - 0s 33us/step - loss: 0.4068 - acc: 0.8294\n",
      "Epoch 260/300\n",
      "891/891 [==============================] - 0s 31us/step - loss: 0.4074 - acc: 0.8316\n",
      "Epoch 261/300\n",
      "891/891 [==============================] - 0s 31us/step - loss: 0.4075 - acc: 0.8339\n",
      "Epoch 262/300\n",
      "891/891 [==============================] - 0s 35us/step - loss: 0.4077 - acc: 0.8316\n",
      "Epoch 263/300\n",
      "891/891 [==============================] - 0s 29us/step - loss: 0.4090 - acc: 0.8294\n",
      "Epoch 264/300\n",
      "891/891 [==============================] - 0s 32us/step - loss: 0.4073 - acc: 0.8350\n",
      "Epoch 265/300\n",
      "891/891 [==============================] - 0s 40us/step - loss: 0.4076 - acc: 0.8294\n",
      "Epoch 266/300\n",
      "891/891 [==============================] - 0s 36us/step - loss: 0.4078 - acc: 0.8316\n",
      "Epoch 267/300\n",
      "891/891 [==============================] - 0s 33us/step - loss: 0.4073 - acc: 0.8260\n",
      "Epoch 268/300\n",
      "891/891 [==============================] - 0s 54us/step - loss: 0.4072 - acc: 0.8316\n",
      "Epoch 269/300\n",
      "891/891 [==============================] - 0s 34us/step - loss: 0.4072 - acc: 0.8294\n",
      "Epoch 270/300\n",
      "891/891 [==============================] - 0s 33us/step - loss: 0.4055 - acc: 0.8339\n",
      "Epoch 271/300\n",
      "891/891 [==============================] - 0s 33us/step - loss: 0.4063 - acc: 0.8283\n",
      "Epoch 272/300\n",
      "891/891 [==============================] - 0s 38us/step - loss: 0.4081 - acc: 0.8260\n",
      "Epoch 273/300\n",
      "891/891 [==============================] - 0s 20us/step - loss: 0.4078 - acc: 0.8328\n",
      "Epoch 274/300\n",
      "891/891 [==============================] - 0s 34us/step - loss: 0.4053 - acc: 0.8305\n",
      "Epoch 275/300\n",
      "891/891 [==============================] - 0s 26us/step - loss: 0.4050 - acc: 0.8316\n",
      "Epoch 276/300\n",
      "891/891 [==============================] - 0s 24us/step - loss: 0.4053 - acc: 0.8305\n",
      "Epoch 277/300\n",
      "891/891 [==============================] - 0s 38us/step - loss: 0.4059 - acc: 0.8316\n",
      "Epoch 278/300\n",
      "891/891 [==============================] - 0s 29us/step - loss: 0.4051 - acc: 0.8305\n",
      "Epoch 279/300\n",
      "891/891 [==============================] - 0s 41us/step - loss: 0.4065 - acc: 0.8272\n",
      "Epoch 280/300\n",
      "891/891 [==============================] - 0s 42us/step - loss: 0.4094 - acc: 0.8272\n",
      "Epoch 281/300\n",
      "891/891 [==============================] - 0s 40us/step - loss: 0.4061 - acc: 0.8272\n",
      "Epoch 282/300\n",
      "891/891 [==============================] - 0s 40us/step - loss: 0.4046 - acc: 0.8339\n",
      "Epoch 283/300\n",
      "891/891 [==============================] - 0s 39us/step - loss: 0.4055 - acc: 0.8361\n",
      "Epoch 284/300\n",
      "891/891 [==============================] - 0s 40us/step - loss: 0.4052 - acc: 0.8283\n",
      "Epoch 285/300\n",
      "891/891 [==============================] - 0s 35us/step - loss: 0.4052 - acc: 0.8328\n",
      "Epoch 286/300\n",
      "891/891 [==============================] - 0s 34us/step - loss: 0.4051 - acc: 0.8305\n",
      "Epoch 287/300\n",
      "891/891 [==============================] - 0s 36us/step - loss: 0.4047 - acc: 0.8316\n",
      "Epoch 288/300\n",
      "891/891 [==============================] - 0s 39us/step - loss: 0.4043 - acc: 0.8328\n",
      "Epoch 289/300\n",
      "891/891 [==============================] - 0s 38us/step - loss: 0.4049 - acc: 0.8328\n",
      "Epoch 290/300\n",
      "891/891 [==============================] - 0s 41us/step - loss: 0.4044 - acc: 0.8305\n",
      "Epoch 291/300\n",
      "891/891 [==============================] - 0s 32us/step - loss: 0.4049 - acc: 0.8350\n",
      "Epoch 292/300\n",
      "891/891 [==============================] - 0s 23us/step - loss: 0.4041 - acc: 0.8305\n",
      "Epoch 293/300\n",
      "891/891 [==============================] - 0s 51us/step - loss: 0.4033 - acc: 0.8305\n",
      "Epoch 294/300\n",
      "891/891 [==============================] - 0s 30us/step - loss: 0.4028 - acc: 0.8305\n",
      "Epoch 295/300\n",
      "891/891 [==============================] - 0s 46us/step - loss: 0.4030 - acc: 0.8328\n",
      "Epoch 296/300\n",
      "891/891 [==============================] - 0s 66us/step - loss: 0.4042 - acc: 0.8305\n",
      "Epoch 297/300\n",
      "891/891 [==============================] - 0s 35us/step - loss: 0.4051 - acc: 0.8283\n",
      "Epoch 298/300\n",
      "891/891 [==============================] - 0s 37us/step - loss: 0.4036 - acc: 0.8339\n",
      "Epoch 299/300\n",
      "891/891 [==============================] - 0s 33us/step - loss: 0.4028 - acc: 0.8339\n",
      "Epoch 300/300\n",
      "891/891 [==============================] - 0s 36us/step - loss: 0.4041 - acc: 0.8361\n"
     ]
    },
    {
     "data": {
      "text/plain": [
       "<tensorflow.python.keras.callbacks.History at 0x21c8a34ce10>"
      ]
     },
     "execution_count": 30,
     "metadata": {},
     "output_type": "execute_result"
    }
   ],
   "source": [
    "model.fit(data_tr_np, labels_tr_np, epochs=300)"
   ]
  },
  {
   "cell_type": "code",
   "execution_count": 72,
   "metadata": {},
   "outputs": [],
   "source": [
    "data_test = pd.read_csv('./data/test.csv')"
   ]
  },
  {
   "cell_type": "code",
   "execution_count": 73,
   "metadata": {},
   "outputs": [
    {
     "name": "stdout",
     "output_type": "stream",
     "text": [
      "<class 'pandas.core.frame.DataFrame'>\n",
      "RangeIndex: 418 entries, 0 to 417\n",
      "Data columns (total 11 columns):\n",
      "PassengerId    418 non-null int64\n",
      "Pclass         418 non-null int64\n",
      "Name           418 non-null object\n",
      "Sex            418 non-null object\n",
      "Age            332 non-null float64\n",
      "SibSp          418 non-null int64\n",
      "Parch          418 non-null int64\n",
      "Ticket         418 non-null object\n",
      "Fare           417 non-null float64\n",
      "Cabin          91 non-null object\n",
      "Embarked       418 non-null object\n",
      "dtypes: float64(2), int64(4), object(5)\n",
      "memory usage: 36.0+ KB\n"
     ]
    }
   ],
   "source": [
    "data_test.info()"
   ]
  },
  {
   "cell_type": "code",
   "execution_count": 74,
   "metadata": {},
   "outputs": [],
   "source": [
    "Id = data_test[\"PassengerId\"]"
   ]
  },
  {
   "cell_type": "code",
   "execution_count": null,
   "metadata": {},
   "outputs": [],
   "source": []
  },
  {
   "cell_type": "code",
   "execution_count": 75,
   "metadata": {},
   "outputs": [],
   "source": [
    "data_test = data_test.drop([\"Name\"], axis = 1)"
   ]
  },
  {
   "cell_type": "code",
   "execution_count": 76,
   "metadata": {},
   "outputs": [],
   "source": [
    "data_test = data_test.drop([\"Ticket\"], axis = 1)"
   ]
  },
  {
   "cell_type": "code",
   "execution_count": 77,
   "metadata": {},
   "outputs": [],
   "source": [
    "data_test = data_test.drop([\"Cabin\"], axis = 1)"
   ]
  },
  {
   "cell_type": "code",
   "execution_count": 78,
   "metadata": {},
   "outputs": [],
   "source": [
    "data_test = data_test.drop([\"Embarked\"], axis = 1)"
   ]
  },
  {
   "cell_type": "code",
   "execution_count": 79,
   "metadata": {},
   "outputs": [
    {
     "name": "stdout",
     "output_type": "stream",
     "text": [
      "Index(['Sex'], dtype='object')\n"
     ]
    }
   ],
   "source": [
    "cat_columns = data_test.select_dtypes(['object']).columns\n",
    "print(cat_columns)"
   ]
  },
  {
   "cell_type": "code",
   "execution_count": 80,
   "metadata": {},
   "outputs": [],
   "source": [
    "data_test[cat_columns] = data_test.select_dtypes(['object']).apply(pd.Series.astype, dtype='category')"
   ]
  },
  {
   "cell_type": "code",
   "execution_count": 81,
   "metadata": {},
   "outputs": [],
   "source": [
    "data_test[cat_columns]= data_test[cat_columns].apply(lambda x: x.cat.codes)"
   ]
  },
  {
   "cell_type": "code",
   "execution_count": 82,
   "metadata": {},
   "outputs": [
    {
     "name": "stdout",
     "output_type": "stream",
     "text": [
      "29.69911764705882\n"
     ]
    },
    {
     "data": {
      "image/png": "[encoded data removed]",
      "text/plain": [
       "<Figure size 432x288 with 1 Axes>"
      ]
     },
     "metadata": {},
     "output_type": "display_data"
    }
   ],
   "source": [
    "data_train[\"Age\"].hist(bins = 50)\n",
    "mean = data_train[\"Age\"].mean()\n",
    "print(mean)"
   ]
  },
  {
   "cell_type": "code",
   "execution_count": 83,
   "metadata": {},
   "outputs": [
    {
     "name": "stdout",
     "output_type": "stream",
     "text": [
      "<class 'pandas.core.frame.DataFrame'>\n",
      "RangeIndex: 418 entries, 0 to 417\n",
      "Data columns (total 7 columns):\n",
      "PassengerId    418 non-null int64\n",
      "Pclass         418 non-null int64\n",
      "Sex            418 non-null int8\n",
      "Age            332 non-null float64\n",
      "SibSp          418 non-null int64\n",
      "Parch          418 non-null int64\n",
      "Fare           417 non-null float64\n",
      "dtypes: float64(2), int64(4), int8(1)\n",
      "memory usage: 20.1 KB\n"
     ]
    }
   ],
   "source": [
    "data_test.info()"
   ]
  },
  {
   "cell_type": "code",
   "execution_count": 85,
   "metadata": {},
   "outputs": [],
   "source": [
    "index = data_test['Age'].index[data_test['Age'].apply(np.isnan)]\n",
    "data_test.loc[:'Age'][index] = mean # or data_test['Age'][index] = mean "
   ]
  },
  {
   "cell_type": "code",
   "execution_count": 86,
   "metadata": {},
   "outputs": [],
   "source": [
    "data_test = data_test.drop([\"PassengerId\"],axis = 1)"
   ]
  },
  {
   "cell_type": "code",
   "execution_count": 87,
   "metadata": {},
   "outputs": [
    {
     "name": "stdout",
     "output_type": "stream",
     "text": [
      "<class 'pandas.core.frame.DataFrame'>\n",
      "RangeIndex: 418 entries, 0 to 417\n",
      "Data columns (total 6 columns):\n",
      "Pclass    418 non-null int64\n",
      "Sex       418 non-null int8\n",
      "Age       418 non-null float64\n",
      "SibSp     418 non-null int64\n",
      "Parch     418 non-null int64\n",
      "Fare      417 non-null float64\n",
      "dtypes: float64(2), int64(3), int8(1)\n",
      "memory usage: 16.8 KB\n"
     ]
    }
   ],
   "source": [
    "data_test.info()"
   ]
  },
  {
   "cell_type": "code",
   "execution_count": 94,
   "metadata": {},
   "outputs": [
    {
     "name": "stderr",
     "output_type": "stream",
     "text": [
      "c:\\users\\nuclear\\anaconda3\\envs\\tensorflow\\lib\\site-packages\\ipykernel_launcher.py:2: SettingWithCopyWarning: \n",
      "A value is trying to be set on a copy of a slice from a DataFrame\n",
      "\n",
      "See the caveats in the documentation: http://pandas.pydata.org/pandas-docs/stable/indexing.html#indexing-view-versus-copy\n",
      "  \n"
     ]
    }
   ],
   "source": [
    "index = data_test[\"Fare\"].index[data_test[\"Fare\"].apply(np.isnan)]\n",
    "data_test[\"Fare\"][152] = 0 #???\n",
    "#print(data_train[\"Fare\"])\n",
    "#np.where(pd.isnull(data_train))\n",
    "#np.where(data.applymap(lambda x: x == ''))"
   ]
  },
  {
   "cell_type": "code",
   "execution_count": 95,
   "metadata": {},
   "outputs": [],
   "source": [
    "data_tr_np = data_test.values"
   ]
  },
  {
   "cell_type": "code",
   "execution_count": 96,
   "metadata": {},
   "outputs": [
    {
     "name": "stdout",
     "output_type": "stream",
     "text": [
      "(418, 6)\n"
     ]
    }
   ],
   "source": [
    "print(data_tr_np.shape)"
   ]
  },
  {
   "cell_type": "code",
   "execution_count": 97,
   "metadata": {},
   "outputs": [],
   "source": [
    "predictions = model.predict(data_tr_np)"
   ]
  },
  {
   "cell_type": "code",
   "execution_count": 98,
   "metadata": {},
   "outputs": [
    {
     "name": "stdout",
     "output_type": "stream",
     "text": [
      "(418, 1)\n"
     ]
    }
   ],
   "source": [
    "print(predictions.shape)"
   ]
  },
  {
   "cell_type": "code",
   "execution_count": 99,
   "metadata": {},
   "outputs": [
    {
     "data": {
      "text/plain": [
       "array([0.6884176 , 0.69556856, 0.6968479 , 0.68221986, 0.67386276,\n",
       "       0.67483103, 0.6848587 , 0.68358034, 0.678911  , 0.68166137,\n",
       "       0.6854403 , 0.67562747, 0.681703  , 0.67603123, 0.6859886 ,\n",
       "       0.68461686, 0.67901605, 0.6821555 , 0.6824372 , 0.69531214,\n",
       "       0.68656933, 0.6879982 , 0.6851145 , 0.68356127, 0.67557585,\n",
       "       0.6793755 , 0.68475294, 0.68308944, 0.67543596, 0.6729485 ,\n",
       "       0.6757413 , 0.6855983 , 0.6721185 , 0.67363703, 0.6857604 ,\n",
       "       0.6805414 , 0.68367046, 0.6777793 , 0.67963123, 0.6858105 ,\n",
       "       0.67913145, 0.6788355 , 0.6925308 , 0.67669415, 0.68626976,\n",
       "       0.68283844, 0.6753084 , 0.68584245, 0.685912  , 0.6756463 ,\n",
       "       0.6848672 , 0.67499125, 0.684469  , 0.6755711 , 0.67543584,\n",
       "       0.6819554 , 0.68851113, 0.68349993, 0.67474514, 0.6755712 ,\n",
       "       0.67812455, 0.6772836 , 0.67903584, 0.68023646, 0.67557114,\n",
       "       0.67364776, 0.67757916, 0.680947  , 0.6799095 , 0.6758467 ,\n",
       "       0.68136036, 0.6805886 , 0.6836176 , 0.68133503, 0.6755777 ,\n",
       "       0.6755727 , 0.6850271 , 0.67593867, 0.67722243, 0.68136036,\n",
       "       0.68243635, 0.68464684, 0.6757677 , 0.6854403 , 0.6796822 ,\n",
       "       0.67591596, 0.6827059 , 0.6772562 , 0.68439615, 0.6773959 ,\n",
       "       0.673119  , 0.6857727 , 0.6857721 , 0.6850271 , 0.6825629 ,\n",
       "       0.683145  , 0.68646777, 0.68498373, 0.67875457, 0.6868405 ,\n",
       "       0.6860507 , 0.67910004, 0.68584245, 0.6837466 , 0.6764751 ,\n",
       "       0.6714962 , 0.6807555 , 0.68584245, 0.6833933 , 0.67427105,\n",
       "       0.67767715, 0.68432355, 0.6808435 , 0.67907673, 0.68349653,\n",
       "       0.6732117 , 0.6899413 , 0.6805205 , 0.685796  , 0.67917395,\n",
       "       0.6829901 , 0.6849941 , 0.6858743 , 0.686288  , 0.68584245,\n",
       "       0.6773105 , 0.6814191 , 0.67398226, 0.67993003, 0.6820006 ,\n",
       "       0.6862758 , 0.67577606, 0.67679703, 0.6885058 , 0.69364613,\n",
       "       0.68244797, 0.68547404, 0.67608935, 0.68014634, 0.6855977 ,\n",
       "       0.6788708 , 0.6763702 , 0.6757982 , 0.6770982 , 0.67532474,\n",
       "       0.67495644, 0.68583477, 0.680853  , 0.6788355 , 0.6765171 ,\n",
       "       0.6819337 , 0.6854403 , 0.71001136, 0.6794875 , 0.68373346,\n",
       "       0.6831749 , 0.67557144, 0.68055624, 0.67532474, 0.67294264,\n",
       "       0.6844378 , 0.6826602 , 0.6751589 , 0.6880857 , 0.6796655 ,\n",
       "       0.67525053, 0.68597853, 0.68540275, 0.6821528 , 0.6778188 ,\n",
       "       0.6864126 , 0.6857686 , 0.6737488 , 0.6873701 , 0.6722046 ,\n",
       "       0.6848217 , 0.68571615, 0.68658996, 0.68511814, 0.68587554,\n",
       "       0.67722243, 0.68575335, 0.6838018 , 0.68584245, 0.67557114,\n",
       "       0.6770043 , 0.68091375, 0.67940664, 0.68555504, 0.67941725,\n",
       "       0.6743764 , 0.6782343 , 0.6800413 , 0.6904354 , 0.68015456,\n",
       "       0.68743217, 0.6755714 , 0.67778164, 0.6775867 , 0.6835247 ,\n",
       "       0.6739847 , 0.6793799 , 0.67561555, 0.68271446, 0.6783541 ,\n",
       "       0.6779654 , 0.68724495, 0.6779763 , 0.67907363, 0.6829071 ,\n",
       "       0.6716466 , 0.6879274 , 0.6783635 , 0.675971  , 0.68684113,\n",
       "       0.6847752 , 0.6840782 , 0.6856494 , 0.67649233, 0.6850271 ,\n",
       "       0.67634064, 0.6802519 , 0.67645854, 0.6808115 , 0.6757719 ,\n",
       "       0.67339724, 0.68201   , 0.68439615, 0.67766315, 0.67853516,\n",
       "       0.6778926 , 0.68563974, 0.6839128 , 0.6854855 , 0.6858439 ,\n",
       "       0.68006074, 0.6860928 , 0.68151814, 0.6762861 , 0.68584526,\n",
       "       0.6758175 , 0.67357063, 0.68512636, 0.68546283, 0.67216045,\n",
       "       0.6861981 , 0.67934614, 0.67444557, 0.67917395, 0.6752814 ,\n",
       "       0.67702526, 0.6799058 , 0.6757752 , 0.67943484, 0.68289155,\n",
       "       0.6864126 , 0.68584245, 0.684134  , 0.67469656, 0.6808583 ,\n",
       "       0.67591554, 0.68068093, 0.67536193, 0.6843128 , 0.67744833,\n",
       "       0.6854403 , 0.7059617 , 0.6864126 , 0.68367046, 0.6766436 ,\n",
       "       0.6858617 , 0.68584245, 0.6758275 , 0.6745116 , 0.68738306,\n",
       "       0.6851888 , 0.679419  , 0.6747002 , 0.6741919 , 0.67718863,\n",
       "       0.6789418 , 0.6807365 , 0.68439615, 0.6841137 , 0.67987955,\n",
       "       0.69134253, 0.6873064 , 0.6811071 , 0.6873701 , 0.6850271 ,\n",
       "       0.6860729 , 0.6867269 , 0.6873701 , 0.6858628 , 0.68443376,\n",
       "       0.6834513 , 0.67602515, 0.6729485 , 0.68595994, 0.68517196,\n",
       "       0.68708456, 0.67573404, 0.67575175, 0.68069744, 0.68439615,\n",
       "       0.67599195, 0.6757241 , 0.68479866, 0.6858573 , 0.6786069 ,\n",
       "       0.677196  , 0.6827813 , 0.6863401 , 0.6884256 , 0.68584335,\n",
       "       0.6773825 , 0.6858177 , 0.6760349 , 0.6840925 , 0.6857373 ,\n",
       "       0.6837466 , 0.6845793 , 0.67608935, 0.6763884 , 0.67559755,\n",
       "       0.68384725, 0.6827015 , 0.685857  , 0.6771076 , 0.6745484 ,\n",
       "       0.6741088 , 0.67562497, 0.68738306, 0.6752597 , 0.68398863,\n",
       "       0.6779798 , 0.67769176, 0.6963487 , 0.68486196, 0.6873701 ,\n",
       "       0.6757191 , 0.68768424, 0.68569726, 0.67557114, 0.67568105,\n",
       "       0.6771553 , 0.67608935, 0.69079965, 0.67506456, 0.6735796 ,\n",
       "       0.68589556, 0.6783541 , 0.6791241 , 0.68589723, 0.67834127,\n",
       "       0.6758037 , 0.6842381 , 0.6854855 , 0.68584245, 0.6745902 ,\n",
       "       0.676464  , 0.68585765, 0.6735796 , 0.68221986, 0.6855857 ,\n",
       "       0.6857668 , 0.6759128 , 0.68577117, 0.6859398 , 0.67631096,\n",
       "       0.6762674 , 0.67733526, 0.7081651 , 0.6805169 , 0.68586224,\n",
       "       0.67557293, 0.67940116, 0.675717  , 0.6822369 , 0.6775304 ,\n",
       "       0.68584245, 0.68349147, 0.6747858 , 0.67514443, 0.6772524 ,\n",
       "       0.68521684, 0.68263346, 0.68654233, 0.6809148 , 0.6808847 ,\n",
       "       0.678149  , 0.67666477, 0.6837924 , 0.68807316, 0.67367595,\n",
       "       0.6825345 , 0.6839317 , 0.6858591 , 0.68146646, 0.6866282 ,\n",
       "       0.67565984, 0.67537665, 0.6849689 , 0.683435  , 0.67554396,\n",
       "       0.6740367 , 0.6778423 , 0.6761085 , 0.6844691 , 0.6834955 ,\n",
       "       0.68439615, 0.68574464, 0.6834625 , 0.6850271 , 0.6855812 ,\n",
       "       0.69299734, 0.6850271 , 0.67186147], dtype=float32)"
      ]
     },
     "execution_count": 99,
     "metadata": {},
     "output_type": "execute_result"
    }
   ],
   "source": [
    "predictions.reshape(418,)"
   ]
  },
  {
   "cell_type": "code",
   "execution_count": 100,
   "metadata": {},
   "outputs": [],
   "source": [
    "pred = np.where(predictions > 0.5, 1, 0)\n",
    "pred.shape\n",
    "Id = np.array([Id])\n",
    "Id = Id.reshape(418,1)"
   ]
  },
  {
   "cell_type": "code",
   "execution_count": 101,
   "metadata": {},
   "outputs": [],
   "source": [
    "data_np = np.concatenate((Id, pred), axis = 1)"
   ]
  },
  {
   "cell_type": "code",
   "execution_count": 102,
   "metadata": {},
   "outputs": [],
   "source": [
    "#print(data_np.shape, data_np)"
   ]
  },
  {
   "cell_type": "code",
   "execution_count": 103,
   "metadata": {},
   "outputs": [],
   "source": [
    "out_data =  pd.DataFrame({'PassengerId' : data_np[:,0].tolist(),'Survived' : data_np[:,1].tolist() })"
   ]
  },
  {
   "cell_type": "code",
   "execution_count": 104,
   "metadata": {},
   "outputs": [
    {
     "name": "stdout",
     "output_type": "stream",
     "text": [
      "     PassengerId  Survived\n",
      "0            892         1\n",
      "1            893         1\n",
      "2            894         1\n",
      "3            895         1\n",
      "4            896         1\n",
      "5            897         1\n",
      "6            898         1\n",
      "7            899         1\n",
      "8            900         1\n",
      "9            901         1\n",
      "10           902         1\n",
      "11           903         1\n",
      "12           904         1\n",
      "13           905         1\n",
      "14           906         1\n",
      "15           907         1\n",
      "16           908         1\n",
      "17           909         1\n",
      "18           910         1\n",
      "19           911         1\n",
      "20           912         1\n",
      "21           913         1\n",
      "22           914         1\n",
      "23           915         1\n",
      "24           916         1\n",
      "25           917         1\n",
      "26           918         1\n",
      "27           919         1\n",
      "28           920         1\n",
      "29           921         1\n",
      "..           ...       ...\n",
      "388         1280         1\n",
      "389         1281         1\n",
      "390         1282         1\n",
      "391         1283         1\n",
      "392         1284         1\n",
      "393         1285         1\n",
      "394         1286         1\n",
      "395         1287         1\n",
      "396         1288         1\n",
      "397         1289         1\n",
      "398         1290         1\n",
      "399         1291         1\n",
      "400         1292         1\n",
      "401         1293         1\n",
      "402         1294         1\n",
      "403         1295         1\n",
      "404         1296         1\n",
      "405         1297         1\n",
      "406         1298         1\n",
      "407         1299         1\n",
      "408         1300         1\n",
      "409         1301         1\n",
      "410         1302         1\n",
      "411         1303         1\n",
      "412         1304         1\n",
      "413         1305         1\n",
      "414         1306         1\n",
      "415         1307         1\n",
      "416         1308         1\n",
      "417         1309         1\n",
      "\n",
      "[418 rows x 2 columns]\n"
     ]
    }
   ],
   "source": [
    "print(out_data)"
   ]
  },
  {
   "cell_type": "code",
   "execution_count": 105,
   "metadata": {},
   "outputs": [],
   "source": [
    "out_data.to_csv(\"test_.csv\", sep=',', encoding='utf-8', index = False)"
   ]
  }
 ],
 "metadata": {
  "kernelspec": {
   "display_name": "Python 3",
   "language": "python",
   "name": "python3"
  },
  "language_info": {
   "codemirror_mode": {
    "name": "ipython",
    "version": 3
   },
   "file_extension": ".py",
   "mimetype": "text/x-python",
   "name": "python",
   "nbconvert_exporter": "python",
   "pygments_lexer": "ipython3",
   "version": "3.5.5"
  }
 },
 "nbformat": 4,
 "nbformat_minor": 2
}
