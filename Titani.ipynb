{
 "cells": [
  {
   "cell_type": "code",
   "execution_count": 1,
   "metadata": {},
   "outputs": [],
   "source": [
    "import pandas as pd\n",
    "import seaborn as sns\n",
    "import numpy as np\n",
    "import matplotlib.pyplot as plt"
   ]
  },
  {
   "cell_type": "code",
   "execution_count": 2,
   "metadata": {},
   "outputs": [],
   "source": [
    "data_train = pd.read_csv('./data/train.csv')"
   ]
  },
  {
   "cell_type": "code",
   "execution_count": 3,
   "metadata": {},
   "outputs": [
    {
     "name": "stdout",
     "output_type": "stream",
     "text": [
      "<class 'pandas.core.frame.DataFrame'>\n",
      "RangeIndex: 891 entries, 0 to 890\n",
      "Data columns (total 12 columns):\n",
      "PassengerId    891 non-null int64\n",
      "Survived       891 non-null int64\n",
      "Pclass         891 non-null int64\n",
      "Name           891 non-null object\n",
      "Sex            891 non-null object\n",
      "Age            714 non-null float64\n",
      "SibSp          891 non-null int64\n",
      "Parch          891 non-null int64\n",
      "Ticket         891 non-null object\n",
      "Fare           891 non-null float64\n",
      "Cabin          204 non-null object\n",
      "Embarked       889 non-null object\n",
      "dtypes: float64(2), int64(5), object(5)\n",
      "memory usage: 83.6+ KB\n"
     ]
    }
   ],
   "source": [
    "data_train.info()"
   ]
  },
  {
   "cell_type": "code",
   "execution_count": 4,
   "metadata": {},
   "outputs": [
    {
     "data": {
      "text/plain": [
       "Index(['PassengerId', 'Survived', 'Pclass', 'Name', 'Sex', 'Age', 'SibSp',\n",
       "       'Parch', 'Ticket', 'Fare', 'Cabin', 'Embarked'],\n",
       "      dtype='object')"
      ]
     },
     "execution_count": 4,
     "metadata": {},
     "output_type": "execute_result"
    }
   ],
   "source": [
    "data_train.columns"
   ]
  },
  {
   "cell_type": "code",
   "execution_count": 5,
   "metadata": {},
   "outputs": [],
   "source": [
    "data_train = data_train.drop([\"Name\"], axis = 1)"
   ]
  },
  {
   "cell_type": "code",
   "execution_count": 6,
   "metadata": {},
   "outputs": [],
   "source": [
    "#data_train[\"Ticket\"].unique()"
   ]
  },
  {
   "cell_type": "code",
   "execution_count": 7,
   "metadata": {},
   "outputs": [],
   "source": [
    "data_train = data_train.drop([\"Ticket\"], axis = 1)"
   ]
  },
  {
   "cell_type": "code",
   "execution_count": 8,
   "metadata": {},
   "outputs": [],
   "source": [
    "#data_train[\"Cabin\"].unique()"
   ]
  },
  {
   "cell_type": "code",
   "execution_count": 9,
   "metadata": {},
   "outputs": [],
   "source": [
    "data_train = data_train.drop([\"Cabin\"], axis = 1)"
   ]
  },
  {
   "cell_type": "code",
   "execution_count": 10,
   "metadata": {},
   "outputs": [],
   "source": [
    "#data_train[\"Embarked\"].unique()"
   ]
  },
  {
   "cell_type": "code",
   "execution_count": 11,
   "metadata": {},
   "outputs": [],
   "source": [
    "data_train = data_train.drop([\"Embarked\"], axis = 1)"
   ]
  },
  {
   "cell_type": "code",
   "execution_count": 12,
   "metadata": {},
   "outputs": [
    {
     "data": {
      "text/html": [
       "<div>\n",
       "<style scoped>\n",
       "    .dataframe tbody tr th:only-of-type {\n",
       "        vertical-align: middle;\n",
       "    }\n",
       "\n",
       "    .dataframe tbody tr th {\n",
       "        vertical-align: top;\n",
       "    }\n",
       "\n",
       "    .dataframe thead th {\n",
       "        text-align: right;\n",
       "    }\n",
       "</style>\n",
       "<table border=\"1\" class=\"dataframe\">\n",
       "  <thead>\n",
       "    <tr style=\"text-align: right;\">\n",
       "      <th></th>\n",
       "      <th>PassengerId</th>\n",
       "      <th>Survived</th>\n",
       "      <th>Pclass</th>\n",
       "      <th>Sex</th>\n",
       "      <th>Age</th>\n",
       "      <th>SibSp</th>\n",
       "      <th>Parch</th>\n",
       "      <th>Fare</th>\n",
       "    </tr>\n",
       "  </thead>\n",
       "  <tbody>\n",
       "    <tr>\n",
       "      <th>0</th>\n",
       "      <td>1</td>\n",
       "      <td>0</td>\n",
       "      <td>3</td>\n",
       "      <td>male</td>\n",
       "      <td>22.0</td>\n",
       "      <td>1</td>\n",
       "      <td>0</td>\n",
       "      <td>7.2500</td>\n",
       "    </tr>\n",
       "    <tr>\n",
       "      <th>1</th>\n",
       "      <td>2</td>\n",
       "      <td>1</td>\n",
       "      <td>1</td>\n",
       "      <td>female</td>\n",
       "      <td>38.0</td>\n",
       "      <td>1</td>\n",
       "      <td>0</td>\n",
       "      <td>71.2833</td>\n",
       "    </tr>\n",
       "    <tr>\n",
       "      <th>2</th>\n",
       "      <td>3</td>\n",
       "      <td>1</td>\n",
       "      <td>3</td>\n",
       "      <td>female</td>\n",
       "      <td>26.0</td>\n",
       "      <td>0</td>\n",
       "      <td>0</td>\n",
       "      <td>7.9250</td>\n",
       "    </tr>\n",
       "  </tbody>\n",
       "</table>\n",
       "</div>"
      ],
      "text/plain": [
       "   PassengerId  Survived  Pclass     Sex   Age  SibSp  Parch     Fare\n",
       "0            1         0       3    male  22.0      1      0   7.2500\n",
       "1            2         1       1  female  38.0      1      0  71.2833\n",
       "2            3         1       3  female  26.0      0      0   7.9250"
      ]
     },
     "execution_count": 12,
     "metadata": {},
     "output_type": "execute_result"
    }
   ],
   "source": [
    "data_train.head(3)"
   ]
  },
  {
   "cell_type": "code",
   "execution_count": 13,
   "metadata": {},
   "outputs": [
    {
     "name": "stdout",
     "output_type": "stream",
     "text": [
      "Index(['Sex'], dtype='object')\n"
     ]
    }
   ],
   "source": [
    "cat_columns = data_train.select_dtypes(['object']).columns\n",
    "print(cat_columns)"
   ]
  },
  {
   "cell_type": "code",
   "execution_count": 14,
   "metadata": {},
   "outputs": [],
   "source": [
    "data_train[cat_columns] = data_train.select_dtypes(['object']).apply(pd.Series.astype, dtype='category')"
   ]
  },
  {
   "cell_type": "code",
   "execution_count": 15,
   "metadata": {},
   "outputs": [],
   "source": [
    "#data_train.select_dtypes(['object'])"
   ]
  },
  {
   "cell_type": "code",
   "execution_count": 16,
   "metadata": {},
   "outputs": [
    {
     "name": "stdout",
     "output_type": "stream",
     "text": [
      "<class 'pandas.core.frame.DataFrame'>\n",
      "RangeIndex: 891 entries, 0 to 890\n",
      "Data columns (total 8 columns):\n",
      "PassengerId    891 non-null int64\n",
      "Survived       891 non-null int64\n",
      "Pclass         891 non-null int64\n",
      "Sex            891 non-null category\n",
      "Age            714 non-null float64\n",
      "SibSp          891 non-null int64\n",
      "Parch          891 non-null int64\n",
      "Fare           891 non-null float64\n",
      "dtypes: category(1), float64(2), int64(5)\n",
      "memory usage: 49.8 KB\n"
     ]
    }
   ],
   "source": [
    "data_train.info()"
   ]
  },
  {
   "cell_type": "code",
   "execution_count": 17,
   "metadata": {},
   "outputs": [],
   "source": [
    "data_train[cat_columns]= data_train[cat_columns].apply(lambda x: x.cat.codes)"
   ]
  },
  {
   "cell_type": "code",
   "execution_count": 18,
   "metadata": {},
   "outputs": [
    {
     "name": "stdout",
     "output_type": "stream",
     "text": [
      "<class 'pandas.core.frame.DataFrame'>\n",
      "RangeIndex: 891 entries, 0 to 890\n",
      "Data columns (total 8 columns):\n",
      "PassengerId    891 non-null int64\n",
      "Survived       891 non-null int64\n",
      "Pclass         891 non-null int64\n",
      "Sex            891 non-null int8\n",
      "Age            714 non-null float64\n",
      "SibSp          891 non-null int64\n",
      "Parch          891 non-null int64\n",
      "Fare           891 non-null float64\n",
      "dtypes: float64(2), int64(5), int8(1)\n",
      "memory usage: 49.7 KB\n"
     ]
    }
   ],
   "source": [
    "data_train.info()"
   ]
  },
  {
   "cell_type": "code",
   "execution_count": 19,
   "metadata": {},
   "outputs": [
    {
     "name": "stdout",
     "output_type": "stream",
     "text": [
      "29.69911764705882\n"
     ]
    },
    {
     "data": {
      "image/png": "[encoded data removed]",
      "text/plain": [
       "<Figure size 432x288 with 1 Axes>"
      ]
     },
     "metadata": {},
     "output_type": "display_data"
    }
   ],
   "source": [
    "data_train[\"Age\"].hist(bins = 50)\n",
    "mean = data_train[\"Age\"].mean()\n",
    "print(mean)"
   ]
  },
  {
   "cell_type": "code",
   "execution_count": 20,
   "metadata": {},
   "outputs": [
    {
     "data": {
      "text/plain": [
       "array([22.  , 38.  , 26.  , 35.  ,   nan, 54.  ,  2.  , 27.  , 14.  ,\n",
       "        4.  , 58.  , 20.  , 39.  , 55.  , 31.  , 34.  , 15.  , 28.  ,\n",
       "        8.  , 19.  , 40.  , 66.  , 42.  , 21.  , 18.  ,  3.  ,  7.  ,\n",
       "       49.  , 29.  , 65.  , 28.5 ,  5.  , 11.  , 45.  , 17.  , 32.  ,\n",
       "       16.  , 25.  ,  0.83, 30.  , 33.  , 23.  , 24.  , 46.  , 59.  ,\n",
       "       71.  , 37.  , 47.  , 14.5 , 70.5 , 32.5 , 12.  ,  9.  , 36.5 ,\n",
       "       51.  , 55.5 , 40.5 , 44.  ,  1.  , 61.  , 56.  , 50.  , 36.  ,\n",
       "       45.5 , 20.5 , 62.  , 41.  , 52.  , 63.  , 23.5 ,  0.92, 43.  ,\n",
       "       60.  , 10.  , 64.  , 13.  , 48.  ,  0.75, 53.  , 57.  , 80.  ,\n",
       "       70.  , 24.5 ,  6.  ,  0.67, 30.5 ,  0.42, 34.5 , 74.  ])"
      ]
     },
     "execution_count": 20,
     "metadata": {},
     "output_type": "execute_result"
    }
   ],
   "source": [
    "data_train[\"Age\"].unique()"
   ]
  },
  {
   "cell_type": "code",
   "execution_count": 21,
   "metadata": {},
   "outputs": [
    {
     "name": "stderr",
     "output_type": "stream",
     "text": [
      "c:\\users\\nuclear\\anaconda3\\envs\\tensorflow\\lib\\site-packages\\ipykernel_launcher.py:2: SettingWithCopyWarning: \n",
      "A value is trying to be set on a copy of a slice from a DataFrame\n",
      "\n",
      "See the caveats in the documentation: http://pandas.pydata.org/pandas-docs/stable/indexing.html#indexing-view-versus-copy\n",
      "  \n"
     ]
    }
   ],
   "source": [
    "index = data_train['Age'].index[data_train['Age'].apply(np.isnan)]\n",
    "data_train['Age'][index] = mean # how does it work?"
   ]
  },
  {
   "cell_type": "code",
   "execution_count": 22,
   "metadata": {},
   "outputs": [],
   "source": [
    "data_train = data_train.drop([\"PassengerId\"],axis = 1)"
   ]
  },
  {
   "cell_type": "code",
   "execution_count": 23,
   "metadata": {},
   "outputs": [
    {
     "name": "stdout",
     "output_type": "stream",
     "text": [
      "<class 'pandas.core.frame.DataFrame'>\n",
      "RangeIndex: 891 entries, 0 to 890\n",
      "Data columns (total 7 columns):\n",
      "Survived    891 non-null int64\n",
      "Pclass      891 non-null int64\n",
      "Sex         891 non-null int8\n",
      "Age         891 non-null float64\n",
      "SibSp       891 non-null int64\n",
      "Parch       891 non-null int64\n",
      "Fare        891 non-null float64\n",
      "dtypes: float64(2), int64(4), int8(1)\n",
      "memory usage: 42.7 KB\n"
     ]
    }
   ],
   "source": [
    "data_train.info()"
   ]
  },
  {
   "cell_type": "code",
   "execution_count": 24,
   "metadata": {},
   "outputs": [
    {
     "data": {
      "image/png": "[encoded data removed]",
      "text/plain": [
       "<Figure size 864x648 with 2 Axes>"
      ]
     },
     "metadata": {},
     "output_type": "display_data"
    }
   ],
   "source": [
    "corrmat = data_train.corr()\n",
    "f, ax = plt.subplots(figsize=(12, 9))\n",
    "sns.heatmap(corrmat, vmax=1, square=True, cmap=\"Reds\");"
   ]
  },
  {
   "cell_type": "code",
   "execution_count": 25,
   "metadata": {},
   "outputs": [
    {
     "data": {
      "image/png": "[encoded data removed]",
      "text/plain": [
       "<Figure size 432x288 with 2 Axes>"
      ]
     },
     "metadata": {},
     "output_type": "display_data"
    }
   ],
   "source": [
    "k = 7 #number of variables for heatmap\n",
    "cols = corrmat.nlargest(k, 'Survived')['Survived'].index\n",
    "cm = np.corrcoef(data_train[cols].values.T)\n",
    "sns.set(font_scale=1.25)\n",
    "hm = sns.heatmap(cm, cbar=True, annot=True, square=True, fmt='.2f', annot_kws={'size': 10}, yticklabels=cols.values, xticklabels=cols.values)\n",
    "plt.show()"
   ]
  },
  {
   "cell_type": "code",
   "execution_count": 26,
   "metadata": {},
   "outputs": [],
   "source": [
    "labels_train = data_train[\"Survived\"]\n",
    "data_train = data_train.drop([\"Survived\"],axis = 1)"
   ]
  },
  {
   "cell_type": "code",
   "execution_count": 27,
   "metadata": {},
   "outputs": [],
   "source": [
    "data_tr_np = data_train.values"
   ]
  },
  {
   "cell_type": "code",
   "execution_count": 28,
   "metadata": {},
   "outputs": [
    {
     "name": "stdout",
     "output_type": "stream",
     "text": [
      "(891, 6)\n"
     ]
    }
   ],
   "source": [
    "print(data_tr_np.shape)"
   ]
  },
  {
   "cell_type": "code",
   "execution_count": 29,
   "metadata": {},
   "outputs": [
    {
     "name": "stdout",
     "output_type": "stream",
     "text": [
      "(891,)\n"
     ]
    }
   ],
   "source": [
    "labels_tr_np = labels_train.values\n",
    "print(labels_tr_np.shape)"
   ]
  },
  {
   "cell_type": "markdown",
   "metadata": {},
   "source": [
    "# Model"
   ]
  },
  {
   "cell_type": "code",
   "execution_count": 30,
   "metadata": {},
   "outputs": [],
   "source": [
    "import tensorflow as tf\n",
    "from tensorflow import keras"
   ]
  },
  {
   "cell_type": "code",
   "execution_count": 31,
   "metadata": {},
   "outputs": [],
   "source": [
    "model = keras.Sequential()\n",
    "#model.add(keras.layers.Dense(30, activation = tf.nn.relu))\n",
    "model.add(keras.layers.Dense(10, activation = tf.nn.sigmoid, input_shape=(6,), name = \"Dense_1\"))\n",
    "model.add(keras.layers.Dense(5, activation = tf.nn.sigmoid, name = \"Dense_2\"))\n",
    "model.add(keras.layers.Dense(1, activation = tf.nn.sigmoid, name = \"Dense_3\"))"
   ]
  },
  {
   "cell_type": "code",
   "execution_count": 32,
   "metadata": {},
   "outputs": [],
   "source": [
    "model.compile(optimizer=tf.train.AdamOptimizer(),\n",
    "              loss='binary_crossentropy',\n",
    "              metrics=['accuracy'])"
   ]
  },
  {
   "cell_type": "code",
   "execution_count": 33,
   "metadata": {},
   "outputs": [
    {
     "name": "stdout",
     "output_type": "stream",
     "text": [
      "_________________________________________________________________\n",
      "Layer (type)                 Output Shape              Param #   \n",
      "=================================================================\n",
      "Dense_1 (Dense)              (None, 10)                70        \n",
      "_________________________________________________________________\n",
      "Dense_2 (Dense)              (None, 5)                 55        \n",
      "_________________________________________________________________\n",
      "Dense_3 (Dense)              (None, 1)                 6         \n",
      "=================================================================\n",
      "Total params: 131\n",
      "Trainable params: 131\n",
      "Non-trainable params: 0\n",
      "_________________________________________________________________\n"
     ]
    }
   ],
   "source": [
    "model.summary()"
   ]
  },
  {
   "cell_type": "code",
   "execution_count": 34,
   "metadata": {},
   "outputs": [
    {
     "name": "stdout",
     "output_type": "stream",
     "text": [
      "Epoch 1/300\n",
      "891/891 [==============================] - 0s 239us/step - loss: 0.7065 - acc: 0.3838\n",
      "Epoch 2/300\n",
      "891/891 [==============================] - 0s 26us/step - loss: 0.6813 - acc: 0.6510\n",
      "Epoch 3/300\n",
      "891/891 [==============================] - 0s 53us/step - loss: 0.6681 - acc: 0.6195\n",
      "Epoch 4/300\n",
      "891/891 [==============================] - 0s 40us/step - loss: 0.6597 - acc: 0.6162\n",
      "Epoch 5/300\n",
      "891/891 [==============================] - 0s 31us/step - loss: 0.6550 - acc: 0.6162\n",
      "Epoch 6/300\n",
      "891/891 [==============================] - 0s 30us/step - loss: 0.6513 - acc: 0.6162\n",
      "Epoch 7/300\n",
      "891/891 [==============================] - 0s 38us/step - loss: 0.6484 - acc: 0.6162\n",
      "Epoch 8/300\n",
      "891/891 [==============================] - 0s 48us/step - loss: 0.6457 - acc: 0.6162\n",
      "Epoch 9/300\n",
      "891/891 [==============================] - 0s 36us/step - loss: 0.6432 - acc: 0.6207\n",
      "Epoch 10/300\n",
      "891/891 [==============================] - 0s 37us/step - loss: 0.6401 - acc: 0.6263\n",
      "Epoch 11/300\n",
      "891/891 [==============================] - 0s 38us/step - loss: 0.6356 - acc: 0.6274\n",
      "Epoch 12/300\n",
      "891/891 [==============================] - 0s 25us/step - loss: 0.6302 - acc: 0.6689\n",
      "Epoch 13/300\n",
      "891/891 [==============================] - 0s 35us/step - loss: 0.6264 - acc: 0.6813\n",
      "Epoch 14/300\n",
      "891/891 [==============================] - 0s 37us/step - loss: 0.6234 - acc: 0.6869\n",
      "Epoch 15/300\n",
      "891/891 [==============================] - 0s 27us/step - loss: 0.6215 - acc: 0.6846\n",
      "Epoch 16/300\n",
      "891/891 [==============================] - 0s 38us/step - loss: 0.6181 - acc: 0.6857\n",
      "Epoch 17/300\n",
      "891/891 [==============================] - 0s 28us/step - loss: 0.6157 - acc: 0.6880\n",
      "Epoch 18/300\n",
      "891/891 [==============================] - 0s 35us/step - loss: 0.6136 - acc: 0.6958\n",
      "Epoch 19/300\n",
      "891/891 [==============================] - 0s 46us/step - loss: 0.6114 - acc: 0.7037\n",
      "Epoch 20/300\n",
      "891/891 [==============================] - 0s 26us/step - loss: 0.6094 - acc: 0.7059\n",
      "Epoch 21/300\n",
      "891/891 [==============================] - 0s 33us/step - loss: 0.6073 - acc: 0.7104\n",
      "Epoch 22/300\n",
      "891/891 [==============================] - 0s 29us/step - loss: 0.6050 - acc: 0.7082\n",
      "Epoch 23/300\n",
      "891/891 [==============================] - 0s 36us/step - loss: 0.6029 - acc: 0.7104\n",
      "Epoch 24/300\n",
      "891/891 [==============================] - 0s 35us/step - loss: 0.6007 - acc: 0.7127\n",
      "Epoch 25/300\n",
      "891/891 [==============================] - 0s 33us/step - loss: 0.5982 - acc: 0.7116\n",
      "Epoch 26/300\n",
      "891/891 [==============================] - 0s 36us/step - loss: 0.5963 - acc: 0.7160\n",
      "Epoch 27/300\n",
      "891/891 [==============================] - 0s 36us/step - loss: 0.5942 - acc: 0.7172\n",
      "Epoch 28/300\n",
      "891/891 [==============================] - 0s 34us/step - loss: 0.5916 - acc: 0.7172\n",
      "Epoch 29/300\n",
      "891/891 [==============================] - 0s 28us/step - loss: 0.5895 - acc: 0.7183\n",
      "Epoch 30/300\n",
      "891/891 [==============================] - 0s 30us/step - loss: 0.5868 - acc: 0.7228\n",
      "Epoch 31/300\n",
      "891/891 [==============================] - 0s 30us/step - loss: 0.5848 - acc: 0.7205\n",
      "Epoch 32/300\n",
      "891/891 [==============================] - 0s 47us/step - loss: 0.5827 - acc: 0.7194\n",
      "Epoch 33/300\n",
      "891/891 [==============================] - 0s 37us/step - loss: 0.5810 - acc: 0.7149\n",
      "Epoch 34/300\n",
      "891/891 [==============================] - 0s 43us/step - loss: 0.5784 - acc: 0.7205\n",
      "Epoch 35/300\n",
      "891/891 [==============================] - 0s 51us/step - loss: 0.5759 - acc: 0.7239\n",
      "Epoch 36/300\n",
      "891/891 [==============================] - 0s 74us/step - loss: 0.5736 - acc: 0.7250\n",
      "Epoch 37/300\n",
      "891/891 [==============================] - 0s 41us/step - loss: 0.5713 - acc: 0.7239\n",
      "Epoch 38/300\n",
      "891/891 [==============================] - 0s 57us/step - loss: 0.5689 - acc: 0.7228\n",
      "Epoch 39/300\n",
      "891/891 [==============================] - 0s 33us/step - loss: 0.5674 - acc: 0.7194\n",
      "Epoch 40/300\n",
      "891/891 [==============================] - 0s 25us/step - loss: 0.5644 - acc: 0.7205\n",
      "Epoch 41/300\n",
      "891/891 [==============================] - 0s 28us/step - loss: 0.5617 - acc: 0.7273\n",
      "Epoch 42/300\n",
      "891/891 [==============================] - 0s 25us/step - loss: 0.5593 - acc: 0.7273\n",
      "Epoch 43/300\n",
      "891/891 [==============================] - 0s 29us/step - loss: 0.5562 - acc: 0.7284\n",
      "Epoch 44/300\n",
      "891/891 [==============================] - 0s 21us/step - loss: 0.5539 - acc: 0.7306\n",
      "Epoch 45/300\n",
      "891/891 [==============================] - 0s 49us/step - loss: 0.5510 - acc: 0.7363\n",
      "Epoch 46/300\n",
      "891/891 [==============================] - 0s 45us/step - loss: 0.5478 - acc: 0.7441\n",
      "Epoch 47/300\n",
      "891/891 [==============================] - 0s 31us/step - loss: 0.5446 - acc: 0.7475\n",
      "Epoch 48/300\n",
      "891/891 [==============================] - 0s 36us/step - loss: 0.5415 - acc: 0.7407\n",
      "Epoch 49/300\n",
      "891/891 [==============================] - 0s 46us/step - loss: 0.5399 - acc: 0.7475\n",
      "Epoch 50/300\n",
      "891/891 [==============================] - 0s 46us/step - loss: 0.5359 - acc: 0.7520\n",
      "Epoch 51/300\n",
      "891/891 [==============================] - 0s 45us/step - loss: 0.5322 - acc: 0.7486\n",
      "Epoch 52/300\n",
      "891/891 [==============================] - 0s 66us/step - loss: 0.5299 - acc: 0.7553\n",
      "Epoch 53/300\n",
      "891/891 [==============================] - 0s 40us/step - loss: 0.5269 - acc: 0.7531\n",
      "Epoch 54/300\n",
      "891/891 [==============================] - 0s 48us/step - loss: 0.5230 - acc: 0.7654\n",
      "Epoch 55/300\n",
      "891/891 [==============================] - 0s 32us/step - loss: 0.5197 - acc: 0.7632\n",
      "Epoch 56/300\n",
      "891/891 [==============================] - 0s 41us/step - loss: 0.5163 - acc: 0.7632\n",
      "Epoch 57/300\n",
      "891/891 [==============================] - 0s 34us/step - loss: 0.5126 - acc: 0.7722\n",
      "Epoch 58/300\n",
      "891/891 [==============================] - 0s 27us/step - loss: 0.5098 - acc: 0.7710\n",
      "Epoch 59/300\n",
      "891/891 [==============================] - 0s 48us/step - loss: 0.5064 - acc: 0.7789\n",
      "Epoch 60/300\n",
      "891/891 [==============================] - 0s 22us/step - loss: 0.5030 - acc: 0.7800\n",
      "Epoch 61/300\n",
      "891/891 [==============================] - 0s 37us/step - loss: 0.5007 - acc: 0.7767\n",
      "Epoch 62/300\n",
      "891/891 [==============================] - 0s 33us/step - loss: 0.4957 - acc: 0.7778\n",
      "Epoch 63/300\n",
      "891/891 [==============================] - 0s 29us/step - loss: 0.4932 - acc: 0.7789\n",
      "Epoch 64/300\n",
      "891/891 [==============================] - 0s 48us/step - loss: 0.4908 - acc: 0.7710\n",
      "Epoch 65/300\n",
      "891/891 [==============================] - 0s 29us/step - loss: 0.4864 - acc: 0.7778\n",
      "Epoch 66/300\n",
      "891/891 [==============================] - 0s 25us/step - loss: 0.4834 - acc: 0.7856\n",
      "Epoch 67/300\n",
      "891/891 [==============================] - 0s 37us/step - loss: 0.4811 - acc: 0.7879\n",
      "Epoch 68/300\n",
      "891/891 [==============================] - 0s 28us/step - loss: 0.4781 - acc: 0.7901\n",
      "Epoch 69/300\n",
      "891/891 [==============================] - 0s 33us/step - loss: 0.4754 - acc: 0.7924\n",
      "Epoch 70/300\n",
      "891/891 [==============================] - 0s 11us/step - loss: 0.4748 - acc: 0.7879\n",
      "Epoch 71/300\n",
      "891/891 [==============================] - 0s 40us/step - loss: 0.4716 - acc: 0.7868\n",
      "Epoch 72/300\n",
      "891/891 [==============================] - 0s 20us/step - loss: 0.4690 - acc: 0.7957\n",
      "Epoch 73/300\n",
      "891/891 [==============================] - 0s 51us/step - loss: 0.4686 - acc: 0.7957\n",
      "Epoch 74/300\n",
      "891/891 [==============================] - 0s 29us/step - loss: 0.4647 - acc: 0.7980\n",
      "Epoch 75/300\n",
      "891/891 [==============================] - 0s 30us/step - loss: 0.4625 - acc: 0.7957\n",
      "Epoch 76/300\n",
      "891/891 [==============================] - 0s 45us/step - loss: 0.4608 - acc: 0.8036\n",
      "Epoch 77/300\n",
      "891/891 [==============================] - 0s 31us/step - loss: 0.4590 - acc: 0.8013\n",
      "Epoch 78/300\n",
      "891/891 [==============================] - 0s 30us/step - loss: 0.4575 - acc: 0.7946\n",
      "Epoch 79/300\n",
      "891/891 [==============================] - 0s 30us/step - loss: 0.4567 - acc: 0.8047\n",
      "Epoch 80/300\n",
      "891/891 [==============================] - 0s 28us/step - loss: 0.4544 - acc: 0.7991\n",
      "Epoch 81/300\n",
      "891/891 [==============================] - 0s 29us/step - loss: 0.4527 - acc: 0.8025\n",
      "Epoch 82/300\n",
      "891/891 [==============================] - 0s 22us/step - loss: 0.4519 - acc: 0.8013\n",
      "Epoch 83/300\n",
      "891/891 [==============================] - 0s 22us/step - loss: 0.4504 - acc: 0.8114\n",
      "Epoch 84/300\n"
     ]
    },
    {
     "name": "stdout",
     "output_type": "stream",
     "text": [
      "891/891 [==============================] - 0s 29us/step - loss: 0.4510 - acc: 0.8081\n",
      "Epoch 85/300\n",
      "891/891 [==============================] - 0s 23us/step - loss: 0.4493 - acc: 0.8047\n",
      "Epoch 86/300\n",
      "891/891 [==============================] - 0s 26us/step - loss: 0.4469 - acc: 0.8025\n",
      "Epoch 87/300\n",
      "891/891 [==============================] - 0s 18us/step - loss: 0.4470 - acc: 0.8058\n",
      "Epoch 88/300\n",
      "891/891 [==============================] - 0s 20us/step - loss: 0.4443 - acc: 0.8047\n",
      "Epoch 89/300\n",
      "891/891 [==============================] - 0s 43us/step - loss: 0.4452 - acc: 0.7969\n",
      "Epoch 90/300\n",
      "891/891 [==============================] - 0s 27us/step - loss: 0.4440 - acc: 0.8114\n",
      "Epoch 91/300\n",
      "891/891 [==============================] - 0s 25us/step - loss: 0.4427 - acc: 0.8126\n",
      "Epoch 92/300\n",
      "891/891 [==============================] - 0s 43us/step - loss: 0.4407 - acc: 0.8058\n",
      "Epoch 93/300\n",
      "891/891 [==============================] - 0s 35us/step - loss: 0.4399 - acc: 0.8148\n",
      "Epoch 94/300\n",
      "891/891 [==============================] - 0s 31us/step - loss: 0.4398 - acc: 0.8058\n",
      "Epoch 95/300\n",
      "891/891 [==============================] - 0s 23us/step - loss: 0.4384 - acc: 0.8058\n",
      "Epoch 96/300\n",
      "891/891 [==============================] - 0s 24us/step - loss: 0.4366 - acc: 0.8070\n",
      "Epoch 97/300\n",
      "891/891 [==============================] - 0s 38us/step - loss: 0.4374 - acc: 0.8126\n",
      "Epoch 98/300\n",
      "891/891 [==============================] - 0s 22us/step - loss: 0.4359 - acc: 0.8092\n",
      "Epoch 99/300\n",
      "891/891 [==============================] - 0s 53us/step - loss: 0.4342 - acc: 0.8092\n",
      "Epoch 100/300\n",
      "891/891 [==============================] - 0s 12us/step - loss: 0.4356 - acc: 0.8081\n",
      "Epoch 101/300\n",
      "891/891 [==============================] - 0s 27us/step - loss: 0.4328 - acc: 0.8137\n",
      "Epoch 102/300\n",
      "891/891 [==============================] - 0s 55us/step - loss: 0.4331 - acc: 0.8058\n",
      "Epoch 103/300\n",
      "891/891 [==============================] - 0s 31us/step - loss: 0.4327 - acc: 0.8171\n",
      "Epoch 104/300\n",
      "891/891 [==============================] - 0s 39us/step - loss: 0.4311 - acc: 0.8092\n",
      "Epoch 105/300\n",
      "891/891 [==============================] - 0s 19us/step - loss: 0.4301 - acc: 0.8137\n",
      "Epoch 106/300\n",
      "891/891 [==============================] - 0s 37us/step - loss: 0.4294 - acc: 0.8159\n",
      "Epoch 107/300\n",
      "891/891 [==============================] - 0s 35us/step - loss: 0.4298 - acc: 0.8114\n",
      "Epoch 108/300\n",
      "891/891 [==============================] - 0s 38us/step - loss: 0.4308 - acc: 0.8081\n",
      "Epoch 109/300\n",
      "891/891 [==============================] - 0s 35us/step - loss: 0.4317 - acc: 0.8148\n",
      "Epoch 110/300\n",
      "891/891 [==============================] - 0s 27us/step - loss: 0.4278 - acc: 0.8070\n",
      "Epoch 111/300\n",
      "891/891 [==============================] - 0s 36us/step - loss: 0.4285 - acc: 0.8148\n",
      "Epoch 112/300\n",
      "891/891 [==============================] - 0s 40us/step - loss: 0.4278 - acc: 0.8171\n",
      "Epoch 113/300\n",
      "891/891 [==============================] - 0s 31us/step - loss: 0.4274 - acc: 0.8260\n",
      "Epoch 114/300\n",
      "891/891 [==============================] - 0s 31us/step - loss: 0.4262 - acc: 0.8137\n",
      "Epoch 115/300\n",
      "891/891 [==============================] - 0s 40us/step - loss: 0.4262 - acc: 0.8193\n",
      "Epoch 116/300\n",
      "891/891 [==============================] - 0s 49us/step - loss: 0.4255 - acc: 0.8171\n",
      "Epoch 117/300\n",
      "891/891 [==============================] - 0s 40us/step - loss: 0.4248 - acc: 0.8272\n",
      "Epoch 118/300\n",
      "891/891 [==============================] - 0s 36us/step - loss: 0.4251 - acc: 0.8148\n",
      "Epoch 119/300\n",
      "891/891 [==============================] - 0s 36us/step - loss: 0.4248 - acc: 0.8316\n",
      "Epoch 120/300\n",
      "891/891 [==============================] - 0s 27us/step - loss: 0.4234 - acc: 0.8171\n",
      "Epoch 121/300\n",
      "891/891 [==============================] - 0s 33us/step - loss: 0.4229 - acc: 0.8238\n",
      "Epoch 122/300\n",
      "891/891 [==============================] - 0s 23us/step - loss: 0.4238 - acc: 0.8249\n",
      "Epoch 123/300\n",
      "891/891 [==============================] - 0s 31us/step - loss: 0.4251 - acc: 0.8215\n",
      "Epoch 124/300\n",
      "891/891 [==============================] - 0s 44us/step - loss: 0.4221 - acc: 0.8227\n",
      "Epoch 125/300\n",
      "891/891 [==============================] - 0s 27us/step - loss: 0.4212 - acc: 0.8294\n",
      "Epoch 126/300\n",
      "891/891 [==============================] - 0s 36us/step - loss: 0.4221 - acc: 0.8215\n",
      "Epoch 127/300\n",
      "891/891 [==============================] - 0s 37us/step - loss: 0.4214 - acc: 0.8294\n",
      "Epoch 128/300\n",
      "891/891 [==============================] - 0s 44us/step - loss: 0.4201 - acc: 0.8260\n",
      "Epoch 129/300\n",
      "891/891 [==============================] - 0s 57us/step - loss: 0.4207 - acc: 0.8182\n",
      "Epoch 130/300\n",
      "891/891 [==============================] - 0s 35us/step - loss: 0.4212 - acc: 0.8272\n",
      "Epoch 131/300\n",
      "891/891 [==============================] - 0s 35us/step - loss: 0.4204 - acc: 0.8305\n",
      "Epoch 132/300\n",
      "891/891 [==============================] - 0s 31us/step - loss: 0.4192 - acc: 0.8283\n",
      "Epoch 133/300\n",
      "891/891 [==============================] - 0s 28us/step - loss: 0.4217 - acc: 0.8272\n",
      "Epoch 134/300\n",
      "891/891 [==============================] - 0s 32us/step - loss: 0.4206 - acc: 0.8249\n",
      "Epoch 135/300\n",
      "891/891 [==============================] - 0s 27us/step - loss: 0.4193 - acc: 0.8238\n",
      "Epoch 136/300\n",
      "891/891 [==============================] - 0s 35us/step - loss: 0.4187 - acc: 0.8294\n",
      "Epoch 137/300\n",
      "891/891 [==============================] - 0s 35us/step - loss: 0.4178 - acc: 0.8260\n",
      "Epoch 138/300\n",
      "891/891 [==============================] - 0s 27us/step - loss: 0.4180 - acc: 0.8283\n",
      "Epoch 139/300\n",
      "891/891 [==============================] - 0s 30us/step - loss: 0.4186 - acc: 0.8272\n",
      "Epoch 140/300\n",
      "891/891 [==============================] - 0s 32us/step - loss: 0.4183 - acc: 0.8204\n",
      "Epoch 141/300\n",
      "891/891 [==============================] - 0s 35us/step - loss: 0.4171 - acc: 0.8328\n",
      "Epoch 142/300\n",
      "891/891 [==============================] - 0s 33us/step - loss: 0.4204 - acc: 0.8215\n",
      "Epoch 143/300\n",
      "891/891 [==============================] - 0s 31us/step - loss: 0.4175 - acc: 0.8272\n",
      "Epoch 144/300\n",
      "891/891 [==============================] - 0s 40us/step - loss: 0.4158 - acc: 0.8316\n",
      "Epoch 145/300\n",
      "891/891 [==============================] - 0s 33us/step - loss: 0.4160 - acc: 0.8316\n",
      "Epoch 146/300\n",
      "891/891 [==============================] - 0s 42us/step - loss: 0.4149 - acc: 0.8294\n",
      "Epoch 147/300\n",
      "891/891 [==============================] - ETA: 0s - loss: 0.5535 - acc: 0.781 - 0s 37us/step - loss: 0.4154 - acc: 0.8328\n",
      "Epoch 148/300\n",
      "891/891 [==============================] - 0s 29us/step - loss: 0.4162 - acc: 0.8272\n",
      "Epoch 149/300\n",
      "891/891 [==============================] - 0s 42us/step - loss: 0.4151 - acc: 0.8339\n",
      "Epoch 150/300\n",
      "891/891 [==============================] - 0s 36us/step - loss: 0.4160 - acc: 0.8294\n",
      "Epoch 151/300\n",
      "891/891 [==============================] - 0s 35us/step - loss: 0.4150 - acc: 0.8272\n",
      "Epoch 152/300\n",
      "891/891 [==============================] - 0s 42us/step - loss: 0.4155 - acc: 0.8316\n",
      "Epoch 153/300\n",
      "891/891 [==============================] - 0s 37us/step - loss: 0.4143 - acc: 0.8305\n",
      "Epoch 154/300\n",
      "891/891 [==============================] - 0s 28us/step - loss: 0.4141 - acc: 0.8328\n",
      "Epoch 155/300\n",
      "891/891 [==============================] - 0s 29us/step - loss: 0.4139 - acc: 0.8316\n",
      "Epoch 156/300\n",
      "891/891 [==============================] - 0s 31us/step - loss: 0.4141 - acc: 0.8305\n",
      "Epoch 157/300\n",
      "891/891 [==============================] - 0s 43us/step - loss: 0.4159 - acc: 0.8272\n",
      "Epoch 158/300\n",
      "891/891 [==============================] - 0s 32us/step - loss: 0.4145 - acc: 0.8249\n",
      "Epoch 159/300\n",
      "891/891 [==============================] - 0s 51us/step - loss: 0.4139 - acc: 0.8283\n",
      "Epoch 160/300\n",
      "891/891 [==============================] - 0s 31us/step - loss: 0.4133 - acc: 0.8272\n",
      "Epoch 161/300\n",
      "891/891 [==============================] - 0s 31us/step - loss: 0.4148 - acc: 0.8193\n",
      "Epoch 162/300\n",
      "891/891 [==============================] - 0s 25us/step - loss: 0.4151 - acc: 0.8350\n",
      "Epoch 163/300\n",
      "891/891 [==============================] - 0s 35us/step - loss: 0.4124 - acc: 0.8350\n",
      "Epoch 164/300\n",
      "891/891 [==============================] - 0s 27us/step - loss: 0.4121 - acc: 0.8272\n",
      "Epoch 165/300\n",
      "891/891 [==============================] - 0s 26us/step - loss: 0.4121 - acc: 0.8339\n",
      "Epoch 166/300\n"
     ]
    },
    {
     "name": "stdout",
     "output_type": "stream",
     "text": [
      "891/891 [==============================] - 0s 32us/step - loss: 0.4131 - acc: 0.8260\n",
      "Epoch 167/300\n",
      "891/891 [==============================] - 0s 40us/step - loss: 0.4118 - acc: 0.8328\n",
      "Epoch 168/300\n",
      "891/891 [==============================] - 0s 30us/step - loss: 0.4117 - acc: 0.8316\n",
      "Epoch 169/300\n",
      "891/891 [==============================] - 0s 39us/step - loss: 0.4116 - acc: 0.8305\n",
      "Epoch 170/300\n",
      "891/891 [==============================] - 0s 19us/step - loss: 0.4116 - acc: 0.8339\n",
      "Epoch 171/300\n",
      "891/891 [==============================] - 0s 28us/step - loss: 0.4128 - acc: 0.8272\n",
      "Epoch 172/300\n",
      "891/891 [==============================] - 0s 47us/step - loss: 0.4129 - acc: 0.8316\n",
      "Epoch 173/300\n",
      "891/891 [==============================] - 0s 35us/step - loss: 0.4116 - acc: 0.8294\n",
      "Epoch 174/300\n",
      "891/891 [==============================] - 0s 30us/step - loss: 0.4109 - acc: 0.8361\n",
      "Epoch 175/300\n",
      "891/891 [==============================] - 0s 30us/step - loss: 0.4102 - acc: 0.8350\n",
      "Epoch 176/300\n",
      "891/891 [==============================] - 0s 40us/step - loss: 0.4107 - acc: 0.8361\n",
      "Epoch 177/300\n",
      "891/891 [==============================] - 0s 43us/step - loss: 0.4118 - acc: 0.8350\n",
      "Epoch 178/300\n",
      "891/891 [==============================] - 0s 19us/step - loss: 0.4111 - acc: 0.8361\n",
      "Epoch 179/300\n",
      "891/891 [==============================] - 0s 46us/step - loss: 0.4101 - acc: 0.8339\n",
      "Epoch 180/300\n",
      "891/891 [==============================] - 0s 35us/step - loss: 0.4102 - acc: 0.8328\n",
      "Epoch 181/300\n",
      "891/891 [==============================] - 0s 19us/step - loss: 0.4102 - acc: 0.8350\n",
      "Epoch 182/300\n",
      "891/891 [==============================] - 0s 41us/step - loss: 0.4099 - acc: 0.8373\n",
      "Epoch 183/300\n",
      "891/891 [==============================] - 0s 38us/step - loss: 0.4106 - acc: 0.8350\n",
      "Epoch 184/300\n",
      "891/891 [==============================] - 0s 24us/step - loss: 0.4101 - acc: 0.8350\n",
      "Epoch 185/300\n",
      "891/891 [==============================] - 0s 34us/step - loss: 0.4099 - acc: 0.8361\n",
      "Epoch 186/300\n",
      "891/891 [==============================] - 0s 30us/step - loss: 0.4104 - acc: 0.8350\n",
      "Epoch 187/300\n",
      "891/891 [==============================] - 0s 28us/step - loss: 0.4091 - acc: 0.8316\n",
      "Epoch 188/300\n",
      "891/891 [==============================] - 0s 38us/step - loss: 0.4088 - acc: 0.8350\n",
      "Epoch 189/300\n",
      "891/891 [==============================] - 0s 51us/step - loss: 0.4094 - acc: 0.8328\n",
      "Epoch 190/300\n",
      "891/891 [==============================] - 0s 22us/step - loss: 0.4086 - acc: 0.8350\n",
      "Epoch 191/300\n",
      "891/891 [==============================] - 0s 27us/step - loss: 0.4084 - acc: 0.8373\n",
      "Epoch 192/300\n",
      "891/891 [==============================] - 0s 33us/step - loss: 0.4085 - acc: 0.8350\n",
      "Epoch 193/300\n",
      "891/891 [==============================] - 0s 43us/step - loss: 0.4102 - acc: 0.8339\n",
      "Epoch 194/300\n",
      "891/891 [==============================] - 0s 29us/step - loss: 0.4091 - acc: 0.8350\n",
      "Epoch 195/300\n",
      "891/891 [==============================] - 0s 30us/step - loss: 0.4085 - acc: 0.8328\n",
      "Epoch 196/300\n",
      "891/891 [==============================] - ETA: 0s - loss: 0.4184 - acc: 0.843 - 0s 16us/step - loss: 0.4077 - acc: 0.8373\n",
      "Epoch 197/300\n",
      "891/891 [==============================] - 0s 28us/step - loss: 0.4087 - acc: 0.8384\n",
      "Epoch 198/300\n",
      "891/891 [==============================] - 0s 21us/step - loss: 0.4088 - acc: 0.8350\n",
      "Epoch 199/300\n",
      "891/891 [==============================] - 0s 45us/step - loss: 0.4091 - acc: 0.8373\n",
      "Epoch 200/300\n",
      "891/891 [==============================] - 0s 28us/step - loss: 0.4076 - acc: 0.8361\n",
      "Epoch 201/300\n",
      "891/891 [==============================] - 0s 57us/step - loss: 0.4089 - acc: 0.8373\n",
      "Epoch 202/300\n",
      "891/891 [==============================] - 0s 34us/step - loss: 0.4079 - acc: 0.8339\n",
      "Epoch 203/300\n",
      "891/891 [==============================] - 0s 30us/step - loss: 0.4071 - acc: 0.8361\n",
      "Epoch 204/300\n",
      "891/891 [==============================] - 0s 44us/step - loss: 0.4076 - acc: 0.8294\n",
      "Epoch 205/300\n",
      "891/891 [==============================] - 0s 24us/step - loss: 0.4068 - acc: 0.8361\n",
      "Epoch 206/300\n",
      "891/891 [==============================] - 0s 49us/step - loss: 0.4080 - acc: 0.8361\n",
      "Epoch 207/300\n",
      "891/891 [==============================] - 0s 25us/step - loss: 0.4069 - acc: 0.8328\n",
      "Epoch 208/300\n",
      "891/891 [==============================] - 0s 30us/step - loss: 0.4068 - acc: 0.8373\n",
      "Epoch 209/300\n",
      "891/891 [==============================] - 0s 38us/step - loss: 0.4086 - acc: 0.8272\n",
      "Epoch 210/300\n",
      "891/891 [==============================] - 0s 38us/step - loss: 0.4068 - acc: 0.8350\n",
      "Epoch 211/300\n",
      "891/891 [==============================] - 0s 26us/step - loss: 0.4064 - acc: 0.8350\n",
      "Epoch 212/300\n",
      "891/891 [==============================] - 0s 32us/step - loss: 0.4067 - acc: 0.8350\n",
      "Epoch 213/300\n",
      "891/891 [==============================] - 0s 48us/step - loss: 0.4085 - acc: 0.8384\n",
      "Epoch 214/300\n",
      "891/891 [==============================] - 0s 38us/step - loss: 0.4068 - acc: 0.8361\n",
      "Epoch 215/300\n",
      "891/891 [==============================] - 0s 49us/step - loss: 0.4067 - acc: 0.8283\n",
      "Epoch 216/300\n",
      "891/891 [==============================] - 0s 30us/step - loss: 0.4060 - acc: 0.8361\n",
      "Epoch 217/300\n",
      "891/891 [==============================] - 0s 31us/step - loss: 0.4074 - acc: 0.8328\n",
      "Epoch 218/300\n",
      "891/891 [==============================] - 0s 49us/step - loss: 0.4062 - acc: 0.8328\n",
      "Epoch 219/300\n",
      "891/891 [==============================] - 0s 32us/step - loss: 0.4058 - acc: 0.8373\n",
      "Epoch 220/300\n",
      "891/891 [==============================] - 0s 27us/step - loss: 0.4050 - acc: 0.8384\n",
      "Epoch 221/300\n",
      "891/891 [==============================] - 0s 36us/step - loss: 0.4064 - acc: 0.8384\n",
      "Epoch 222/300\n",
      "891/891 [==============================] - 0s 34us/step - loss: 0.4052 - acc: 0.8339\n",
      "Epoch 223/300\n",
      "891/891 [==============================] - ETA: 0s - loss: 0.3493 - acc: 0.875 - 0s 24us/step - loss: 0.4050 - acc: 0.8339\n",
      "Epoch 224/300\n",
      "891/891 [==============================] - 0s 45us/step - loss: 0.4056 - acc: 0.8350\n",
      "Epoch 225/300\n",
      "891/891 [==============================] - 0s 31us/step - loss: 0.4054 - acc: 0.8328\n",
      "Epoch 226/300\n",
      "891/891 [==============================] - 0s 22us/step - loss: 0.4055 - acc: 0.8339\n",
      "Epoch 227/300\n",
      "891/891 [==============================] - 0s 25us/step - loss: 0.4056 - acc: 0.8339\n",
      "Epoch 228/300\n",
      "891/891 [==============================] - 0s 28us/step - loss: 0.4068 - acc: 0.8328\n",
      "Epoch 229/300\n",
      "891/891 [==============================] - 0s 38us/step - loss: 0.4052 - acc: 0.8384\n",
      "Epoch 230/300\n",
      "891/891 [==============================] - 0s 21us/step - loss: 0.4056 - acc: 0.8272\n",
      "Epoch 231/300\n",
      "891/891 [==============================] - 0s 37us/step - loss: 0.4047 - acc: 0.8373\n",
      "Epoch 232/300\n",
      "891/891 [==============================] - 0s 38us/step - loss: 0.4041 - acc: 0.8328\n",
      "Epoch 233/300\n",
      "891/891 [==============================] - 0s 37us/step - loss: 0.4041 - acc: 0.8361\n",
      "Epoch 234/300\n",
      "891/891 [==============================] - 0s 34us/step - loss: 0.4054 - acc: 0.8305\n",
      "Epoch 235/300\n",
      "891/891 [==============================] - 0s 38us/step - loss: 0.4049 - acc: 0.8350\n",
      "Epoch 236/300\n",
      "891/891 [==============================] - 0s 48us/step - loss: 0.4042 - acc: 0.8339\n",
      "Epoch 237/300\n",
      "891/891 [==============================] - 0s 40us/step - loss: 0.4034 - acc: 0.8328\n",
      "Epoch 238/300\n",
      "891/891 [==============================] - 0s 40us/step - loss: 0.4053 - acc: 0.8361\n",
      "Epoch 239/300\n",
      "891/891 [==============================] - 0s 26us/step - loss: 0.4040 - acc: 0.8339\n",
      "Epoch 240/300\n",
      "891/891 [==============================] - 0s 75us/step - loss: 0.4059 - acc: 0.8227\n",
      "Epoch 241/300\n",
      "891/891 [==============================] - 0s 28us/step - loss: 0.4056 - acc: 0.8373\n",
      "Epoch 242/300\n",
      "891/891 [==============================] - ETA: 0s - loss: 0.3376 - acc: 0.906 - 0s 31us/step - loss: 0.4037 - acc: 0.8361\n",
      "Epoch 243/300\n",
      "891/891 [==============================] - 0s 51us/step - loss: 0.4031 - acc: 0.8339\n",
      "Epoch 244/300\n",
      "891/891 [==============================] - 0s 25us/step - loss: 0.4052 - acc: 0.8227\n",
      "Epoch 245/300\n",
      "891/891 [==============================] - 0s 49us/step - loss: 0.4039 - acc: 0.8339\n",
      "Epoch 246/300\n",
      "891/891 [==============================] - 0s 27us/step - loss: 0.4033 - acc: 0.8373\n",
      "Epoch 247/300\n"
     ]
    },
    {
     "name": "stdout",
     "output_type": "stream",
     "text": [
      "891/891 [==============================] - 0s 24us/step - loss: 0.4029 - acc: 0.8350\n",
      "Epoch 248/300\n",
      "891/891 [==============================] - 0s 27us/step - loss: 0.4042 - acc: 0.8339\n",
      "Epoch 249/300\n",
      "891/891 [==============================] - 0s 35us/step - loss: 0.4035 - acc: 0.8361\n",
      "Epoch 250/300\n",
      "891/891 [==============================] - 0s 37us/step - loss: 0.4033 - acc: 0.8339\n",
      "Epoch 251/300\n",
      "891/891 [==============================] - 0s 27us/step - loss: 0.4027 - acc: 0.8328\n",
      "Epoch 252/300\n",
      "891/891 [==============================] - 0s 38us/step - loss: 0.4031 - acc: 0.8361\n",
      "Epoch 253/300\n",
      "891/891 [==============================] - 0s 23us/step - loss: 0.4043 - acc: 0.8305\n",
      "Epoch 254/300\n",
      "891/891 [==============================] - 0s 33us/step - loss: 0.4028 - acc: 0.8328\n",
      "Epoch 255/300\n",
      "891/891 [==============================] - 0s 37us/step - loss: 0.4023 - acc: 0.8339\n",
      "Epoch 256/300\n",
      "891/891 [==============================] - 0s 29us/step - loss: 0.4040 - acc: 0.8339\n",
      "Epoch 257/300\n",
      "891/891 [==============================] - 0s 36us/step - loss: 0.4032 - acc: 0.8339\n",
      "Epoch 258/300\n",
      "891/891 [==============================] - 0s 11us/step - loss: 0.4032 - acc: 0.8328\n",
      "Epoch 259/300\n",
      "891/891 [==============================] - 0s 27us/step - loss: 0.4032 - acc: 0.8339\n",
      "Epoch 260/300\n",
      "891/891 [==============================] - 0s 32us/step - loss: 0.4033 - acc: 0.8283\n",
      "Epoch 261/300\n",
      "891/891 [==============================] - 0s 28us/step - loss: 0.4030 - acc: 0.8361\n",
      "Epoch 262/300\n",
      "891/891 [==============================] - 0s 44us/step - loss: 0.4028 - acc: 0.8361\n",
      "Epoch 263/300\n",
      "891/891 [==============================] - 0s 19us/step - loss: 0.4018 - acc: 0.8339\n",
      "Epoch 264/300\n",
      "891/891 [==============================] - 0s 44us/step - loss: 0.4013 - acc: 0.8373\n",
      "Epoch 265/300\n",
      "891/891 [==============================] - 0s 27us/step - loss: 0.4027 - acc: 0.8316\n",
      "Epoch 266/300\n",
      "891/891 [==============================] - 0s 37us/step - loss: 0.4048 - acc: 0.8316\n",
      "Epoch 267/300\n",
      "891/891 [==============================] - 0s 43us/step - loss: 0.4025 - acc: 0.8361\n",
      "Epoch 268/300\n",
      "891/891 [==============================] - 0s 37us/step - loss: 0.4026 - acc: 0.8373\n",
      "Epoch 269/300\n",
      "891/891 [==============================] - 0s 36us/step - loss: 0.4009 - acc: 0.8373\n",
      "Epoch 270/300\n",
      "891/891 [==============================] - 0s 31us/step - loss: 0.4018 - acc: 0.8350\n",
      "Epoch 271/300\n",
      "891/891 [==============================] - 0s 23us/step - loss: 0.4026 - acc: 0.8283\n",
      "Epoch 272/300\n",
      "891/891 [==============================] - 0s 51us/step - loss: 0.4029 - acc: 0.8339\n",
      "Epoch 273/300\n",
      "891/891 [==============================] - 0s 38us/step - loss: 0.4014 - acc: 0.8361\n",
      "Epoch 274/300\n",
      "891/891 [==============================] - 0s 32us/step - loss: 0.4015 - acc: 0.8361\n",
      "Epoch 275/300\n",
      "891/891 [==============================] - 0s 34us/step - loss: 0.4019 - acc: 0.8328\n",
      "Epoch 276/300\n",
      "891/891 [==============================] - 0s 54us/step - loss: 0.4038 - acc: 0.8328\n",
      "Epoch 277/300\n",
      "891/891 [==============================] - 0s 35us/step - loss: 0.4020 - acc: 0.8339\n",
      "Epoch 278/300\n",
      "891/891 [==============================] - 0s 40us/step - loss: 0.4024 - acc: 0.8328\n",
      "Epoch 279/300\n",
      "891/891 [==============================] - 0s 16us/step - loss: 0.4011 - acc: 0.8384\n",
      "Epoch 280/300\n",
      "891/891 [==============================] - 0s 52us/step - loss: 0.4006 - acc: 0.8350\n",
      "Epoch 281/300\n",
      "891/891 [==============================] - 0s 36us/step - loss: 0.4031 - acc: 0.8204\n",
      "Epoch 282/300\n",
      "891/891 [==============================] - 0s 51us/step - loss: 0.4024 - acc: 0.8339\n",
      "Epoch 283/300\n",
      "891/891 [==============================] - 0s 30us/step - loss: 0.4024 - acc: 0.8361\n",
      "Epoch 284/300\n",
      "891/891 [==============================] - 0s 55us/step - loss: 0.4011 - acc: 0.8350\n",
      "Epoch 285/300\n",
      "891/891 [==============================] - 0s 27us/step - loss: 0.4006 - acc: 0.8361\n",
      "Epoch 286/300\n",
      "891/891 [==============================] - 0s 44us/step - loss: 0.4017 - acc: 0.8361\n",
      "Epoch 287/300\n",
      "891/891 [==============================] - 0s 27us/step - loss: 0.4022 - acc: 0.8361\n",
      "Epoch 288/300\n",
      "891/891 [==============================] - 0s 42us/step - loss: 0.4014 - acc: 0.8350\n",
      "Epoch 289/300\n",
      "891/891 [==============================] - 0s 16us/step - loss: 0.4015 - acc: 0.8339\n",
      "Epoch 290/300\n",
      "891/891 [==============================] - 0s 51us/step - loss: 0.4002 - acc: 0.8350\n",
      "Epoch 291/300\n",
      "891/891 [==============================] - 0s 46us/step - loss: 0.4004 - acc: 0.8361\n",
      "Epoch 292/300\n",
      "891/891 [==============================] - 0s 36us/step - loss: 0.4013 - acc: 0.8328\n",
      "Epoch 293/300\n",
      "891/891 [==============================] - 0s 32us/step - loss: 0.3999 - acc: 0.8373\n",
      "Epoch 294/300\n",
      "891/891 [==============================] - 0s 22us/step - loss: 0.4011 - acc: 0.8294\n",
      "Epoch 295/300\n",
      "891/891 [==============================] - 0s 45us/step - loss: 0.4029 - acc: 0.8316\n",
      "Epoch 296/300\n",
      "891/891 [==============================] - 0s 27us/step - loss: 0.4018 - acc: 0.8328\n",
      "Epoch 297/300\n",
      "891/891 [==============================] - 0s 49us/step - loss: 0.4011 - acc: 0.8350\n",
      "Epoch 298/300\n",
      "891/891 [==============================] - 0s 21us/step - loss: 0.4002 - acc: 0.8350\n",
      "Epoch 299/300\n",
      "891/891 [==============================] - 0s 33us/step - loss: 0.4001 - acc: 0.8361\n",
      "Epoch 300/300\n",
      "891/891 [==============================] - 0s 24us/step - loss: 0.3996 - acc: 0.8373\n"
     ]
    },
    {
     "data": {
      "text/plain": [
       "<tensorflow.python.keras.callbacks.History at 0x2e627db3208>"
      ]
     },
     "execution_count": 34,
     "metadata": {},
     "output_type": "execute_result"
    }
   ],
   "source": [
    "model.fit(data_tr_np, labels_tr_np, epochs=300)"
   ]
  },
  {
   "cell_type": "code",
   "execution_count": 35,
   "metadata": {},
   "outputs": [],
   "source": [
    "data_test = pd.read_csv('./data/test.csv')"
   ]
  },
  {
   "cell_type": "code",
   "execution_count": 36,
   "metadata": {},
   "outputs": [
    {
     "name": "stdout",
     "output_type": "stream",
     "text": [
      "<class 'pandas.core.frame.DataFrame'>\n",
      "RangeIndex: 418 entries, 0 to 417\n",
      "Data columns (total 11 columns):\n",
      "PassengerId    418 non-null int64\n",
      "Pclass         418 non-null int64\n",
      "Name           418 non-null object\n",
      "Sex            418 non-null object\n",
      "Age            332 non-null float64\n",
      "SibSp          418 non-null int64\n",
      "Parch          418 non-null int64\n",
      "Ticket         418 non-null object\n",
      "Fare           417 non-null float64\n",
      "Cabin          91 non-null object\n",
      "Embarked       418 non-null object\n",
      "dtypes: float64(2), int64(4), object(5)\n",
      "memory usage: 36.0+ KB\n"
     ]
    }
   ],
   "source": [
    "data_test.info()"
   ]
  },
  {
   "cell_type": "code",
   "execution_count": 37,
   "metadata": {},
   "outputs": [],
   "source": [
    "Id = data_test[\"PassengerId\"]"
   ]
  },
  {
   "cell_type": "code",
   "execution_count": 38,
   "metadata": {},
   "outputs": [],
   "source": [
    "data_test = data_test.drop([\"Name\"], axis = 1)"
   ]
  },
  {
   "cell_type": "code",
   "execution_count": 39,
   "metadata": {},
   "outputs": [],
   "source": [
    "data_test = data_test.drop([\"Ticket\"], axis = 1)"
   ]
  },
  {
   "cell_type": "code",
   "execution_count": 40,
   "metadata": {},
   "outputs": [],
   "source": [
    "data_test = data_test.drop([\"Cabin\"], axis = 1)"
   ]
  },
  {
   "cell_type": "code",
   "execution_count": 41,
   "metadata": {},
   "outputs": [],
   "source": [
    "data_test = data_test.drop([\"Embarked\"], axis = 1)"
   ]
  },
  {
   "cell_type": "code",
   "execution_count": 42,
   "metadata": {},
   "outputs": [
    {
     "name": "stdout",
     "output_type": "stream",
     "text": [
      "Index(['Sex'], dtype='object')\n"
     ]
    }
   ],
   "source": [
    "cat_columns = data_test.select_dtypes(['object']).columns\n",
    "print(cat_columns)"
   ]
  },
  {
   "cell_type": "code",
   "execution_count": 43,
   "metadata": {},
   "outputs": [],
   "source": [
    "data_test[cat_columns] = data_test.select_dtypes(['object']).apply(pd.Series.astype, dtype='category')"
   ]
  },
  {
   "cell_type": "code",
   "execution_count": 44,
   "metadata": {},
   "outputs": [],
   "source": [
    "data_test[cat_columns]= data_test[cat_columns].apply(lambda x: x.cat.codes)"
   ]
  },
  {
   "cell_type": "code",
   "execution_count": 45,
   "metadata": {},
   "outputs": [
    {
     "name": "stdout",
     "output_type": "stream",
     "text": [
      "29.69911764705882\n"
     ]
    },
    {
     "data": {
      "image/png": "[encoded data removed]",
      "text/plain": [
       "<Figure size 432x288 with 1 Axes>"
      ]
     },
     "metadata": {},
     "output_type": "display_data"
    }
   ],
   "source": [
    "data_train[\"Age\"].hist(bins = 50)\n",
    "mean = data_train[\"Age\"].mean()\n",
    "print(mean)"
   ]
  },
  {
   "cell_type": "code",
   "execution_count": 46,
   "metadata": {},
   "outputs": [
    {
     "name": "stdout",
     "output_type": "stream",
     "text": [
      "<class 'pandas.core.frame.DataFrame'>\n",
      "RangeIndex: 418 entries, 0 to 417\n",
      "Data columns (total 7 columns):\n",
      "PassengerId    418 non-null int64\n",
      "Pclass         418 non-null int64\n",
      "Sex            418 non-null int8\n",
      "Age            332 non-null float64\n",
      "SibSp          418 non-null int64\n",
      "Parch          418 non-null int64\n",
      "Fare           417 non-null float64\n",
      "dtypes: float64(2), int64(4), int8(1)\n",
      "memory usage: 20.1 KB\n"
     ]
    }
   ],
   "source": [
    "data_test.info()"
   ]
  },
  {
   "cell_type": "code",
   "execution_count": 47,
   "metadata": {},
   "outputs": [
    {
     "name": "stderr",
     "output_type": "stream",
     "text": [
      "c:\\users\\nuclear\\anaconda3\\envs\\tensorflow\\lib\\site-packages\\ipykernel_launcher.py:2: SettingWithCopyWarning: \n",
      "A value is trying to be set on a copy of a slice from a DataFrame\n",
      "\n",
      "See the caveats in the documentation: http://pandas.pydata.org/pandas-docs/stable/indexing.html#indexing-view-versus-copy\n",
      "  \n"
     ]
    }
   ],
   "source": [
    "index = data_test['Age'].index[data_test['Age'].apply(np.isnan)]\n",
    "data_test['Age'][index] = mean # or data_test['Age'][index] = mean "
   ]
  },
  {
   "cell_type": "code",
   "execution_count": 48,
   "metadata": {},
   "outputs": [],
   "source": [
    "data_test = data_test.drop([\"PassengerId\"],axis = 1)"
   ]
  },
  {
   "cell_type": "code",
   "execution_count": 49,
   "metadata": {},
   "outputs": [
    {
     "name": "stdout",
     "output_type": "stream",
     "text": [
      "<class 'pandas.core.frame.DataFrame'>\n",
      "RangeIndex: 418 entries, 0 to 417\n",
      "Data columns (total 6 columns):\n",
      "Pclass    418 non-null int64\n",
      "Sex       418 non-null int8\n",
      "Age       418 non-null float64\n",
      "SibSp     418 non-null int64\n",
      "Parch     418 non-null int64\n",
      "Fare      417 non-null float64\n",
      "dtypes: float64(2), int64(3), int8(1)\n",
      "memory usage: 16.8 KB\n"
     ]
    }
   ],
   "source": [
    "data_test.info()"
   ]
  },
  {
   "cell_type": "code",
   "execution_count": 63,
   "metadata": {},
   "outputs": [
    {
     "name": "stderr",
     "output_type": "stream",
     "text": [
      "c:\\users\\nuclear\\anaconda3\\envs\\tensorflow\\lib\\site-packages\\ipykernel_launcher.py:3: SettingWithCopyWarning: \n",
      "A value is trying to be set on a copy of a slice from a DataFrame\n",
      "\n",
      "See the caveats in the documentation: http://pandas.pydata.org/pandas-docs/stable/indexing.html#indexing-view-versus-copy\n",
      "  This is separate from the ipykernel package so we can avoid doing imports until\n"
     ]
    }
   ],
   "source": [
    "#index = data_test[\"Fare\"].index[data_test[\"Fare\"].apply(np.isnan)]\n",
    "mean = data_train[\"Fare\"].mean()\n",
    "data_test[\"Fare\"][152] =  mean#???\n",
    "#print(data_train[\"Fare\"])\n",
    "#np.where(pd.isnull(data_train))\n",
    "#np.where(data.applymap(lambda x: x == ''))"
   ]
  },
  {
   "cell_type": "code",
   "execution_count": 64,
   "metadata": {},
   "outputs": [],
   "source": [
    "data_tr_np = data_test.values"
   ]
  },
  {
   "cell_type": "code",
   "execution_count": 65,
   "metadata": {},
   "outputs": [
    {
     "name": "stdout",
     "output_type": "stream",
     "text": [
      "(418, 6)\n"
     ]
    }
   ],
   "source": [
    "print(data_tr_np.shape)"
   ]
  },
  {
   "cell_type": "code",
   "execution_count": 66,
   "metadata": {},
   "outputs": [],
   "source": [
    "predictions = model.predict(data_tr_np)"
   ]
  },
  {
   "cell_type": "code",
   "execution_count": 67,
   "metadata": {},
   "outputs": [
    {
     "name": "stdout",
     "output_type": "stream",
     "text": [
      "(418, 1)\n"
     ]
    }
   ],
   "source": [
    "print(predictions.shape)"
   ]
  },
  {
   "cell_type": "code",
   "execution_count": 68,
   "metadata": {},
   "outputs": [
    {
     "data": {
      "text/plain": [
       "array([0.08530898, 0.35210976, 0.08097004, 0.1027159 , 0.46344   ,\n",
       "       0.19290963, 0.53940976, 0.15646729, 0.6949773 , 0.10082626,\n",
       "       0.09537736, 0.26183742, 0.9645251 , 0.11692351, 0.97641903,\n",
       "       0.9116437 , 0.09524207, 0.12986618, 0.3786125 , 0.44888496,\n",
       "       0.41305253, 0.4011787 , 0.9694949 , 0.3737398 , 0.90409   ,\n",
       "       0.07242616, 0.9535953 , 0.12214526, 0.3272545 , 0.08897401,\n",
       "       0.12873141, 0.14775011, 0.3004485 , 0.3054873 , 0.35492018,\n",
       "       0.14513148, 0.5536277 , 0.66932434, 0.10935211, 0.33304432,\n",
       "       0.09749726, 0.30468073, 0.07729463, 0.8881615 , 0.9756718 ,\n",
       "       0.11060829, 0.31447744, 0.09548862, 0.9802005 , 0.4652181 ,\n",
       "       0.37646845, 0.1287309 , 0.48929235, 0.8553539 , 0.12600876,\n",
       "       0.09203753, 0.08446851, 0.11085315, 0.08416535, 0.9602892 ,\n",
       "       0.15698478, 0.10542647, 0.14898613, 0.6423076 , 0.95102733,\n",
       "       0.93617254, 0.70089436, 0.3915085 , 0.31849545, 0.90338886,\n",
       "       0.6151388 , 0.12961173, 0.5577035 , 0.31439775, 0.96467394,\n",
       "       0.38516787, 0.0952629 , 0.9148337 , 0.10672121, 0.6151388 ,\n",
       "       0.7172905 , 0.4682005 , 0.25186357, 0.09537736, 0.09830683,\n",
       "       0.08094168, 0.5794518 , 0.70239305, 0.54569215, 0.9130913 ,\n",
       "       0.5100103 , 0.09546933, 0.92540157, 0.0952629 , 0.3053332 ,\n",
       "       0.11072455, 0.98254824, 0.09723661, 0.6722708 , 0.08788148,\n",
       "       0.9749555 , 0.1749086 , 0.09548862, 0.10694202, 0.6109234 ,\n",
       "       0.17695262, 0.12965468, 0.09548862, 0.09483315, 0.14869723,\n",
       "       0.10038581, 0.5464479 , 0.9726131 , 0.68796885, 0.97858375,\n",
       "       0.10530828, 0.09647131, 0.97547024, 0.4064827 , 0.9116664 ,\n",
       "       0.89989537, 0.08360069, 0.97102326, 0.10071605, 0.09548862,\n",
       "       0.69411886, 0.12430735, 0.5070347 , 0.09040567, 0.11464542,\n",
       "       0.08988149, 0.27914137, 0.34070927, 0.08589791, 0.07573407,\n",
       "       0.11481925, 0.10563717, 0.11687091, 0.63385975, 0.09407927,\n",
       "       0.13781354, 0.96821254, 0.3669683 , 0.25834537, 0.2817088 ,\n",
       "       0.07806116, 0.36923984, 0.1241192 , 0.30468073, 0.13111603,\n",
       "       0.9521515 , 0.09537736, 0.2085109 , 0.51657516, 0.09409261,\n",
       "       0.11507383, 0.9571914 , 0.630529  , 0.2817088 , 0.5988021 ,\n",
       "       0.54526156, 0.5756341 , 0.89375293, 0.09607387, 0.09122918,\n",
       "       0.4584477 , 0.40394127, 0.10442322, 0.9688816 , 0.6616537 ,\n",
       "       0.09564447, 0.10393358, 0.09063651, 0.09589677, 0.11931208,\n",
       "       0.8092505 , 0.9337926 , 0.40179497, 0.79451555, 0.97325075,\n",
       "       0.10672121, 0.35302994, 0.9618182 , 0.09548862, 0.92091346,\n",
       "       0.10782068, 0.850908  , 0.10512093, 0.1912967 , 0.0921268 ,\n",
       "       0.15771309, 0.2999539 , 0.24828869, 0.08338527, 0.85103303,\n",
       "       0.08798365, 0.95979583, 0.69996905, 0.11634713, 0.5553274 ,\n",
       "       0.7684238 , 0.9810321 , 0.40627837, 0.8054984 , 0.10947254,\n",
       "       0.29761317, 0.49907297, 0.11274077, 0.97049606, 0.11063468,\n",
       "       0.16736461, 0.0960357 , 0.38439173, 0.91411424, 0.48731318,\n",
       "       0.3797676 , 0.5490636 , 0.4171021 , 0.96572423, 0.0952629 ,\n",
       "       0.7618678 , 0.1295148 , 0.8626801 , 0.12966834, 0.97443175,\n",
       "       0.52539366, 0.11938701, 0.54569215, 0.08733113, 0.09657856,\n",
       "       0.44860864, 0.96308917, 0.10442293, 0.09538984, 0.37089694,\n",
       "       0.1354984 , 0.4574445 , 0.13557193, 0.6441595 , 0.97642493,\n",
       "       0.9745815 , 0.8740206 , 0.39701813, 0.09538358, 0.10963579,\n",
       "       0.36562037, 0.92289925, 0.15089975, 0.9116664 , 0.50873643,\n",
       "       0.9741623 , 0.1354706 , 0.38596424, 0.11356994, 0.08840649,\n",
       "       0.09564447, 0.09548862, 0.10004032, 0.8867276 , 0.12967934,\n",
       "       0.08162534, 0.12963586, 0.75430954, 0.97735494, 0.10537573,\n",
       "       0.09537736, 0.08701527, 0.09564447, 0.5536277 , 0.1571895 ,\n",
       "       0.39545548, 0.09548862, 0.96190864, 0.53903174, 0.09590004,\n",
       "       0.89661   , 0.10138699, 0.14475265, 0.12366136, 0.12032975,\n",
       "       0.64459395, 0.9594177 , 0.54569215, 0.6285052 , 0.96327347,\n",
       "       0.08319797, 0.09588049, 0.3903013 , 0.09589677, 0.0952629 ,\n",
       "       0.3530453 , 0.5231005 , 0.09589677, 0.3707947 , 0.08278934,\n",
       "       0.10683326, 0.977988  , 0.08897401, 0.35963824, 0.09729286,\n",
       "       0.09004643, 0.12131807, 0.1385964 , 0.11409334, 0.54569215,\n",
       "       0.9203923 , 0.35851136, 0.9752573 , 0.3735417 , 0.5341746 ,\n",
       "       0.14894645, 0.12461467, 0.09562486, 0.48663205, 0.9793163 ,\n",
       "       0.71409553, 0.45913863, 0.13505855, 0.10338942, 0.15140052,\n",
       "       0.10694202, 0.11119638, 0.11687091, 0.30038556, 0.9680323 ,\n",
       "       0.11985742, 0.76731336, 0.39663017, 0.16988501, 0.13552302,\n",
       "       0.91438526, 0.321995  , 0.09590004, 0.44284278, 0.10335276,\n",
       "       0.2995456 , 0.10277304, 0.17386122, 0.29659715, 0.09589677,\n",
       "       0.14116143, 0.09017123, 0.11678221, 0.9324112 , 0.10824295,\n",
       "       0.728221  , 0.11687091, 0.4664383 , 0.12655945, 0.9378019 ,\n",
       "       0.9704954 , 0.10947254, 0.37477657, 0.29986286, 0.97925866,\n",
       "       0.24844357, 0.9733555 , 0.09538984, 0.09548862, 0.5407697 ,\n",
       "       0.09779278, 0.874211  , 0.9378019 , 0.1027159 , 0.965451  ,\n",
       "       0.15933923, 0.08094755, 0.86659807, 0.97070754, 0.11414468,\n",
       "       0.09371597, 0.9680424 , 0.0738382 , 0.08896137, 0.9735237 ,\n",
       "       0.9685261 , 0.3338309 , 0.12802434, 0.4282476 , 0.11328761,\n",
       "       0.09548862, 0.10684828, 0.7461272 , 0.5629484 , 0.10671593,\n",
       "       0.8353363 , 0.11488774, 0.08438478, 0.12969242, 0.15219288,\n",
       "       0.39120877, 0.9727436 , 0.49207932, 0.08206836, 0.0916903 ,\n",
       "       0.9617272 , 0.11529475, 0.97033465, 0.12432159, 0.09229171,\n",
       "       0.9645666 , 0.11229669, 0.9537715 , 0.3926827 , 0.17891869,\n",
       "       0.14619131, 0.08925662, 0.39168927, 0.54494005, 0.9538525 ,\n",
       "       0.54569215, 0.9730259 , 0.56518936, 0.0952629 , 0.9744864 ,\n",
       "       0.07990112, 0.09526292, 0.10722707], dtype=float32)"
      ]
     },
     "execution_count": 68,
     "metadata": {},
     "output_type": "execute_result"
    }
   ],
   "source": [
    "predictions.reshape(418,)"
   ]
  },
  {
   "cell_type": "code",
   "execution_count": 69,
   "metadata": {},
   "outputs": [],
   "source": [
    "pred = np.where(predictions > 0.5, 1, 0)\n",
    "pred.shape\n",
    "Id = np.array([Id])\n",
    "Id = Id.reshape(418,1)"
   ]
  },
  {
   "cell_type": "code",
   "execution_count": 70,
   "metadata": {},
   "outputs": [],
   "source": [
    "data_np = np.concatenate((Id, pred), axis = 1)"
   ]
  },
  {
   "cell_type": "code",
   "execution_count": 71,
   "metadata": {},
   "outputs": [],
   "source": [
    "#print(data_np.shape, data_np)"
   ]
  },
  {
   "cell_type": "code",
   "execution_count": 72,
   "metadata": {},
   "outputs": [],
   "source": [
    "out_data =  pd.DataFrame({'PassengerId' : data_np[:,0].tolist(),'Survived' : data_np[:,1].tolist() })"
   ]
  },
  {
   "cell_type": "code",
   "execution_count": 73,
   "metadata": {},
   "outputs": [
    {
     "name": "stdout",
     "output_type": "stream",
     "text": [
      "     PassengerId  Survived\n",
      "0            892         0\n",
      "1            893         0\n",
      "2            894         0\n",
      "3            895         0\n",
      "4            896         0\n",
      "5            897         0\n",
      "6            898         1\n",
      "7            899         0\n",
      "8            900         1\n",
      "9            901         0\n",
      "10           902         0\n",
      "11           903         0\n",
      "12           904         1\n",
      "13           905         0\n",
      "14           906         1\n",
      "15           907         1\n",
      "16           908         0\n",
      "17           909         0\n",
      "18           910         0\n",
      "19           911         0\n",
      "20           912         0\n",
      "21           913         0\n",
      "22           914         1\n",
      "23           915         0\n",
      "24           916         1\n",
      "25           917         0\n",
      "26           918         1\n",
      "27           919         0\n",
      "28           920         0\n",
      "29           921         0\n",
      "..           ...       ...\n",
      "388         1280         0\n",
      "389         1281         0\n",
      "390         1282         0\n",
      "391         1283         1\n",
      "392         1284         0\n",
      "393         1285         0\n",
      "394         1286         0\n",
      "395         1287         1\n",
      "396         1288         0\n",
      "397         1289         1\n",
      "398         1290         0\n",
      "399         1291         0\n",
      "400         1292         1\n",
      "401         1293         0\n",
      "402         1294         1\n",
      "403         1295         0\n",
      "404         1296         0\n",
      "405         1297         0\n",
      "406         1298         0\n",
      "407         1299         0\n",
      "408         1300         1\n",
      "409         1301         1\n",
      "410         1302         1\n",
      "411         1303         1\n",
      "412         1304         1\n",
      "413         1305         0\n",
      "414         1306         1\n",
      "415         1307         0\n",
      "416         1308         0\n",
      "417         1309         0\n",
      "\n",
      "[418 rows x 2 columns]\n"
     ]
    }
   ],
   "source": [
    "print(out_data)"
   ]
  },
  {
   "cell_type": "code",
   "execution_count": 74,
   "metadata": {},
   "outputs": [],
   "source": [
    "out_data.to_csv(\"test_.csv\", sep=',', encoding='utf-8', index = False)"
   ]
  }
 ],
 "metadata": {
  "kernelspec": {
   "display_name": "Python 3",
   "language": "python",
   "name": "python3"
  },
  "language_info": {
   "codemirror_mode": {
    "name": "ipython",
    "version": 3
   },
   "file_extension": ".py",
   "mimetype": "text/x-python",
   "name": "python",
   "nbconvert_exporter": "python",
   "pygments_lexer": "ipython3",
   "version": "3.5.5"
  }
 },
 "nbformat": 4,
 "nbformat_minor": 2
}
